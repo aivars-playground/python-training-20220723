{
 "cells": [
  {
   "cell_type": "markdown",
   "metadata": {},
   "source": [
    "pdm install\n",
    "scrapy startproject scraper\n",
    "scrapy genspider dataset catalog.data.gov"
   ]
  },
  {
   "cell_type": "markdown",
   "metadata": {},
   "source": [
    "```\n",
    "scrapy shell https://catalog.data.gov/dataset\n",
    "In [2]: len(response.css(\".dataset-content\"))\n",
    "Out[2]: 20\n",
    "\n",
    "In [5]: dataset = response.css(\".dataset-content\")[0]\n",
    "\n",
    "In [6]: dataset.css(\"h3.dataset-heading > a::text\")\n",
    "Out[6]: [<Selector xpath=\"descendant-or-self::h3[@class and contains(concat(' ', normalize-space(@class), ' '), ' dataset-heading ')]/a/text()\" data='sand_oha - Overall Hazard Assessment ...'>]\n",
    "\n",
    "```\n",
    "\n",
    "check https://catalog.data.gov/dataset, there are 20 items"
   ]
  },
  {
   "cell_type": "code",
   "execution_count": null,
   "metadata": {},
   "outputs": [],
   "source": [
    "%%bash\n",
    "scrapy crawl dataset"
   ]
  },
  {
   "cell_type": "markdown",
   "metadata": {},
   "source": [
    "dataset is spider name created earlier (no py extension)\n",
    "\n",
    "\n"
   ]
  },
  {
   "cell_type": "markdown",
   "metadata": {},
   "source": []
  }
 ],
 "metadata": {
  "kernelspec": {
   "display_name": "Python 3.10.6 ('.venv': venv)",
   "language": "python",
   "name": "python3"
  },
  "language_info": {
   "codemirror_mode": {
    "name": "ipython",
    "version": 3
   },
   "file_extension": ".py",
   "mimetype": "text/x-python",
   "name": "python",
   "nbconvert_exporter": "python",
   "pygments_lexer": "ipython3",
   "version": "3.10.6"
  },
  "orig_nbformat": 4,
  "vscode": {
   "interpreter": {
    "hash": "342002c50e81197444ecde6e5ab9521a69ecf4e4ddc3082705096cc13f2e664d"
   }
  }
 },
 "nbformat": 4,
 "nbformat_minor": 2
}
