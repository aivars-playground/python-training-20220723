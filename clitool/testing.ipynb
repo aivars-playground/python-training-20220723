{
 "cells": [
  {
   "cell_type": "code",
   "execution_count": 1,
   "metadata": {},
   "outputs": [],
   "source": [
    "%load_ext autoreload\n",
    "%autoreload 2"
   ]
  },
  {
   "cell_type": "code",
   "execution_count": 3,
   "metadata": {},
   "outputs": [
    {
     "name": "stdout",
     "output_type": "stream",
     "text": [
      "Namespace(path='outfile.json', format='json')\n"
     ]
    }
   ],
   "source": [
    "from clitool import cli\n",
    "\n",
    "parser = cli.create_parser()\n",
    "args = parser.parse_args(['--path','outfile.json','--format','JsoN'])\n",
    "print(args)"
   ]
  },
  {
   "cell_type": "code",
   "execution_count": null,
   "metadata": {},
   "outputs": [],
   "source": [
    "from clitool import users\n",
    "\n",
    "users.fetch_users()"
   ]
  },
  {
   "cell_type": "code",
   "execution_count": 4,
   "metadata": {},
   "outputs": [],
   "source": [
    "from clitool import export\n",
    "\n",
    "file = open('.ignoreme/export.json','w')\n",
    "users = [{'name': 'vscode', 'id': 1000, 'home': '/home/vscode', 'shell': '/bin/bash'}]\n",
    "export.to_json(file,users)"
   ]
  },
  {
   "cell_type": "code",
   "execution_count": 8,
   "metadata": {},
   "outputs": [],
   "source": [
    "from clitool import export\n",
    "\n",
    "file = open('.ignoreme/export.csv','w')\n",
    "users = [{'name': 'vscode', 'id': 1000, 'home': '/home/vscode', 'shell': '/bin/bash'}]\n",
    "export.to_csv(file,users)"
   ]
  }
 ],
 "metadata": {
  "kernelspec": {
   "display_name": "Python 3.9.12 ('base')",
   "language": "python",
   "name": "python3"
  },
  "language_info": {
   "codemirror_mode": {
    "name": "ipython",
    "version": 3
   },
   "file_extension": ".py",
   "mimetype": "text/x-python",
   "name": "python",
   "nbconvert_exporter": "python",
   "pygments_lexer": "ipython3",
   "version": "3.9.12"
  },
  "orig_nbformat": 4,
  "vscode": {
   "interpreter": {
    "hash": "63aeac27475015421e7df4e5c314eed8df35753dad26edf7debfb8ba47789dce"
   }
  }
 },
 "nbformat": 4,
 "nbformat_minor": 2
}
