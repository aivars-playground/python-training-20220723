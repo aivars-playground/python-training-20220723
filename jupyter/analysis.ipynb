{
 "cells": [
  {
   "cell_type": "code",
   "execution_count": null,
   "metadata": {},
   "outputs": [],
   "source": [
    "!wget https://gist.githubusercontent.com/astrofrog/b29141f2b39bb2dfe7ce/raw/c9334a579b21ad69a24696480ddf05678369fc41/earthquakes.csv"
   ]
  },
  {
   "cell_type": "code",
   "execution_count": 3,
   "metadata": {},
   "outputs": [],
   "source": [
    "import numpy as np\n",
    "import pandas as pd"
   ]
  },
  {
   "cell_type": "code",
   "execution_count": 82,
   "metadata": {},
   "outputs": [],
   "source": [
    "df = pd.read_csv(\"earthquakes.csv\")"
   ]
  },
  {
   "cell_type": "code",
   "execution_count": 7,
   "metadata": {},
   "outputs": [
    {
     "data": {
      "text/html": [
       "<div>\n",
       "<style scoped>\n",
       "    .dataframe tbody tr th:only-of-type {\n",
       "        vertical-align: middle;\n",
       "    }\n",
       "\n",
       "    .dataframe tbody tr th {\n",
       "        vertical-align: top;\n",
       "    }\n",
       "\n",
       "    .dataframe thead th {\n",
       "        text-align: right;\n",
       "    }\n",
       "</style>\n",
       "<table border=\"1\" class=\"dataframe\">\n",
       "  <thead>\n",
       "    <tr style=\"text-align: right;\">\n",
       "      <th></th>\n",
       "      <th>time</th>\n",
       "      <th>latitude</th>\n",
       "      <th>longitude</th>\n",
       "      <th>depth</th>\n",
       "      <th>mag</th>\n",
       "      <th>magType</th>\n",
       "      <th>nst</th>\n",
       "      <th>gap</th>\n",
       "      <th>dmin</th>\n",
       "      <th>rms</th>\n",
       "      <th>net</th>\n",
       "      <th>id</th>\n",
       "      <th>updated</th>\n",
       "      <th>place</th>\n",
       "      <th>type</th>\n",
       "    </tr>\n",
       "  </thead>\n",
       "  <tbody>\n",
       "    <tr>\n",
       "      <th>0</th>\n",
       "      <td>2014-09-10T18:28:00.300Z</td>\n",
       "      <td>52.111</td>\n",
       "      <td>178.2967</td>\n",
       "      <td>121.25</td>\n",
       "      <td>5.3</td>\n",
       "      <td>mb</td>\n",
       "      <td>NaN</td>\n",
       "      <td>41.0</td>\n",
       "      <td>0.964</td>\n",
       "      <td>0.79</td>\n",
       "      <td>us</td>\n",
       "      <td>usb000sb5e</td>\n",
       "      <td>2014-09-10T19:00:35.547Z</td>\n",
       "      <td>23km NW of Little Sitkin Island, Alaska</td>\n",
       "      <td>earthquake</td>\n",
       "    </tr>\n",
       "  </tbody>\n",
       "</table>\n",
       "</div>"
      ],
      "text/plain": [
       "                       time  latitude  longitude   depth  mag magType  nst  \\\n",
       "0  2014-09-10T18:28:00.300Z    52.111   178.2967  121.25  5.3      mb  NaN   \n",
       "\n",
       "    gap   dmin   rms net          id                   updated  \\\n",
       "0  41.0  0.964  0.79  us  usb000sb5e  2014-09-10T19:00:35.547Z   \n",
       "\n",
       "                                     place        type  \n",
       "0  23km NW of Little Sitkin Island, Alaska  earthquake  "
      ]
     },
     "execution_count": 7,
     "metadata": {},
     "output_type": "execute_result"
    }
   ],
   "source": [
    "df.head(1)"
   ]
  },
  {
   "cell_type": "code",
   "execution_count": 42,
   "metadata": {},
   "outputs": [],
   "source": [
    "df[\"lat:lon\"] = df['latitude'].apply(str) + ':' + df['longitude'].apply(str)"
   ]
  },
  {
   "cell_type": "code",
   "execution_count": 43,
   "metadata": {},
   "outputs": [
    {
     "data": {
      "text/plain": [
       "0    52.111:178.2967\n",
       "Name: lat:lon, dtype: object"
      ]
     },
     "execution_count": 43,
     "metadata": {},
     "output_type": "execute_result"
    }
   ],
   "source": [
    "df[\"lat:lon\"].head(1)"
   ]
  },
  {
   "cell_type": "code",
   "execution_count": 46,
   "metadata": {},
   "outputs": [
    {
     "data": {
      "text/plain": [
       "count                         2858\n",
       "unique                        2858\n",
       "top       2014-09-10T18:28:00.300Z\n",
       "freq                             1\n",
       "Name: time, dtype: object"
      ]
     },
     "execution_count": 46,
     "metadata": {},
     "output_type": "execute_result"
    }
   ],
   "source": [
    "df['time'].describe()"
   ]
  },
  {
   "cell_type": "code",
   "execution_count": 83,
   "metadata": {},
   "outputs": [],
   "source": [
    "df['datatime'] = pd.to_datetime(df['time'])"
   ]
  },
  {
   "cell_type": "code",
   "execution_count": 49,
   "metadata": {},
   "outputs": [
    {
     "data": {
      "text/plain": [
       "0   2014-09-10 18:28:00.300000+00:00\n",
       "Name: datatime, dtype: datetime64[ns, UTC]"
      ]
     },
     "execution_count": 49,
     "metadata": {},
     "output_type": "execute_result"
    }
   ],
   "source": [
    "df['datatime'].head(1)"
   ]
  },
  {
   "cell_type": "code",
   "execution_count": 54,
   "metadata": {},
   "outputs": [
    {
     "data": {
      "text/plain": [
       "'Wednesday'"
      ]
     },
     "execution_count": 54,
     "metadata": {},
     "output_type": "execute_result"
    }
   ],
   "source": [
    "date = \"2014-09-10T18:28:00.300Z\"\n",
    "date_obj = pd.to_datetime(date)\n",
    "date_obj.strftime('%A')"
   ]
  },
  {
   "cell_type": "code",
   "execution_count": 88,
   "metadata": {},
   "outputs": [
    {
     "data": {
      "text/plain": [
       "'Wednesday September 20 09/10/14'"
      ]
     },
     "execution_count": 88,
     "metadata": {},
     "output_type": "execute_result"
    }
   ],
   "source": [
    "df['datatime'][0].strftime('%A %B %C %D')"
   ]
  },
  {
   "cell_type": "code",
   "execution_count": 107,
   "metadata": {},
   "outputs": [
    {
     "data": {
      "text/html": [
       "<div>\n",
       "<style scoped>\n",
       "    .dataframe tbody tr th:only-of-type {\n",
       "        vertical-align: middle;\n",
       "    }\n",
       "\n",
       "    .dataframe tbody tr th {\n",
       "        vertical-align: top;\n",
       "    }\n",
       "\n",
       "    .dataframe thead th {\n",
       "        text-align: right;\n",
       "    }\n",
       "</style>\n",
       "<table border=\"1\" class=\"dataframe\">\n",
       "  <thead>\n",
       "    <tr style=\"text-align: right;\">\n",
       "      <th></th>\n",
       "      <th>time</th>\n",
       "      <th>latitude</th>\n",
       "      <th>longitude</th>\n",
       "      <th>depth</th>\n",
       "      <th>mag</th>\n",
       "      <th>magType</th>\n",
       "      <th>nst</th>\n",
       "      <th>gap</th>\n",
       "      <th>dmin</th>\n",
       "      <th>rms</th>\n",
       "      <th>net</th>\n",
       "      <th>id</th>\n",
       "      <th>updated</th>\n",
       "      <th>place</th>\n",
       "      <th>type</th>\n",
       "      <th>inprecise</th>\n",
       "    </tr>\n",
       "    <tr>\n",
       "      <th>datatime</th>\n",
       "      <th></th>\n",
       "      <th></th>\n",
       "      <th></th>\n",
       "      <th></th>\n",
       "      <th></th>\n",
       "      <th></th>\n",
       "      <th></th>\n",
       "      <th></th>\n",
       "      <th></th>\n",
       "      <th></th>\n",
       "      <th></th>\n",
       "      <th></th>\n",
       "      <th></th>\n",
       "      <th></th>\n",
       "      <th></th>\n",
       "      <th></th>\n",
       "    </tr>\n",
       "  </thead>\n",
       "  <tbody>\n",
       "    <tr>\n",
       "      <th>2014-09-10 18:28:00.300000+00:00</th>\n",
       "      <td>2014-09-10T18:28:00.300Z</td>\n",
       "      <td>52.1110</td>\n",
       "      <td>178.2967</td>\n",
       "      <td>121.25</td>\n",
       "      <td>5.3</td>\n",
       "      <td>mb</td>\n",
       "      <td>NaN</td>\n",
       "      <td>41.0</td>\n",
       "      <td>0.964</td>\n",
       "      <td>0.79</td>\n",
       "      <td>us</td>\n",
       "      <td>usb000sb5e</td>\n",
       "      <td>2014-09-10T19:00:35.547Z</td>\n",
       "      <td>23km NW of Little Sitkin Island, Alaska</td>\n",
       "      <td>earthquake</td>\n",
       "      <td>121</td>\n",
       "    </tr>\n",
       "    <tr>\n",
       "      <th>2014-09-10 16:31:59.480000+00:00</th>\n",
       "      <td>2014-09-10T16:31:59.480Z</td>\n",
       "      <td>-24.6524</td>\n",
       "      <td>179.1728</td>\n",
       "      <td>528.24</td>\n",
       "      <td>5.3</td>\n",
       "      <td>mb</td>\n",
       "      <td>NaN</td>\n",
       "      <td>88.0</td>\n",
       "      <td>5.254</td>\n",
       "      <td>0.86</td>\n",
       "      <td>us</td>\n",
       "      <td>usb000sb48</td>\n",
       "      <td>2014-09-10T17:19:15.617Z</td>\n",
       "      <td>South of the Fiji Islands</td>\n",
       "      <td>earthquake</td>\n",
       "      <td>528</td>\n",
       "    </tr>\n",
       "    <tr>\n",
       "      <th>2014-09-10 16:01:48+00:00</th>\n",
       "      <td>2014-09-10T16:01:48.000Z</td>\n",
       "      <td>62.5897</td>\n",
       "      <td>-152.0797</td>\n",
       "      <td>5.00</td>\n",
       "      <td>4.2</td>\n",
       "      <td>ml</td>\n",
       "      <td>NaN</td>\n",
       "      <td>NaN</td>\n",
       "      <td>NaN</td>\n",
       "      <td>0.78</td>\n",
       "      <td>ak</td>\n",
       "      <td>ak11385482</td>\n",
       "      <td>2014-09-10T16:31:10.413Z</td>\n",
       "      <td>105km WNW of Talkeetna, Alaska</td>\n",
       "      <td>earthquake</td>\n",
       "      <td>5</td>\n",
       "    </tr>\n",
       "    <tr>\n",
       "      <th>2014-09-10 14:52:49.860000+00:00</th>\n",
       "      <td>2014-09-10T14:52:49.860Z</td>\n",
       "      <td>12.9885</td>\n",
       "      <td>144.6495</td>\n",
       "      <td>51.75</td>\n",
       "      <td>4.8</td>\n",
       "      <td>mb</td>\n",
       "      <td>NaN</td>\n",
       "      <td>105.0</td>\n",
       "      <td>0.634</td>\n",
       "      <td>0.72</td>\n",
       "      <td>us</td>\n",
       "      <td>usb000sb3j</td>\n",
       "      <td>2014-09-10T19:04:47.878Z</td>\n",
       "      <td>30km S of Merizo Village, Guam</td>\n",
       "      <td>earthquake</td>\n",
       "      <td>51</td>\n",
       "    </tr>\n",
       "    <tr>\n",
       "      <th>2014-09-10 14:08:21.290000+00:00</th>\n",
       "      <td>2014-09-10T14:08:21.290Z</td>\n",
       "      <td>36.5759</td>\n",
       "      <td>69.0370</td>\n",
       "      <td>52.39</td>\n",
       "      <td>4.0</td>\n",
       "      <td>mb</td>\n",
       "      <td>NaN</td>\n",
       "      <td>71.0</td>\n",
       "      <td>1.351</td>\n",
       "      <td>0.54</td>\n",
       "      <td>us</td>\n",
       "      <td>usb000sb2c</td>\n",
       "      <td>2014-09-10T15:29:02.360Z</td>\n",
       "      <td>13km SSW of Khanabad, Afghanistan</td>\n",
       "      <td>earthquake</td>\n",
       "      <td>52</td>\n",
       "    </tr>\n",
       "    <tr>\n",
       "      <th>...</th>\n",
       "      <td>...</td>\n",
       "      <td>...</td>\n",
       "      <td>...</td>\n",
       "      <td>...</td>\n",
       "      <td>...</td>\n",
       "      <td>...</td>\n",
       "      <td>...</td>\n",
       "      <td>...</td>\n",
       "      <td>...</td>\n",
       "      <td>...</td>\n",
       "      <td>...</td>\n",
       "      <td>...</td>\n",
       "      <td>...</td>\n",
       "      <td>...</td>\n",
       "      <td>...</td>\n",
       "      <td>...</td>\n",
       "    </tr>\n",
       "    <tr>\n",
       "      <th>2014-07-03 15:17:08.080000+00:00</th>\n",
       "      <td>2014-07-03T15:17:08.080Z</td>\n",
       "      <td>-55.2698</td>\n",
       "      <td>-28.1136</td>\n",
       "      <td>28.59</td>\n",
       "      <td>4.4</td>\n",
       "      <td>mb</td>\n",
       "      <td>NaN</td>\n",
       "      <td>95.0</td>\n",
       "      <td>4.948</td>\n",
       "      <td>0.99</td>\n",
       "      <td>us</td>\n",
       "      <td>usb000rvyq</td>\n",
       "      <td>2014-08-07T21:56:27.982Z</td>\n",
       "      <td>169km NNW of Visokoi Island,</td>\n",
       "      <td>earthquake</td>\n",
       "      <td>28</td>\n",
       "    </tr>\n",
       "    <tr>\n",
       "      <th>2014-07-03 15:10:34.640000+00:00</th>\n",
       "      <td>2014-07-03T15:10:34.640Z</td>\n",
       "      <td>-5.8425</td>\n",
       "      <td>102.9363</td>\n",
       "      <td>45.05</td>\n",
       "      <td>4.4</td>\n",
       "      <td>mb</td>\n",
       "      <td>NaN</td>\n",
       "      <td>182.0</td>\n",
       "      <td>1.472</td>\n",
       "      <td>0.71</td>\n",
       "      <td>us</td>\n",
       "      <td>usb000rvy4</td>\n",
       "      <td>2014-08-07T22:09:09.295Z</td>\n",
       "      <td>127km SW of Kuripan, Indonesia</td>\n",
       "      <td>earthquake</td>\n",
       "      <td>45</td>\n",
       "    </tr>\n",
       "    <tr>\n",
       "      <th>2014-07-03 14:43:41.600000+00:00</th>\n",
       "      <td>2014-07-03T14:43:41.600Z</td>\n",
       "      <td>36.7556</td>\n",
       "      <td>-98.0476</td>\n",
       "      <td>5.00</td>\n",
       "      <td>3.1</td>\n",
       "      <td>ml</td>\n",
       "      <td>NaN</td>\n",
       "      <td>98.0</td>\n",
       "      <td>NaN</td>\n",
       "      <td>0.61</td>\n",
       "      <td>us</td>\n",
       "      <td>usc000rpy8</td>\n",
       "      <td>2014-08-09T21:23:27.000Z</td>\n",
       "      <td>27km E of Cherokee, Oklahoma</td>\n",
       "      <td>earthquake</td>\n",
       "      <td>5</td>\n",
       "    </tr>\n",
       "    <tr>\n",
       "      <th>2014-07-03 14:34:02.810000+00:00</th>\n",
       "      <td>2014-07-03T14:34:02.810Z</td>\n",
       "      <td>-22.3635</td>\n",
       "      <td>-179.4592</td>\n",
       "      <td>597.36</td>\n",
       "      <td>4.3</td>\n",
       "      <td>mb</td>\n",
       "      <td>NaN</td>\n",
       "      <td>108.0</td>\n",
       "      <td>5.155</td>\n",
       "      <td>0.70</td>\n",
       "      <td>us</td>\n",
       "      <td>usb000rvy9</td>\n",
       "      <td>2014-08-09T21:03:54.000Z</td>\n",
       "      <td>205km SSW of Ndoi Island, Fiji</td>\n",
       "      <td>earthquake</td>\n",
       "      <td>597</td>\n",
       "    </tr>\n",
       "    <tr>\n",
       "      <th>2014-07-03 14:23:43.550000+00:00</th>\n",
       "      <td>2014-07-03T14:23:43.550Z</td>\n",
       "      <td>55.2114</td>\n",
       "      <td>166.9672</td>\n",
       "      <td>10.00</td>\n",
       "      <td>4.5</td>\n",
       "      <td>mb</td>\n",
       "      <td>NaN</td>\n",
       "      <td>62.0</td>\n",
       "      <td>4.890</td>\n",
       "      <td>0.89</td>\n",
       "      <td>us</td>\n",
       "      <td>usc000rpy1</td>\n",
       "      <td>2014-08-23T14:52:53.000Z</td>\n",
       "      <td>62km E of Nikol'skoye, Russia</td>\n",
       "      <td>earthquake</td>\n",
       "      <td>10</td>\n",
       "    </tr>\n",
       "  </tbody>\n",
       "</table>\n",
       "<p>2858 rows × 16 columns</p>\n",
       "</div>"
      ],
      "text/plain": [
       "                                                      time  latitude  \\\n",
       "datatime                                                               \n",
       "2014-09-10 18:28:00.300000+00:00  2014-09-10T18:28:00.300Z   52.1110   \n",
       "2014-09-10 16:31:59.480000+00:00  2014-09-10T16:31:59.480Z  -24.6524   \n",
       "2014-09-10 16:01:48+00:00         2014-09-10T16:01:48.000Z   62.5897   \n",
       "2014-09-10 14:52:49.860000+00:00  2014-09-10T14:52:49.860Z   12.9885   \n",
       "2014-09-10 14:08:21.290000+00:00  2014-09-10T14:08:21.290Z   36.5759   \n",
       "...                                                    ...       ...   \n",
       "2014-07-03 15:17:08.080000+00:00  2014-07-03T15:17:08.080Z  -55.2698   \n",
       "2014-07-03 15:10:34.640000+00:00  2014-07-03T15:10:34.640Z   -5.8425   \n",
       "2014-07-03 14:43:41.600000+00:00  2014-07-03T14:43:41.600Z   36.7556   \n",
       "2014-07-03 14:34:02.810000+00:00  2014-07-03T14:34:02.810Z  -22.3635   \n",
       "2014-07-03 14:23:43.550000+00:00  2014-07-03T14:23:43.550Z   55.2114   \n",
       "\n",
       "                                  longitude   depth  mag magType  nst    gap  \\\n",
       "datatime                                                                       \n",
       "2014-09-10 18:28:00.300000+00:00   178.2967  121.25  5.3      mb  NaN   41.0   \n",
       "2014-09-10 16:31:59.480000+00:00   179.1728  528.24  5.3      mb  NaN   88.0   \n",
       "2014-09-10 16:01:48+00:00         -152.0797    5.00  4.2      ml  NaN    NaN   \n",
       "2014-09-10 14:52:49.860000+00:00   144.6495   51.75  4.8      mb  NaN  105.0   \n",
       "2014-09-10 14:08:21.290000+00:00    69.0370   52.39  4.0      mb  NaN   71.0   \n",
       "...                                     ...     ...  ...     ...  ...    ...   \n",
       "2014-07-03 15:17:08.080000+00:00   -28.1136   28.59  4.4      mb  NaN   95.0   \n",
       "2014-07-03 15:10:34.640000+00:00   102.9363   45.05  4.4      mb  NaN  182.0   \n",
       "2014-07-03 14:43:41.600000+00:00   -98.0476    5.00  3.1      ml  NaN   98.0   \n",
       "2014-07-03 14:34:02.810000+00:00  -179.4592  597.36  4.3      mb  NaN  108.0   \n",
       "2014-07-03 14:23:43.550000+00:00   166.9672   10.00  4.5      mb  NaN   62.0   \n",
       "\n",
       "                                   dmin   rms net          id  \\\n",
       "datatime                                                        \n",
       "2014-09-10 18:28:00.300000+00:00  0.964  0.79  us  usb000sb5e   \n",
       "2014-09-10 16:31:59.480000+00:00  5.254  0.86  us  usb000sb48   \n",
       "2014-09-10 16:01:48+00:00           NaN  0.78  ak  ak11385482   \n",
       "2014-09-10 14:52:49.860000+00:00  0.634  0.72  us  usb000sb3j   \n",
       "2014-09-10 14:08:21.290000+00:00  1.351  0.54  us  usb000sb2c   \n",
       "...                                 ...   ...  ..         ...   \n",
       "2014-07-03 15:17:08.080000+00:00  4.948  0.99  us  usb000rvyq   \n",
       "2014-07-03 15:10:34.640000+00:00  1.472  0.71  us  usb000rvy4   \n",
       "2014-07-03 14:43:41.600000+00:00    NaN  0.61  us  usc000rpy8   \n",
       "2014-07-03 14:34:02.810000+00:00  5.155  0.70  us  usb000rvy9   \n",
       "2014-07-03 14:23:43.550000+00:00  4.890  0.89  us  usc000rpy1   \n",
       "\n",
       "                                                   updated  \\\n",
       "datatime                                                     \n",
       "2014-09-10 18:28:00.300000+00:00  2014-09-10T19:00:35.547Z   \n",
       "2014-09-10 16:31:59.480000+00:00  2014-09-10T17:19:15.617Z   \n",
       "2014-09-10 16:01:48+00:00         2014-09-10T16:31:10.413Z   \n",
       "2014-09-10 14:52:49.860000+00:00  2014-09-10T19:04:47.878Z   \n",
       "2014-09-10 14:08:21.290000+00:00  2014-09-10T15:29:02.360Z   \n",
       "...                                                    ...   \n",
       "2014-07-03 15:17:08.080000+00:00  2014-08-07T21:56:27.982Z   \n",
       "2014-07-03 15:10:34.640000+00:00  2014-08-07T22:09:09.295Z   \n",
       "2014-07-03 14:43:41.600000+00:00  2014-08-09T21:23:27.000Z   \n",
       "2014-07-03 14:34:02.810000+00:00  2014-08-09T21:03:54.000Z   \n",
       "2014-07-03 14:23:43.550000+00:00  2014-08-23T14:52:53.000Z   \n",
       "\n",
       "                                                                    place  \\\n",
       "datatime                                                                    \n",
       "2014-09-10 18:28:00.300000+00:00  23km NW of Little Sitkin Island, Alaska   \n",
       "2014-09-10 16:31:59.480000+00:00                South of the Fiji Islands   \n",
       "2014-09-10 16:01:48+00:00                  105km WNW of Talkeetna, Alaska   \n",
       "2014-09-10 14:52:49.860000+00:00           30km S of Merizo Village, Guam   \n",
       "2014-09-10 14:08:21.290000+00:00        13km SSW of Khanabad, Afghanistan   \n",
       "...                                                                   ...   \n",
       "2014-07-03 15:17:08.080000+00:00            169km NNW of Visokoi Island,    \n",
       "2014-07-03 15:10:34.640000+00:00           127km SW of Kuripan, Indonesia   \n",
       "2014-07-03 14:43:41.600000+00:00             27km E of Cherokee, Oklahoma   \n",
       "2014-07-03 14:34:02.810000+00:00           205km SSW of Ndoi Island, Fiji   \n",
       "2014-07-03 14:23:43.550000+00:00            62km E of Nikol'skoye, Russia   \n",
       "\n",
       "                                        type  inprecise  \n",
       "datatime                                                 \n",
       "2014-09-10 18:28:00.300000+00:00  earthquake        121  \n",
       "2014-09-10 16:31:59.480000+00:00  earthquake        528  \n",
       "2014-09-10 16:01:48+00:00         earthquake          5  \n",
       "2014-09-10 14:52:49.860000+00:00  earthquake         51  \n",
       "2014-09-10 14:08:21.290000+00:00  earthquake         52  \n",
       "...                                      ...        ...  \n",
       "2014-07-03 15:17:08.080000+00:00  earthquake         28  \n",
       "2014-07-03 15:10:34.640000+00:00  earthquake         45  \n",
       "2014-07-03 14:43:41.600000+00:00  earthquake          5  \n",
       "2014-07-03 14:34:02.810000+00:00  earthquake        597  \n",
       "2014-07-03 14:23:43.550000+00:00  earthquake         10  \n",
       "\n",
       "[2858 rows x 16 columns]"
      ]
     },
     "execution_count": 107,
     "metadata": {},
     "output_type": "execute_result"
    }
   ],
   "source": [
    "df.set_index(['datatime'])"
   ]
  },
  {
   "cell_type": "code",
   "execution_count": 108,
   "metadata": {},
   "outputs": [
    {
     "data": {
      "text/plain": [
       "time                      object\n",
       "latitude                 float64\n",
       "longitude                float64\n",
       "depth                    float64\n",
       "mag                      float64\n",
       "magType                   object\n",
       "nst                      float64\n",
       "gap                      float64\n",
       "dmin                     float64\n",
       "rms                      float64\n",
       "net                       object\n",
       "id                        object\n",
       "updated                   object\n",
       "place                     object\n",
       "type                      object\n",
       "datatime     datetime64[ns, UTC]\n",
       "inprecise                  int64\n",
       "dtype: object"
      ]
     },
     "execution_count": 108,
     "metadata": {},
     "output_type": "execute_result"
    }
   ],
   "source": [
    "df.dtypes"
   ]
  },
  {
   "cell_type": "code",
   "execution_count": 91,
   "metadata": {},
   "outputs": [
    {
     "data": {
      "text/plain": [
       "time                      object\n",
       "latitude                 float64\n",
       "longitude                float64\n",
       "depth                    float64\n",
       "mag                      float64\n",
       "magType                   object\n",
       "nst                      float64\n",
       "gap                      float64\n",
       "dmin                     float64\n",
       "rms                      float64\n",
       "net                       object\n",
       "id                        object\n",
       "updated                   object\n",
       "place                     object\n",
       "type                      object\n",
       "datatime     datetime64[ns, UTC]\n",
       "inprecise                  int64\n",
       "dtype: object"
      ]
     },
     "execution_count": 91,
     "metadata": {},
     "output_type": "execute_result"
    }
   ],
   "source": [
    "df['inprecise'] = df['depth'].astype(int)\n",
    "df.dtypes"
   ]
  },
  {
   "cell_type": "code",
   "execution_count": 122,
   "metadata": {},
   "outputs": [],
   "source": [
    "df2 = pd.read_csv(\"earthquakes.csv\", index_col=0)"
   ]
  },
  {
   "cell_type": "code",
   "execution_count": 126,
   "metadata": {},
   "outputs": [
    {
     "data": {
      "text/plain": [
       "dtype('O')"
      ]
     },
     "execution_count": 126,
     "metadata": {},
     "output_type": "execute_result"
    }
   ],
   "source": [
    "df2.index.dtype"
   ]
  },
  {
   "cell_type": "code",
   "execution_count": 127,
   "metadata": {},
   "outputs": [],
   "source": [
    "df2.index = pd.to_datetime(df2.index)"
   ]
  },
  {
   "cell_type": "code",
   "execution_count": 128,
   "metadata": {},
   "outputs": [
    {
     "data": {
      "text/plain": [
       "datetime64[ns, UTC]"
      ]
     },
     "execution_count": 128,
     "metadata": {},
     "output_type": "execute_result"
    }
   ],
   "source": [
    "df2.index.dtype"
   ]
  },
  {
   "cell_type": "code",
   "execution_count": 129,
   "metadata": {},
   "outputs": [
    {
     "name": "stdout",
     "output_type": "stream",
     "text": [
      "<class 'pandas.core.frame.DataFrame'>\n",
      "DatetimeIndex: 2858 entries, 2014-09-10 18:28:00.300000+00:00 to 2014-07-03 14:23:43.550000+00:00\n",
      "Data columns (total 14 columns):\n",
      " #   Column     Non-Null Count  Dtype  \n",
      "---  ------     --------------  -----  \n",
      " 0   latitude   2858 non-null   float64\n",
      " 1   longitude  2858 non-null   float64\n",
      " 2   depth      2858 non-null   float64\n",
      " 3   mag        2857 non-null   float64\n",
      " 4   magType    2857 non-null   object \n",
      " 5   nst        255 non-null    float64\n",
      " 6   gap        2410 non-null   float64\n",
      " 7   dmin       2350 non-null   float64\n",
      " 8   rms        2857 non-null   float64\n",
      " 9   net        2858 non-null   object \n",
      " 10  id         2858 non-null   object \n",
      " 11  updated    2858 non-null   object \n",
      " 12  place      2858 non-null   object \n",
      " 13  type       2858 non-null   object \n",
      "dtypes: float64(8), object(6)\n",
      "memory usage: 334.9+ KB\n"
     ]
    }
   ],
   "source": [
    "df2.info()"
   ]
  },
  {
   "cell_type": "code",
   "execution_count": 136,
   "metadata": {},
   "outputs": [],
   "source": [
    "df2.dropna(axis  =1, inplace=True)"
   ]
  },
  {
   "cell_type": "code",
   "execution_count": 137,
   "metadata": {},
   "outputs": [
    {
     "name": "stdout",
     "output_type": "stream",
     "text": [
      "<class 'pandas.core.frame.DataFrame'>\n",
      "DatetimeIndex: 2858 entries, 2014-09-10 18:28:00.300000+00:00 to 2014-07-03 14:23:43.550000+00:00\n",
      "Data columns (total 8 columns):\n",
      " #   Column     Non-Null Count  Dtype  \n",
      "---  ------     --------------  -----  \n",
      " 0   latitude   2858 non-null   float64\n",
      " 1   longitude  2858 non-null   float64\n",
      " 2   depth      2858 non-null   float64\n",
      " 3   net        2858 non-null   object \n",
      " 4   id         2858 non-null   object \n",
      " 5   updated    2858 non-null   object \n",
      " 6   place      2858 non-null   object \n",
      " 7   type       2858 non-null   object \n",
      "dtypes: float64(3), object(5)\n",
      "memory usage: 201.0+ KB\n"
     ]
    }
   ],
   "source": [
    "df2.info()"
   ]
  },
  {
   "cell_type": "code",
   "execution_count": 139,
   "metadata": {},
   "outputs": [],
   "source": [
    "df3 = df2[['latitude','longitude','type','depth']]"
   ]
  },
  {
   "cell_type": "code",
   "execution_count": 140,
   "metadata": {},
   "outputs": [
    {
     "data": {
      "text/html": [
       "<div>\n",
       "<style scoped>\n",
       "    .dataframe tbody tr th:only-of-type {\n",
       "        vertical-align: middle;\n",
       "    }\n",
       "\n",
       "    .dataframe tbody tr th {\n",
       "        vertical-align: top;\n",
       "    }\n",
       "\n",
       "    .dataframe thead th {\n",
       "        text-align: right;\n",
       "    }\n",
       "</style>\n",
       "<table border=\"1\" class=\"dataframe\">\n",
       "  <thead>\n",
       "    <tr style=\"text-align: right;\">\n",
       "      <th></th>\n",
       "      <th>latitude</th>\n",
       "      <th>longitude</th>\n",
       "      <th>type</th>\n",
       "      <th>depth</th>\n",
       "    </tr>\n",
       "    <tr>\n",
       "      <th>time</th>\n",
       "      <th></th>\n",
       "      <th></th>\n",
       "      <th></th>\n",
       "      <th></th>\n",
       "    </tr>\n",
       "  </thead>\n",
       "  <tbody>\n",
       "    <tr>\n",
       "      <th>2014-07-13 00:02:05.200000+00:00</th>\n",
       "      <td>14.4960</td>\n",
       "      <td>-92.6900</td>\n",
       "      <td>earthquake</td>\n",
       "      <td>33.00</td>\n",
       "    </tr>\n",
       "    <tr>\n",
       "      <th>2014-07-11 11:56:39.990000+00:00</th>\n",
       "      <td>29.5886</td>\n",
       "      <td>103.0098</td>\n",
       "      <td>earthquake</td>\n",
       "      <td>10.00</td>\n",
       "    </tr>\n",
       "    <tr>\n",
       "      <th>2014-07-24 13:58:41.990000+00:00</th>\n",
       "      <td>13.9464</td>\n",
       "      <td>145.2192</td>\n",
       "      <td>earthquake</td>\n",
       "      <td>103.48</td>\n",
       "    </tr>\n",
       "    <tr>\n",
       "      <th>2014-07-20 02:49:44.590000+00:00</th>\n",
       "      <td>-3.5852</td>\n",
       "      <td>143.8877</td>\n",
       "      <td>earthquake</td>\n",
       "      <td>40.89</td>\n",
       "    </tr>\n",
       "    <tr>\n",
       "      <th>2014-07-29 07:42:41.540000+00:00</th>\n",
       "      <td>23.7831</td>\n",
       "      <td>94.4006</td>\n",
       "      <td>earthquake</td>\n",
       "      <td>41.30</td>\n",
       "    </tr>\n",
       "  </tbody>\n",
       "</table>\n",
       "</div>"
      ],
      "text/plain": [
       "                                  latitude  longitude        type   depth\n",
       "time                                                                     \n",
       "2014-07-13 00:02:05.200000+00:00   14.4960   -92.6900  earthquake   33.00\n",
       "2014-07-11 11:56:39.990000+00:00   29.5886   103.0098  earthquake   10.00\n",
       "2014-07-24 13:58:41.990000+00:00   13.9464   145.2192  earthquake  103.48\n",
       "2014-07-20 02:49:44.590000+00:00   -3.5852   143.8877  earthquake   40.89\n",
       "2014-07-29 07:42:41.540000+00:00   23.7831    94.4006  earthquake   41.30"
      ]
     },
     "execution_count": 140,
     "metadata": {},
     "output_type": "execute_result"
    }
   ],
   "source": [
    "df3.sample(5)"
   ]
  },
  {
   "cell_type": "code",
   "execution_count": 152,
   "metadata": {},
   "outputs": [
    {
     "data": {
      "text/plain": [
       "array(['earthquake', 'mining_explosion'], dtype=object)"
      ]
     },
     "execution_count": 152,
     "metadata": {},
     "output_type": "execute_result"
    }
   ],
   "source": [
    "df3.type.unique()"
   ]
  },
  {
   "cell_type": "code",
   "execution_count": 161,
   "metadata": {},
   "outputs": [
    {
     "data": {
      "text/plain": [
       "636.37"
      ]
     },
     "execution_count": 161,
     "metadata": {},
     "output_type": "execute_result"
    }
   ],
   "source": [
    "df3[df3.type == 'earthquake'].depth.max()"
   ]
  },
  {
   "cell_type": "code",
   "execution_count": 170,
   "metadata": {},
   "outputs": [
    {
     "data": {
      "text/plain": [
       "earthquake          2857\n",
       "mining_explosion       1\n",
       "Name: type, dtype: int64"
      ]
     },
     "execution_count": 170,
     "metadata": {},
     "output_type": "execute_result"
    }
   ],
   "source": [
    "df3.type.value_counts()"
   ]
  },
  {
   "cell_type": "code",
   "execution_count": 175,
   "metadata": {},
   "outputs": [
    {
     "data": {
      "text/plain": [
       "time\n",
       "2014-07-03 12:00:00+00:00    21\n",
       "2014-07-04 00:00:00+00:00    22\n",
       "2014-07-04 12:00:00+00:00    29\n",
       "2014-07-05 00:00:00+00:00    32\n",
       "2014-07-05 12:00:00+00:00    33\n",
       "                             ..\n",
       "2014-09-08 12:00:00+00:00    18\n",
       "2014-09-09 00:00:00+00:00     9\n",
       "2014-09-09 12:00:00+00:00    16\n",
       "2014-09-10 00:00:00+00:00    14\n",
       "2014-09-10 12:00:00+00:00     9\n",
       "Freq: 12H, Name: depth, Length: 139, dtype: int64"
      ]
     },
     "execution_count": 175,
     "metadata": {},
     "output_type": "execute_result"
    }
   ],
   "source": [
    "df3['depth'][df3.type == 'earthquake'].resample('12h').count()\n",
    "df3.depth[df3.type == 'earthquake'].resample('12h').count()\n"
   ]
  },
  {
   "cell_type": "code",
   "execution_count": 179,
   "metadata": {},
   "outputs": [
    {
     "name": "stdout",
     "output_type": "stream",
     "text": [
      "<class 'pandas.core.series.Series'>\n",
      "DatetimeIndex: 139 entries, 2014-07-03 12:00:00+00:00 to 2014-09-10 12:00:00+00:00\n",
      "Freq: 12H\n",
      "Series name: depth\n",
      "Non-Null Count  Dtype\n",
      "--------------  -----\n",
      "139 non-null    int64\n",
      "dtypes: int64(1)\n",
      "memory usage: 2.2 KB\n"
     ]
    }
   ],
   "source": [
    "df4 = df3.depth[df3.type == 'earthquake'].resample('12h').count()\n",
    "df4.info()"
   ]
  },
  {
   "cell_type": "code",
   "execution_count": 191,
   "metadata": {},
   "outputs": [
    {
     "data": {
      "text/html": [
       "<div>\n",
       "<style scoped>\n",
       "    .dataframe tbody tr th:only-of-type {\n",
       "        vertical-align: middle;\n",
       "    }\n",
       "\n",
       "    .dataframe tbody tr th {\n",
       "        vertical-align: top;\n",
       "    }\n",
       "\n",
       "    .dataframe thead th {\n",
       "        text-align: right;\n",
       "    }\n",
       "</style>\n",
       "<table border=\"1\" class=\"dataframe\">\n",
       "  <thead>\n",
       "    <tr style=\"text-align: right;\">\n",
       "      <th></th>\n",
       "      <th>latitude</th>\n",
       "      <th>longitude</th>\n",
       "      <th>type</th>\n",
       "      <th>depth</th>\n",
       "    </tr>\n",
       "    <tr>\n",
       "      <th>time</th>\n",
       "      <th></th>\n",
       "      <th></th>\n",
       "      <th></th>\n",
       "      <th></th>\n",
       "    </tr>\n",
       "  </thead>\n",
       "  <tbody>\n",
       "    <tr>\n",
       "      <th>2014-08-19 15:38:17.890000+00:00</th>\n",
       "      <td>-22.0549</td>\n",
       "      <td>-179.4757</td>\n",
       "      <td>earthquake</td>\n",
       "      <td>606.46</td>\n",
       "    </tr>\n",
       "    <tr>\n",
       "      <th>2014-08-16 07:52:57.400000+00:00</th>\n",
       "      <td>-21.4059</td>\n",
       "      <td>-179.2903</td>\n",
       "      <td>earthquake</td>\n",
       "      <td>610.08</td>\n",
       "    </tr>\n",
       "    <tr>\n",
       "      <th>2014-08-15 07:12:18.950000+00:00</th>\n",
       "      <td>-13.6367</td>\n",
       "      <td>170.0283</td>\n",
       "      <td>earthquake</td>\n",
       "      <td>616.50</td>\n",
       "    </tr>\n",
       "    <tr>\n",
       "      <th>2014-08-11 21:00:15.770000+00:00</th>\n",
       "      <td>-21.3504</td>\n",
       "      <td>-179.2357</td>\n",
       "      <td>earthquake</td>\n",
       "      <td>609.41</td>\n",
       "    </tr>\n",
       "    <tr>\n",
       "      <th>2014-08-01 14:12:03.220000+00:00</th>\n",
       "      <td>-21.0504</td>\n",
       "      <td>-178.9537</td>\n",
       "      <td>earthquake</td>\n",
       "      <td>636.37</td>\n",
       "    </tr>\n",
       "    <tr>\n",
       "      <th>2014-07-29 18:47:31.560000+00:00</th>\n",
       "      <td>-19.4100</td>\n",
       "      <td>-177.9185</td>\n",
       "      <td>earthquake</td>\n",
       "      <td>610.69</td>\n",
       "    </tr>\n",
       "    <tr>\n",
       "      <th>2014-07-27 06:19:41.270000+00:00</th>\n",
       "      <td>-21.4239</td>\n",
       "      <td>-179.0724</td>\n",
       "      <td>earthquake</td>\n",
       "      <td>609.71</td>\n",
       "    </tr>\n",
       "    <tr>\n",
       "      <th>2014-07-26 21:08:33.720000+00:00</th>\n",
       "      <td>-21.2122</td>\n",
       "      <td>-179.1038</td>\n",
       "      <td>earthquake</td>\n",
       "      <td>601.53</td>\n",
       "    </tr>\n",
       "    <tr>\n",
       "      <th>2014-07-26 21:07:20.180000+00:00</th>\n",
       "      <td>-21.2584</td>\n",
       "      <td>-179.0994</td>\n",
       "      <td>earthquake</td>\n",
       "      <td>620.72</td>\n",
       "    </tr>\n",
       "    <tr>\n",
       "      <th>2014-07-25 09:52:40.390000+00:00</th>\n",
       "      <td>-19.9663</td>\n",
       "      <td>-178.3440</td>\n",
       "      <td>earthquake</td>\n",
       "      <td>609.71</td>\n",
       "    </tr>\n",
       "    <tr>\n",
       "      <th>2014-07-25 00:02:39.430000+00:00</th>\n",
       "      <td>-21.3529</td>\n",
       "      <td>-179.2242</td>\n",
       "      <td>earthquake</td>\n",
       "      <td>623.28</td>\n",
       "    </tr>\n",
       "    <tr>\n",
       "      <th>2014-07-24 03:10:28.430000+00:00</th>\n",
       "      <td>-17.9808</td>\n",
       "      <td>-178.5161</td>\n",
       "      <td>earthquake</td>\n",
       "      <td>632.60</td>\n",
       "    </tr>\n",
       "    <tr>\n",
       "      <th>2014-07-23 12:29:06.880000+00:00</th>\n",
       "      <td>-19.6173</td>\n",
       "      <td>-178.1662</td>\n",
       "      <td>earthquake</td>\n",
       "      <td>601.32</td>\n",
       "    </tr>\n",
       "    <tr>\n",
       "      <th>2014-07-21 17:26:19.030000+00:00</th>\n",
       "      <td>-19.2885</td>\n",
       "      <td>-178.4308</td>\n",
       "      <td>earthquake</td>\n",
       "      <td>633.18</td>\n",
       "    </tr>\n",
       "    <tr>\n",
       "      <th>2014-07-21 15:56:28.070000+00:00</th>\n",
       "      <td>-17.7310</td>\n",
       "      <td>-178.5553</td>\n",
       "      <td>earthquake</td>\n",
       "      <td>616.17</td>\n",
       "    </tr>\n",
       "    <tr>\n",
       "      <th>2014-07-21 14:54:41+00:00</th>\n",
       "      <td>-19.8015</td>\n",
       "      <td>-178.4001</td>\n",
       "      <td>earthquake</td>\n",
       "      <td>615.42</td>\n",
       "    </tr>\n",
       "    <tr>\n",
       "      <th>2014-07-20 11:01:20.260000+00:00</th>\n",
       "      <td>-13.0158</td>\n",
       "      <td>168.9227</td>\n",
       "      <td>earthquake</td>\n",
       "      <td>620.60</td>\n",
       "    </tr>\n",
       "    <tr>\n",
       "      <th>2014-07-17 20:30:22.530000+00:00</th>\n",
       "      <td>-20.7286</td>\n",
       "      <td>-178.6176</td>\n",
       "      <td>earthquake</td>\n",
       "      <td>614.86</td>\n",
       "    </tr>\n",
       "    <tr>\n",
       "      <th>2014-07-11 08:46:23.910000+00:00</th>\n",
       "      <td>-21.0973</td>\n",
       "      <td>-179.1499</td>\n",
       "      <td>earthquake</td>\n",
       "      <td>611.30</td>\n",
       "    </tr>\n",
       "    <tr>\n",
       "      <th>2014-07-07 02:32:17.820000+00:00</th>\n",
       "      <td>-23.6400</td>\n",
       "      <td>179.8928</td>\n",
       "      <td>earthquake</td>\n",
       "      <td>625.02</td>\n",
       "    </tr>\n",
       "    <tr>\n",
       "      <th>2014-07-07 02:29:31.540000+00:00</th>\n",
       "      <td>-18.0149</td>\n",
       "      <td>-178.5031</td>\n",
       "      <td>earthquake</td>\n",
       "      <td>636.03</td>\n",
       "    </tr>\n",
       "    <tr>\n",
       "      <th>2014-07-04 18:55:50.080000+00:00</th>\n",
       "      <td>-20.6727</td>\n",
       "      <td>-179.0454</td>\n",
       "      <td>earthquake</td>\n",
       "      <td>624.94</td>\n",
       "    </tr>\n",
       "  </tbody>\n",
       "</table>\n",
       "</div>"
      ],
      "text/plain": [
       "                                  latitude  longitude        type   depth\n",
       "time                                                                     \n",
       "2014-08-19 15:38:17.890000+00:00  -22.0549  -179.4757  earthquake  606.46\n",
       "2014-08-16 07:52:57.400000+00:00  -21.4059  -179.2903  earthquake  610.08\n",
       "2014-08-15 07:12:18.950000+00:00  -13.6367   170.0283  earthquake  616.50\n",
       "2014-08-11 21:00:15.770000+00:00  -21.3504  -179.2357  earthquake  609.41\n",
       "2014-08-01 14:12:03.220000+00:00  -21.0504  -178.9537  earthquake  636.37\n",
       "2014-07-29 18:47:31.560000+00:00  -19.4100  -177.9185  earthquake  610.69\n",
       "2014-07-27 06:19:41.270000+00:00  -21.4239  -179.0724  earthquake  609.71\n",
       "2014-07-26 21:08:33.720000+00:00  -21.2122  -179.1038  earthquake  601.53\n",
       "2014-07-26 21:07:20.180000+00:00  -21.2584  -179.0994  earthquake  620.72\n",
       "2014-07-25 09:52:40.390000+00:00  -19.9663  -178.3440  earthquake  609.71\n",
       "2014-07-25 00:02:39.430000+00:00  -21.3529  -179.2242  earthquake  623.28\n",
       "2014-07-24 03:10:28.430000+00:00  -17.9808  -178.5161  earthquake  632.60\n",
       "2014-07-23 12:29:06.880000+00:00  -19.6173  -178.1662  earthquake  601.32\n",
       "2014-07-21 17:26:19.030000+00:00  -19.2885  -178.4308  earthquake  633.18\n",
       "2014-07-21 15:56:28.070000+00:00  -17.7310  -178.5553  earthquake  616.17\n",
       "2014-07-21 14:54:41+00:00         -19.8015  -178.4001  earthquake  615.42\n",
       "2014-07-20 11:01:20.260000+00:00  -13.0158   168.9227  earthquake  620.60\n",
       "2014-07-17 20:30:22.530000+00:00  -20.7286  -178.6176  earthquake  614.86\n",
       "2014-07-11 08:46:23.910000+00:00  -21.0973  -179.1499  earthquake  611.30\n",
       "2014-07-07 02:32:17.820000+00:00  -23.6400   179.8928  earthquake  625.02\n",
       "2014-07-07 02:29:31.540000+00:00  -18.0149  -178.5031  earthquake  636.03\n",
       "2014-07-04 18:55:50.080000+00:00  -20.6727  -179.0454  earthquake  624.94"
      ]
     },
     "execution_count": 191,
     "metadata": {},
     "output_type": "execute_result"
    }
   ],
   "source": [
    "df3.loc[df3[\"depth\"] >= 600]"
   ]
  },
  {
   "cell_type": "code",
   "execution_count": 204,
   "metadata": {},
   "outputs": [
    {
     "data": {
      "text/plain": [
       "7    1616\n",
       "8     981\n",
       "9     261\n",
       "Name: time, dtype: int64"
      ]
     },
     "execution_count": 204,
     "metadata": {},
     "output_type": "execute_result"
    }
   ],
   "source": [
    "df3.index.month.value_counts().sort_index()"
   ]
  }
 ],
 "metadata": {
  "kernelspec": {
   "display_name": "Python 3.10.4 ('latest')",
   "language": "python",
   "name": "python3"
  },
  "language_info": {
   "codemirror_mode": {
    "name": "ipython",
    "version": 3
   },
   "file_extension": ".py",
   "mimetype": "text/x-python",
   "name": "python",
   "nbconvert_exporter": "python",
   "pygments_lexer": "ipython3",
   "version": "3.10.4"
  },
  "orig_nbformat": 4,
  "vscode": {
   "interpreter": {
    "hash": "3f430c6c32c2810e89fab52ecb1e262fd40de6fca17a025cc1d93cb19e407557"
   }
  }
 },
 "nbformat": 4,
 "nbformat_minor": 2
}
