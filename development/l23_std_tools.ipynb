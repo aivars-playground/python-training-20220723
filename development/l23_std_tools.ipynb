{
 "cells": [
  {
   "cell_type": "markdown",
   "metadata": {},
   "source": [
    "RANDOMNESS"
   ]
  },
  {
   "cell_type": "code",
   "execution_count": 31,
   "metadata": {},
   "outputs": [
    {
     "name": "stdout",
     "output_type": "stream",
     "text": [
      "['d', 'a']\n",
      "['a', 'b']\n",
      "['b', 'd']\n",
      "['b', 'a', 'c', 'd']\n"
     ]
    }
   ],
   "source": [
    "from random import sample, shuffle\n",
    "\n",
    "\n",
    "all_items = ['a','b','c','d']\n",
    "\n",
    "print(sample(all_items, 2))  #picks random 2 (unique)\n",
    "print(sample(all_items, 2))\n",
    "print(sample(all_items, 2))\n",
    "\n",
    "print(sample(all_items, len(all_items))) #picks allitems (each time different order)\n",
    "\n"
   ]
  },
  {
   "cell_type": "code",
   "execution_count": 63,
   "metadata": {},
   "outputs": [
    {
     "name": "stdout",
     "output_type": "stream",
     "text": [
      "['d', 'b']\n",
      "['a', 'b']\n"
     ]
    }
   ],
   "source": [
    "from random import seed\n",
    "\n",
    "seed(0)      #forces one seed - predefined random values\n",
    "print(sample(all_items, 2))\n",
    "print(sample(all_items, 2))\n",
    "\n",
    "\n",
    "seed(None)   #back to random seed\n"
   ]
  },
  {
   "cell_type": "code",
   "execution_count": 80,
   "metadata": {},
   "outputs": [
    {
     "name": "stdout",
     "output_type": "stream",
     "text": [
      "[69, 37, 38, 28, 7, 92, 50, 26, 33, 76]\n"
     ]
    }
   ],
   "source": [
    "print(sample(range(100),10))   #10 unique random numbers"
   ]
  },
  {
   "cell_type": "markdown",
   "metadata": {},
   "source": [
    "GLOBBING\n",
    "\n",
    "Globing is a technique a Linux shell use to match a search pattern by using special characters called wildcards\n",
    "   \n",
    "Globbing is not using regex... i,e * none or more,  ^ - one"
   ]
  },
  {
   "cell_type": "code",
   "execution_count": 9,
   "metadata": {},
   "outputs": [
    {
     "name": "stdout",
     "output_type": "stream",
     "text": [
      "['l02_datatypes_numeric.ipynb', 'l00_runnable.py', 'l06_loops.ipynb', 'l05_conditional.ipynb', 'l08_classes.ipynb', 'l07_functions.ipynb', 'l04_datatypes_sequencetypes.ipynb', 'l01_datatypes_str.ipynb', 'l09_packages.ipynb', 'l03_datatypes_other.ipynb']\n"
     ]
    }
   ],
   "source": [
    "import glob\n",
    "\n",
    "\n",
    "first_lessons = glob.glob(\"l*0[0-9]_*\")\n",
    "print(list(first_lessons))"
   ]
  },
  {
   "cell_type": "markdown",
   "metadata": {},
   "source": [
    "For regex use re package"
   ]
  },
  {
   "cell_type": "code",
   "execution_count": 27,
   "metadata": {},
   "outputs": [
    {
     "name": "stdout",
     "output_type": "stream",
     "text": [
      "<re.Match object; span=(0, 8), match='item1.py'>\n",
      "['item1.py', 'item23.py', 'item11111.py']\n"
     ]
    }
   ],
   "source": [
    "import re\n",
    "\n",
    "list = ['item1.py','item2.py','item23.py', 'item24', 'item11111.py']\n",
    "\n",
    "matches = lambda item: re.match('item[0-9]*?[1,3,5,7,9].py', item)\n",
    "\n",
    "print(matches('item1.py'))\n",
    "\n",
    "\n",
    "\n",
    "list_odd_items = [item for item in list if re.match('item[0-9]*?[1,3,5,7,9].py', item)]\n",
    "print(list_odd_items)\n"
   ]
  },
  {
   "cell_type": "code",
   "execution_count": 56,
   "metadata": {},
   "outputs": [
    {
     "name": "stdout",
     "output_type": "stream",
     "text": [
      "['l00_runnable.py']\n"
     ]
    }
   ],
   "source": [
    "#iglob returns iterator.... should be more efficient\n",
    "\n",
    "files = [f for f in glob.iglob(\"l*0[0-9]_*\") if re.match(\"^l[\\d]*_.*py$\", f)]\n",
    "\n",
    "print(files)\n"
   ]
  }
 ],
 "metadata": {
  "kernelspec": {
   "display_name": "Python 3.10.6 64-bit",
   "language": "python",
   "name": "python3"
  },
  "language_info": {
   "codemirror_mode": {
    "name": "ipython",
    "version": 3
   },
   "file_extension": ".py",
   "mimetype": "text/x-python",
   "name": "python",
   "nbconvert_exporter": "python",
   "pygments_lexer": "ipython3",
   "version": "3.10.6"
  },
  "orig_nbformat": 4,
  "vscode": {
   "interpreter": {
    "hash": "7e1998ff7f8aa20ada591c520b972326324e5ea05489af9e422744c7c09f6dad"
   }
  }
 },
 "nbformat": 4,
 "nbformat_minor": 2
}
