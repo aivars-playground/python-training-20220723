{
 "cells": [
  {
   "cell_type": "code",
   "execution_count": 23,
   "metadata": {},
   "outputs": [
    {
     "name": "stdout",
     "output_type": "stream",
     "text": [
      "one\n",
      "<__main__.User object at 0x7f2df4e7b8e0>\n",
      "all [<__main__.User object at 0x7f2df4e7b8e0>]\n",
      "all [<__main__.User object at 0x7f2df4e7b8e0>]\n",
      "active []\n",
      "active [<__main__.User object at 0x7f2df4e7b8e0>]\n",
      "active [<__main__.User object at 0x7f2df4e7b8e0>, <__main__.User object at 0x7f2df4e7b8e0>]\n"
     ]
    }
   ],
   "source": [
    "class User:\n",
    "    all_users = []              #class level field\n",
    "    active_users = []\n",
    "\n",
    "    def __init__(self, name):\n",
    "        self.name = name\n",
    "        self.all_users.append(self)\n",
    "\n",
    "    def is_active(self):\n",
    "        return self in self.__class__.active_users\n",
    "\n",
    "    def activate(self):\n",
    "        if not self.is_active():\n",
    "            self.__class__.active_users.append(self)\n",
    "\n",
    "    def deactivate(self):\n",
    "        if self.is_active():\n",
    "            self.__class__.active_users.append(self)\n",
    "\n",
    "    \n",
    "\n",
    "user1 = User(\"one\")\n",
    "print(user1.name)\n",
    "print(user1)\n",
    "print(\"all\", user1.all_users)\n",
    "print(\"all\", User.all_users)\n",
    "\n",
    "print(\"active\", User.active_users)\n",
    "user1.activate()\n",
    "print(\"active\", User.active_users)\n",
    "user1.deactivate()\n",
    "print(\"active\", User.active_users)\n",
    "\n",
    "\n"
   ]
  },
  {
   "cell_type": "code",
   "execution_count": 38,
   "metadata": {},
   "outputs": [
    {
     "name": "stdout",
     "output_type": "stream",
     "text": [
      "access instance: hello form instance\n",
      "access class: hello form class level\n",
      "access class from instance: hello form class level\n"
     ]
    }
   ],
   "source": [
    "class Greeter:\n",
    "    greeting = \"hello form class level\"\n",
    "\n",
    "    def __init__(self) -> None:\n",
    "        self.greeting = \"hello form instance\"\n",
    "\n",
    "    def do_something():\n",
    "        pass\n",
    "\n",
    "greeter = Greeter()\n",
    "\n",
    "print(\"access instance:\", greeter.greeting)\n",
    "\n",
    "print(\"access class:\", Greeter.greeting)\n",
    "print(\"access class from instance:\", greeter.__class__.greeting)"
   ]
  },
  {
   "cell_type": "code",
   "execution_count": 41,
   "metadata": {},
   "outputs": [
    {
     "name": "stdout",
     "output_type": "stream",
     "text": [
      "instance dict\n",
      " {'greeting': 'hello form instance'}\n",
      "\n",
      "class dict\n",
      " {'__module__': '__main__', 'greeting': 'hello form class level', '__init__': <function Greeter.__init__ at 0x7f2df49d6e60>, 'do_something': <function Greeter.do_something at 0x7f2df49d7010>, '__dict__': <attribute '__dict__' of 'Greeter' objects>, '__weakref__': <attribute '__weakref__' of 'Greeter' objects>, '__doc__': None}\n"
     ]
    }
   ],
   "source": [
    "#show information on instace (or class) attributes\n",
    "print(\"instance dict\\n\", greeter.__dict__)\n",
    "print()\n",
    "print(\"class dict\\n\", Greeter.__dict__)"
   ]
  },
  {
   "cell_type": "code",
   "execution_count": 49,
   "metadata": {},
   "outputs": [
    {
     "name": "stdout",
     "output_type": "stream",
     "text": [
      "['__class__', '__delattr__', '__dict__', '__dir__', '__doc__', '__eq__', '__format__', '__ge__', '__getattribute__', '__gt__', '__hash__', '__init__', '__init_subclass__', '__le__', '__lt__', '__module__', '__ne__', '__new__', '__reduce__', '__reduce_ex__', '__repr__', '__setattr__', '__sizeof__', '__str__', '__subclasshook__', '__weakref__', 'do_something', 'greeting']\n"
     ]
    }
   ],
   "source": [
    "#inspect accessible callable attributes\n",
    "print(dir(greeter))"
   ]
  },
  {
   "cell_type": "code",
   "execution_count": 47,
   "metadata": {},
   "outputs": [
    {
     "name": "stdout",
     "output_type": "stream",
     "text": [
      "Help on Greeter in module __main__ object:\n",
      "\n",
      "class Greeter(builtins.object)\n",
      " |  Greeter() -> None\n",
      " |  \n",
      " |  Methods defined here:\n",
      " |  \n",
      " |  __init__(self) -> None\n",
      " |      Initialize self.  See help(type(self)) for accurate signature.\n",
      " |  \n",
      " |  do_something()\n",
      " |  \n",
      " |  ----------------------------------------------------------------------\n",
      " |  Data descriptors defined here:\n",
      " |  \n",
      " |  __dict__\n",
      " |      dictionary for instance variables (if defined)\n",
      " |  \n",
      " |  __weakref__\n",
      " |      list of weak references to the object (if defined)\n",
      " |  \n",
      " |  ----------------------------------------------------------------------\n",
      " |  Data and other attributes defined here:\n",
      " |  \n",
      " |  greeting = 'hello form class level'\n",
      "\n"
     ]
    }
   ],
   "source": [
    "help(greeter)"
   ]
  },
  {
   "cell_type": "code",
   "execution_count": 59,
   "metadata": {},
   "outputs": [
    {
     "name": "stdout",
     "output_type": "stream",
     "text": [
      "True\n",
      "True\n"
     ]
    },
    {
     "data": {
      "text/plain": [
       "{'email': 'abc@example.com'}"
      ]
     },
     "execution_count": 59,
     "metadata": {},
     "output_type": "execute_result"
    }
   ],
   "source": [
    "# some dunder methods\n",
    "class Email:\n",
    "\n",
    "    def __init__(self, email) -> None:\n",
    "        self.email = email\n",
    "\n",
    "    def __normalized(self):\n",
    "        return {key : value.lower() for key, value in self.__dict__.items()}\n",
    "    \n",
    "    def __eq__(self, other) -> bool:\n",
    "        return self.__normalized() == other.__normalized()\n",
    "\n",
    "    def __ne__(self, other) -> bool:\n",
    "        return self.__normalized() != other.__normalized()\n",
    "\n",
    "print(Email(\"abc@example.com\") == Email(\"ABC@example.COM\"))\n",
    "print(Email(\"abc@example.com\") != Email(\"cde@example.com\"))"
   ]
  }
 ],
 "metadata": {
  "kernelspec": {
   "display_name": "Python 3.10.6 ('development-b1-6O1J9')",
   "language": "python",
   "name": "python3"
  },
  "language_info": {
   "codemirror_mode": {
    "name": "ipython",
    "version": 3
   },
   "file_extension": ".py",
   "mimetype": "text/x-python",
   "name": "python",
   "nbconvert_exporter": "python",
   "pygments_lexer": "ipython3",
   "version": "3.10.6"
  },
  "orig_nbformat": 4,
  "vscode": {
   "interpreter": {
    "hash": "0bcb8022dc2f9d3bc1f45bc3964b5bd89ae2a2e065d59fb88aa40f3b7e0fc1e6"
   }
  }
 },
 "nbformat": 4,
 "nbformat_minor": 2
}
