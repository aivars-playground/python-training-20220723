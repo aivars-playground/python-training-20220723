{
 "cells": [
  {
   "cell_type": "code",
   "execution_count": 100,
   "metadata": {},
   "outputs": [
    {
     "name": "stdout",
     "output_type": "stream",
     "text": [
      "True\n",
      "True\n"
     ]
    }
   ],
   "source": [
    "print(1 < 2)\n",
    "\n",
    "print(1 == 1)"
   ]
  },
  {
   "cell_type": "code",
   "execution_count": 101,
   "metadata": {},
   "outputs": [
    {
     "name": "stderr",
     "output_type": "stream",
     "text": [
      "<>:1: SyntaxWarning: \"is\" with a literal. Did you mean \"==\"?\n",
      "<>:1: SyntaxWarning: \"is\" with a literal. Did you mean \"==\"?\n",
      "/tmp/ipykernel_6277/1180083856.py:1: SyntaxWarning: \"is\" with a literal. Did you mean \"==\"?\n",
      "  1 is 2\n"
     ]
    },
    {
     "data": {
      "text/plain": [
       "False"
      ]
     },
     "execution_count": 101,
     "metadata": {},
     "output_type": "execute_result"
    }
   ],
   "source": [
    "1 is 2"
   ]
  },
  {
   "cell_type": "code",
   "execution_count": 102,
   "metadata": {},
   "outputs": [
    {
     "name": "stdout",
     "output_type": "stream",
     "text": [
      "True\n",
      "True\n",
      "False True\n",
      "False\n"
     ]
    }
   ],
   "source": [
    "a = 1 \n",
    "b = 1\n",
    "print(a is b)\n",
    "\n",
    "a = 'a'\n",
    "b = 'a'\n",
    "print(a is b)\n",
    "\n",
    "a = 'abc'\n",
    "b1 = 'a'\n",
    "b2 = 'bc'\n",
    "b = b1 + b2\n",
    "print(a is b, a == b)\n",
    "\n",
    "\n",
    "a = (1,)\n",
    "b = (1,)\n",
    "print(a is b)"
   ]
  },
  {
   "cell_type": "code",
   "execution_count": 103,
   "metadata": {},
   "outputs": [
    {
     "name": "stdout",
     "output_type": "stream",
     "text": [
      "True\n",
      "True\n",
      "True\n",
      "False\n",
      "False\n",
      "True\n"
     ]
    }
   ],
   "source": [
    "print(2 in [1,2])\n",
    "print(2 in (1,2))\n",
    "print(2 in {1:'a',2:'b'})\n",
    "print('a' in {1:'a',2:'b'})\n",
    "print((1,'a') in {1:'a',2:'b'})\n",
    "print((1,'a') in {1:'a',2:'b'}.items())"
   ]
  },
  {
   "cell_type": "code",
   "execution_count": 104,
   "metadata": {},
   "outputs": [
    {
     "name": "stdout",
     "output_type": "stream",
     "text": [
      "1\n",
      "True\n",
      "dict\n"
     ]
    }
   ],
   "source": [
    "if (0): print(1)\n",
    "if (0.0): print(2)\n",
    "if (0.00000000000000): print(3)\n",
    "if (0J): print(4)\n",
    "if(None): print(5)\n",
    "if (''): print(6)\n",
    "\n",
    "if(1): print('1')\n",
    "if(True): print('True')\n",
    "if(dict): print('dict')"
   ]
  },
  {
   "cell_type": "code",
   "execution_count": 105,
   "metadata": {},
   "outputs": [
    {
     "name": "stdout",
     "output_type": "stream",
     "text": [
      "positive\n"
     ]
    }
   ],
   "source": [
    "i = 100\n",
    "if (i < 0):\n",
    "    print('negative')\n",
    "elif (i == 0):\n",
    "    print('zero')\n",
    "else:\n",
    "    print('positive')"
   ]
  },
  {
   "cell_type": "code",
   "execution_count": 106,
   "metadata": {},
   "outputs": [
    {
     "name": "stdout",
     "output_type": "stream",
     "text": [
      "False\n",
      "True\n"
     ]
    }
   ],
   "source": [
    "print(bool(\"\"))\n",
    "print(bool(\"*\"))"
   ]
  },
  {
   "cell_type": "code",
   "execution_count": 107,
   "metadata": {},
   "outputs": [
    {
     "name": "stdout",
     "output_type": "stream",
     "text": [
      "True\n"
     ]
    }
   ],
   "source": [
    "doublenegative = not \"\"\n",
    "print(doublenegative)"
   ]
  },
  {
   "cell_type": "code",
   "execution_count": 108,
   "metadata": {},
   "outputs": [
    {
     "name": "stdout",
     "output_type": "stream",
     "text": [
      "False\n",
      "True\n"
     ]
    }
   ],
   "source": [
    "print(False and True)\n",
    "print(False or True)"
   ]
  },
  {
   "cell_type": "code",
   "execution_count": 109,
   "metadata": {},
   "outputs": [
    {
     "name": "stdout",
     "output_type": "stream",
     "text": [
      "True\n",
      "False\n",
      "False\n",
      "True\n"
     ]
    }
   ],
   "source": [
    "print(not False)\n",
    "\n",
    "print(True > True)\n",
    "print( (not False) > True)\n",
    "\n",
    "# 'not False > True'    is    'not (False > True)'\n",
    "print(not False > True)"
   ]
  },
  {
   "cell_type": "code",
   "execution_count": 110,
   "metadata": {},
   "outputs": [
    {
     "name": "stdout",
     "output_type": "stream",
     "text": [
      "abc\n",
      "abc\n",
      "1\n",
      "1\n"
     ]
    }
   ],
   "source": [
    "print(\"abc\" or 0)\n",
    "print(0 or \"abc\")\n",
    "\n",
    "v1 = 1\n",
    "v2 = 2\n",
    "del v2\n",
    "print(v1 or v2)\n",
    "print(v1 or randomunassignedval)"
   ]
  },
  {
   "cell_type": "code",
   "execution_count": 111,
   "metadata": {},
   "outputs": [
    {
     "name": "stdout",
     "output_type": "stream",
     "text": [
      "all identifiers are set:False\n",
      "find some kind of identifier:123456\n"
     ]
    }
   ],
   "source": [
    "id = ''\n",
    "uid = None\n",
    "guid = '123456'\n",
    "\n",
    "print('all identifiers are set:%s'% bool(id and uid and guid))\n",
    "\n",
    "if (id or uid or guid):\n",
    "    print('find some kind of identifier:%s' % (id or uid or guid))"
   ]
  },
  {
   "cell_type": "code",
   "execution_count": 112,
   "metadata": {},
   "outputs": [
    {
     "name": "stdout",
     "output_type": "stream",
     "text": [
      "ty\n",
      "default value\n"
     ]
    }
   ],
   "source": [
    "a1 = \"qwer\"\n",
    "a2 = \"ty\"\n",
    "print(a1 and a2) #returns last - ty\n",
    "\n",
    "val_from_datasore = None\n",
    "my_val = val_from_datasore or 'default value'\n",
    "print(my_val)"
   ]
  },
  {
   "cell_type": "code",
   "execution_count": 115,
   "metadata": {},
   "outputs": [
    {
     "name": "stdout",
     "output_type": "stream",
     "text": [
      "abc False default_value1 default_value2\n"
     ]
    }
   ],
   "source": [
    "res1 = (1 < 2) and \"abc\"\n",
    "res2 = (1 > 2) and \"abc\"\n",
    "res3 = (1 > 2) and \"abc\" or \"default_value1\"\n",
    "res4 = (1 > 2) and \"\" or \"default_value2\"\n",
    "\n",
    "\n",
    "print(res1,res2,res3,res4)"
   ]
  }
 ],
 "metadata": {
  "kernelspec": {
   "display_name": "Python 3.9.12 ('base')",
   "language": "python",
   "name": "python3"
  },
  "language_info": {
   "codemirror_mode": {
    "name": "ipython",
    "version": 3
   },
   "file_extension": ".py",
   "mimetype": "text/x-python",
   "name": "python",
   "nbconvert_exporter": "python",
   "pygments_lexer": "ipython3",
   "version": "3.9.12"
  },
  "orig_nbformat": 4,
  "vscode": {
   "interpreter": {
    "hash": "63aeac27475015421e7df4e5c314eed8df35753dad26edf7debfb8ba47789dce"
   }
  }
 },
 "nbformat": 4,
 "nbformat_minor": 2
}
