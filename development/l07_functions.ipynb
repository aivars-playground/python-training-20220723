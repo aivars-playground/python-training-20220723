{
 "cells": [
  {
   "cell_type": "code",
   "execution_count": 1,
   "metadata": {},
   "outputs": [],
   "source": [
    "def hello_world():\n",
    "    print(\"Hi\")"
   ]
  },
  {
   "cell_type": "code",
   "execution_count": 8,
   "metadata": {},
   "outputs": [
    {
     "data": {
      "text/plain": [
       "<function __main__.hello_world()>"
      ]
     },
     "execution_count": 8,
     "metadata": {},
     "output_type": "execute_result"
    }
   ],
   "source": [
    "hello_world"
   ]
  },
  {
   "cell_type": "code",
   "execution_count": 9,
   "metadata": {},
   "outputs": [
    {
     "name": "stdout",
     "output_type": "stream",
     "text": [
      "Hi\n"
     ]
    }
   ],
   "source": [
    "hello_world()"
   ]
  },
  {
   "cell_type": "code",
   "execution_count": 18,
   "metadata": {},
   "outputs": [
    {
     "name": "stdout",
     "output_type": "stream",
     "text": [
      "Hello world\n",
      "None\n"
     ]
    }
   ],
   "source": [
    "def print_name(name):\n",
    "    print(\"Hello\", name)\n",
    "\n",
    "output = print_name(\"world\")\n",
    "print(output)"
   ]
  },
  {
   "cell_type": "code",
   "execution_count": 20,
   "metadata": {},
   "outputs": [
    {
     "data": {
      "text/plain": [
       "3"
      ]
     },
     "execution_count": 20,
     "metadata": {},
     "output_type": "execute_result"
    }
   ],
   "source": [
    "def add(left,right):\n",
    "    return left + right\n",
    "\n",
    "add(1,2)"
   ]
  },
  {
   "cell_type": "code",
   "execution_count": 29,
   "metadata": {},
   "outputs": [
    {
     "name": "stdout",
     "output_type": "stream",
     "text": [
      "10\n",
      "10\n",
      "10\n"
     ]
    }
   ],
   "source": [
    "def multiarg(v1,v2,v3,v4):\n",
    "    return v1+v2+v3+v4\n",
    "\n",
    "print(multiarg(1,2,3,4))\n",
    "print(multiarg(1,2,3,v4 = 4))\n",
    "print(multiarg(v4 = 4, v2 = 2, v1 = 1, v3 = 3))"
   ]
  },
  {
   "cell_type": "code",
   "execution_count": 56,
   "metadata": {},
   "outputs": [
    {
     "name": "stdout",
     "output_type": "stream",
     "text": [
      "1 2 3 4\n",
      "1 2 3 100\n",
      "1 2 200 4\n"
     ]
    }
   ],
   "source": [
    "def multiarg_default(v1,v2,v3=200,v4=100):\n",
    "    print(v1,v2,v3,v4)\n",
    "\n",
    "multiarg_default(1,2,3,4)\n",
    "multiarg_default(1,2,3)\n",
    "multiarg_default(1,2,v4=4)"
   ]
  },
  {
   "cell_type": "code",
   "execution_count": 63,
   "metadata": {},
   "outputs": [
    {
     "name": "stdout",
     "output_type": "stream",
     "text": [
      "a b c ()\n",
      "a b c ('1', '2')\n",
      "a b c (('1', '2'),)\n",
      "a b c (['1', '2'],)\n"
     ]
    }
   ],
   "source": [
    "def multiarg_varargs(v1,v2,v3='*',*args):\n",
    "    print(v1,v2,v3,args)\n",
    "\n",
    "multiarg_varargs('a','b','c')\n",
    "multiarg_varargs('a','b','c', '1', '2')\n",
    "multiarg_varargs('a','b','c', ('1', '2'))\n",
    "multiarg_varargs('a','b','c', ['1', '2'])"
   ]
  },
  {
   "cell_type": "code",
   "execution_count": 75,
   "metadata": {},
   "outputs": [
    {
     "name": "stdout",
     "output_type": "stream",
     "text": [
      "a b * ('1', '2')\n",
      "a b not-default ('1', '2')\n"
     ]
    }
   ],
   "source": [
    "def multiarg_varargs_withdefaults(v1,v2,*args,v3='*'):\n",
    "    print(v1,v2,v3,args)\n",
    "\n",
    "multiarg_varargs_withdefaults('a','b', '1', '2')\n",
    "multiarg_varargs_withdefaults('a','b', '1', '2', v3 = 'not-default')"
   ]
  },
  {
   "cell_type": "code",
   "execution_count": 67,
   "metadata": {},
   "outputs": [
    {
     "name": "stdout",
     "output_type": "stream",
     "text": [
      "a b c {}\n",
      "a b c {'key1': 'val1', 'key2': 'val2'}\n"
     ]
    }
   ],
   "source": [
    "def multiarg_kvargs(v1,v2,v3='*',**kvargs):\n",
    "    print(v1,v2,v3,kvargs)\n",
    "\n",
    "multiarg_kvargs('a','b','c')\n",
    "multiarg_kvargs('a','b','c',key1 = 'val1', key2 = 'val2')"
   ]
  },
  {
   "cell_type": "code",
   "execution_count": 83,
   "metadata": {},
   "outputs": [
    {
     "name": "stdout",
     "output_type": "stream",
     "text": [
      "a b c ('d', 'e') {'key1': 'val1', 'key2': 'val2'}\n"
     ]
    }
   ],
   "source": [
    "def multiarg_kva_varargs(v1,v2,v3,*args, **kvargs):\n",
    "    print(v1,v2,v3,args,kvargs)\n",
    "\n",
    "multiarg_kva_varargs('a','b','c','d','e',key1 = 'val1', key2 = 'val2')"
   ]
  },
  {
   "cell_type": "code",
   "execution_count": 90,
   "metadata": {},
   "outputs": [
    {
     "name": "stdout",
     "output_type": "stream",
     "text": [
      "a b ('d', 'e') {'key1': 'val1', 'key2': 'val2'}\n"
     ]
    }
   ],
   "source": [
    "def multiarg_kva_varargs_defaults(v1,v2,*args, v3 =\"*\", **kvargs ):\n",
    "    print(v1,v2,args,kvargs)\n",
    "\n",
    "multiarg_kva_varargs_defaults('a','b', 'd','e', key1 = 'val1', key2 = 'val2')"
   ]
  }
 ],
 "metadata": {
  "kernelspec": {
   "display_name": "Python 3.9.12 ('base')",
   "language": "python",
   "name": "python3"
  },
  "language_info": {
   "codemirror_mode": {
    "name": "ipython",
    "version": 3
   },
   "file_extension": ".py",
   "mimetype": "text/x-python",
   "name": "python",
   "nbconvert_exporter": "python",
   "pygments_lexer": "ipython3",
   "version": "3.9.12"
  },
  "orig_nbformat": 4,
  "vscode": {
   "interpreter": {
    "hash": "63aeac27475015421e7df4e5c314eed8df35753dad26edf7debfb8ba47789dce"
   }
  }
 },
 "nbformat": 4,
 "nbformat_minor": 2
}
