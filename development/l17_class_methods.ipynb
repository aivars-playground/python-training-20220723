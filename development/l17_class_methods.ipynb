{
 "cells": [
  {
   "cell_type": "code",
   "execution_count": 1,
   "metadata": {},
   "outputs": [],
   "source": [
    "from math import pi\n",
    "\n",
    "class Vehicle:\n",
    "\n",
    "    default_tire = 'tire'\n",
    "\n",
    "    # no method overloading, and only one __init__ constructor\n",
    "    def __init__(self, engine, tires) -> None:\n",
    "        self.engine = engine\n",
    "        self.tires = tires\n",
    "    \n",
    "    def print_info(self, owner):\n",
    "        return f\"{owner} has a vehicle with engine:{self.engine} and tires:{self.tires}, default tire:{self.__class__.default_tire}\"\n",
    "\n",
    "    #acts like an alternative constructor, stil calls constructor\n",
    "    #has an access to class level variable\n",
    "    #'cls' is a naming convention\n",
    "    @classmethod\n",
    "    def bike(cls, tires):\n",
    "        if not tires:\n",
    "            tires = cls.__class__.default_tire\n",
    "        return cls(None, tires)\n",
    "\n",
    "    # do not have an access to class variables\n",
    "    @staticmethod\n",
    "    def circumference(radius):\n",
    "        return 2 * pi * radius\n",
    "\n",
    "    @property\n",
    "    def has_custom_tires(self):\n",
    "        return self.tires != self.__class__.default_tire\n",
    "    \n",
    "    \n",
    "\n",
    "    "
   ]
  },
  {
   "cell_type": "code",
   "execution_count": 115,
   "metadata": {},
   "outputs": [
    {
     "data": {
      "text/plain": [
       "mappingproxy({'__module__': '__main__',\n",
       "              'default_tire': 'tire',\n",
       "              '__init__': <function __main__.Vehicle.__init__(self, engine, tires) -> None>,\n",
       "              'print_info': <function __main__.Vehicle.print_info(self, owner)>,\n",
       "              'bike': <classmethod(<function Vehicle.bike at 0x7fcc695b2f80>)>,\n",
       "              'circumference': <staticmethod(<function Vehicle.circumference at 0x7fcc695b3130>)>,\n",
       "              'has_custom_tires': <property at 0x7fcc695276a0>,\n",
       "              '__dict__': <attribute '__dict__' of 'Vehicle' objects>,\n",
       "              '__weakref__': <attribute '__weakref__' of 'Vehicle' objects>,\n",
       "              '__doc__': None})"
      ]
     },
     "execution_count": 115,
     "metadata": {},
     "output_type": "execute_result"
    }
   ],
   "source": [
    "Vehicle.__dict__"
   ]
  },
  {
   "cell_type": "code",
   "execution_count": 116,
   "metadata": {},
   "outputs": [
    {
     "name": "stdout",
     "output_type": "stream",
     "text": [
      "['__class__', '__delattr__', '__dict__', '__dir__', '__doc__', '__eq__', '__format__', '__ge__', '__getattribute__', '__gt__', '__hash__', '__init__', '__init_subclass__', '__le__', '__lt__', '__module__', '__ne__', '__new__', '__reduce__', '__reduce_ex__', '__repr__', '__setattr__', '__sizeof__', '__str__', '__subclasshook__', '__weakref__', 'bike', 'circumference', 'default_tire', 'has_custom_tires', 'print_info']\n"
     ]
    }
   ],
   "source": [
    "print(dir(Vehicle))"
   ]
  },
  {
   "cell_type": "code",
   "execution_count": 117,
   "metadata": {},
   "outputs": [
    {
     "name": "stdout",
     "output_type": "stream",
     "text": [
      "Help on class Vehicle in module __main__:\n",
      "\n",
      "class Vehicle(builtins.object)\n",
      " |  Vehicle(engine, tires) -> None\n",
      " |  \n",
      " |  Methods defined here:\n",
      " |  \n",
      " |  __init__(self, engine, tires) -> None\n",
      " |      Initialize self.  See help(type(self)) for accurate signature.\n",
      " |  \n",
      " |  print_info(self, owner)\n",
      " |  \n",
      " |  ----------------------------------------------------------------------\n",
      " |  Class methods defined here:\n",
      " |  \n",
      " |  bike(tires) from builtins.type\n",
      " |      #acts like an alternative constructor, stil calls constructor\n",
      " |      #has an access to class level variable\n",
      " |      #'cls' is a naming convention\n",
      " |  \n",
      " |  ----------------------------------------------------------------------\n",
      " |  Static methods defined here:\n",
      " |  \n",
      " |  circumference(radius)\n",
      " |      # do not have an access to class variables\n",
      " |  \n",
      " |  ----------------------------------------------------------------------\n",
      " |  Readonly properties defined here:\n",
      " |  \n",
      " |  has_custom_tires\n",
      " |  \n",
      " |  ----------------------------------------------------------------------\n",
      " |  Data descriptors defined here:\n",
      " |  \n",
      " |  __dict__\n",
      " |      dictionary for instance variables (if defined)\n",
      " |  \n",
      " |  __weakref__\n",
      " |      list of weak references to the object (if defined)\n",
      " |  \n",
      " |  ----------------------------------------------------------------------\n",
      " |  Data and other attributes defined here:\n",
      " |  \n",
      " |  default_tire = 'tire'\n",
      "\n"
     ]
    }
   ],
   "source": [
    "help(Vehicle)"
   ]
  },
  {
   "cell_type": "code",
   "execution_count": 118,
   "metadata": {},
   "outputs": [
    {
     "data": {
      "text/plain": [
       "True"
      ]
     },
     "execution_count": 118,
     "metadata": {},
     "output_type": "execute_result"
    }
   ],
   "source": [
    "bicycle = Vehicle.bike(\"slicks\")\n",
    "\n",
    "bicycle.has_custom_tires"
   ]
  },
  {
   "cell_type": "code",
   "execution_count": 119,
   "metadata": {},
   "outputs": [
    {
     "data": {
      "text/plain": [
       "{'engine': None, 'tires': 'slicks'}"
      ]
     },
     "execution_count": 119,
     "metadata": {},
     "output_type": "execute_result"
    }
   ],
   "source": [
    "bicycle.__dict__"
   ]
  },
  {
   "cell_type": "code",
   "execution_count": 120,
   "metadata": {},
   "outputs": [
    {
     "name": "stdout",
     "output_type": "stream",
     "text": [
      "['engine', 'tires', '__module__', 'default_tire', '__init__', 'print_info', 'bike', 'circumference', 'has_custom_tires', '__dict__', '__weakref__', '__doc__', '__new__', '__repr__', '__hash__', '__str__', '__getattribute__', '__setattr__', '__delattr__', '__lt__', '__le__', '__eq__', '__ne__', '__gt__', '__ge__', '__reduce_ex__', '__reduce__', '__subclasshook__', '__init_subclass__', '__format__', '__sizeof__', '__dir__', '__class__']\n"
     ]
    }
   ],
   "source": [
    "print(bicycle.__dir__())"
   ]
  },
  {
   "cell_type": "code",
   "execution_count": 121,
   "metadata": {},
   "outputs": [
    {
     "name": "stdout",
     "output_type": "stream",
     "text": [
      "Help on Vehicle in module __main__ object:\n",
      "\n",
      "class Vehicle(builtins.object)\n",
      " |  Vehicle(engine, tires) -> None\n",
      " |  \n",
      " |  Methods defined here:\n",
      " |  \n",
      " |  __init__(self, engine, tires) -> None\n",
      " |      Initialize self.  See help(type(self)) for accurate signature.\n",
      " |  \n",
      " |  print_info(self, owner)\n",
      " |  \n",
      " |  ----------------------------------------------------------------------\n",
      " |  Class methods defined here:\n",
      " |  \n",
      " |  bike(tires) from builtins.type\n",
      " |      #acts like an alternative constructor, stil calls constructor\n",
      " |      #has an access to class level variable\n",
      " |      #'cls' is a naming convention\n",
      " |  \n",
      " |  ----------------------------------------------------------------------\n",
      " |  Static methods defined here:\n",
      " |  \n",
      " |  circumference(radius)\n",
      " |      # do not have an access to class variables\n",
      " |  \n",
      " |  ----------------------------------------------------------------------\n",
      " |  Readonly properties defined here:\n",
      " |  \n",
      " |  has_custom_tires\n",
      " |  \n",
      " |  ----------------------------------------------------------------------\n",
      " |  Data descriptors defined here:\n",
      " |  \n",
      " |  __dict__\n",
      " |      dictionary for instance variables (if defined)\n",
      " |  \n",
      " |  __weakref__\n",
      " |      list of weak references to the object (if defined)\n",
      " |  \n",
      " |  ----------------------------------------------------------------------\n",
      " |  Data and other attributes defined here:\n",
      " |  \n",
      " |  default_tire = 'tire'\n",
      "\n"
     ]
    }
   ],
   "source": [
    "help(bicycle)"
   ]
  },
  {
   "cell_type": "code",
   "execution_count": 10,
   "metadata": {},
   "outputs": [
    {
     "name": "stdout",
     "output_type": "stream",
     "text": [
      "under_x: 11\n",
      "dunder_x: 121\n",
      "call method reading dunder x: 121\n"
     ]
    }
   ],
   "source": [
    "class WithHiddenAttributes:\n",
    "    def __init__(self, x):\n",
    "        self._x = x\n",
    "        self.__x = x * x\n",
    "\n",
    "    def get_dunder_x(self):\n",
    "        return self.__x\n",
    "\n",
    "hidden = WithHiddenAttributes(11)\n",
    "print(\"under_x:\", hidden._x)\n",
    "print(\"dunder_x:\", hidden._WithHiddenAttributes__x)\n",
    "print(\"call method reading dunder x:\", hidden.get_dunder_x())\n"
   ]
  },
  {
   "cell_type": "code",
   "execution_count": 30,
   "metadata": {},
   "outputs": [
    {
     "name": "stdout",
     "output_type": "stream",
     "text": [
      "fuel usege in calculation: 7.5\n",
      "distance used in calculation: 126\n",
      "liters per 100 km: 5.952380952380952\n",
      "==adjust distance ==\n",
      "new distance used in calculation: 200\n",
      "new liters per 100 km: 3.75\n"
     ]
    }
   ],
   "source": [
    "class CarStatistics:\n",
    "    def __init__(self, distance_traveled, fuel_consumed):\n",
    "        self._distance_traveled = distance_traveled\n",
    "        self._fuel_consumed = fuel_consumed\n",
    "        self.__calculate_fuel_consumption()\n",
    "    \n",
    "    def __calculate_fuel_consumption(self):\n",
    "        self.__fuel_consumption = 100 * (self._fuel_consumed / self._distance_traveled)\n",
    "\n",
    "    @property\n",
    "    def fuel_consumption_per_100(self):\n",
    "        return self.__fuel_consumption\n",
    "\n",
    "    @property\n",
    "    def distance(self):\n",
    "        return self._distance_traveled\n",
    "\n",
    "    @distance.setter\n",
    "    def distance(self, value):\n",
    "        self._distance_traveled = value\n",
    "        self.__calculate_fuel_consumption()\n",
    "        \n",
    "\n",
    "car = CarStatistics(126, 7.5)\n",
    "print(\"fuel usege in calculation:\", car._fuel_consumed)\n",
    "print(\"distance used in calculation:\", car.distance)\n",
    "print(\"liters per 100 km:\", car.fuel_consumption_per_100)\n",
    "\n",
    "print(\"==adjust distance ==\")\n",
    "car.distance = 200\n",
    "print(\"new distance used in calculation:\", car.distance)\n",
    "print(\"new liters per 100 km:\", car.fuel_consumption_per_100)\n"
   ]
  }
 ],
 "metadata": {
  "kernelspec": {
   "display_name": "Python 3.10.6 ('development-b1-6O1J9')",
   "language": "python",
   "name": "python3"
  },
  "language_info": {
   "codemirror_mode": {
    "name": "ipython",
    "version": 3
   },
   "file_extension": ".py",
   "mimetype": "text/x-python",
   "name": "python",
   "nbconvert_exporter": "python",
   "pygments_lexer": "ipython3",
   "version": "3.10.6"
  },
  "orig_nbformat": 4,
  "vscode": {
   "interpreter": {
    "hash": "0bcb8022dc2f9d3bc1f45bc3964b5bd89ae2a2e065d59fb88aa40f3b7e0fc1e6"
   }
  }
 },
 "nbformat": 4,
 "nbformat_minor": 2
}
