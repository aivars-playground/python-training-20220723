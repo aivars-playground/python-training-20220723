{
 "cells": [
  {
   "cell_type": "code",
   "execution_count": 10,
   "metadata": {},
   "outputs": [],
   "source": [
    "class Person:\n",
    "    def __init__(self, name) -> None:\n",
    "        print(\"person init start\", self)\n",
    "        self.name = name\n",
    "        print(\"person init end\", self)\n",
    "\n",
    "\n",
    "class Worker(Person):\n",
    "    def __init__(self, name, company) -> None:\n",
    "        print(\"worker init start\", self)\n",
    "        super().__init__(name)\n",
    "        self.company = company\n",
    "        print(\"worker init end\", self)\n"
   ]
  },
  {
   "cell_type": "code",
   "execution_count": 15,
   "metadata": {},
   "outputs": [
    {
     "name": "stdout",
     "output_type": "stream",
     "text": [
      "worker init start <__main__.Worker object at 0x7fb60ac8ac80>\n",
      "person init start <__main__.Worker object at 0x7fb60ac8ac80>\n",
      "person init end <__main__.Worker object at 0x7fb60ac8ac80>\n",
      "worker init end <__main__.Worker object at 0x7fb60ac8ac80>\n"
     ]
    }
   ],
   "source": [
    "worker = Worker(\"abv\", \"my company\")"
   ]
  },
  {
   "cell_type": "code",
   "execution_count": 131,
   "metadata": {},
   "outputs": [],
   "source": [
    "class Vehicle:\n",
    "    def __init__(self, distance_traveled = 0, unit = \"km\") -> None:\n",
    "        print(\"Vehicle init\")\n",
    "        self.distance_traveled = distance_traveled\n",
    "        self.unit = unit\n",
    "        print(\"Vehicle init done\")\n",
    "\n",
    "\n",
    "    def description(self):\n",
    "        print(\"Vehicle description\")\n",
    "        return f\"A {self.__class__.__name__} has traveled {self.distance_traveled} {self.unit}\"\n",
    "\n",
    "\n",
    "class Car(Vehicle):\n",
    "    def __init__(self, distance_traveled = 0, unit = \"km\", tires = 4) -> None:\n",
    "        print(\"Car init\")\n",
    "        super().__init__(distance_traveled, unit)\n",
    "        self.tires = tires\n",
    "        print(\"Car init done\")\n",
    "\n",
    "\n",
    "    def drive(self, distance):\n",
    "        self.distance_traveled += distance\n",
    "\n",
    "    def description(self):\n",
    "        print(\"Car description\")\n",
    "        parent_description = super().description()\n",
    "        return f\"{parent_description}, using {self.tires} tires\"\n",
    "\n",
    "\n",
    "class Boat(Vehicle):\n",
    "    def __init__(self, boat_type = \"sail\", distance_traveled =0, unit = \"km\") -> None:\n",
    "        print(\"Boat init\")\n",
    "        super().__init__(distance_traveled, unit)\n",
    "        self.boat_type = boat_type\n",
    "        print(\"Boat done\")\n",
    "\n",
    "\n",
    "    def voyage(self, distance):\n",
    "        self.distance_traveled += distance\n",
    "\n",
    "    def description(self):\n",
    "        print(\"Boat description\")\n",
    "        parent_description = super().description()\n",
    "        return f\"{parent_description}, using a {self.boat_type}\"\n",
    "\n",
    "    "
   ]
  },
  {
   "cell_type": "code",
   "execution_count": 120,
   "metadata": {},
   "outputs": [
    {
     "name": "stdout",
     "output_type": "stream",
     "text": [
      "Car init\n",
      "Vehicle init\n",
      "Vehicle init done\n",
      "Car init done\n",
      "Car description\n",
      "Vehicle description\n",
      "-->  A Car has traveled 0 km, using 4 tires\n"
     ]
    }
   ],
   "source": [
    "car = Car()\n",
    "print(\"--> \", car.description())"
   ]
  },
  {
   "cell_type": "code",
   "execution_count": 121,
   "metadata": {},
   "outputs": [
    {
     "name": "stdout",
     "output_type": "stream",
     "text": [
      "Boat init\n",
      "Vehicle init\n",
      "Vehicle init done\n",
      "Boat done\n",
      "Boat description\n",
      "Vehicle description\n",
      "-->  A Boat has traveled 0 km, using a sail\n"
     ]
    }
   ],
   "source": [
    "boat = Boat()\n",
    "print(\"--> \", boat.description())"
   ]
  },
  {
   "cell_type": "code",
   "execution_count": 132,
   "metadata": {},
   "outputs": [],
   "source": [
    "class Amphibious(Car, Boat):\n",
    "    def __init__(self, distance_traveled=0, unit=\"km\", tires=3, boat_type = \"boat motor\") -> None:\n",
    "        super().__init__(distance_traveled, unit, tires)\n",
    "        self.boat_type = boat_type\n",
    "    \n",
    "    def travel(self, drive_distance = 0, voyage_distance = 0):\n",
    "        self.drive(drive_distance)\n",
    "        self.voyage(voyage_distance)"
   ]
  },
  {
   "cell_type": "code",
   "execution_count": 133,
   "metadata": {},
   "outputs": [
    {
     "name": "stdout",
     "output_type": "stream",
     "text": [
      "Car init\n",
      "Boat init\n",
      "Vehicle init\n",
      "Vehicle init done\n",
      "Boat done\n",
      "Car init done\n",
      "Car description\n",
      "Boat description\n",
      "Vehicle description\n",
      "-->  A Amphibious has traveled km km, using a boat motor, using 3 tires\n"
     ]
    }
   ],
   "source": [
    "amphibious = Amphibious(11)\n",
    "print(\"--> \", amphibious.description())"
   ]
  },
  {
   "cell_type": "code",
   "execution_count": 136,
   "metadata": {},
   "outputs": [
    {
     "data": {
      "text/plain": [
       "(__main__.Amphibious, __main__.Car, __main__.Boat, __main__.Vehicle, object)"
      ]
     },
     "execution_count": 136,
     "metadata": {},
     "output_type": "execute_result"
    }
   ],
   "source": [
    "# -->  A Amphibious has traveled km km, using a boat motor, using 3 tires\n",
    "\n",
    "\n",
    "#in this case  parent class for Car is Boat, not Vehicle....\n",
    "\n",
    "# Car super().__init__(distance_traveled, unit) passes parameters as positional args to\n",
    "# __init__(self, boat_type = \"sail\", distance_traveled =0...\n",
    "# and distance_traveled  is taken from unit\n",
    "\n",
    "Amphibious.__mro__\n"
   ]
  },
  {
   "cell_type": "code",
   "execution_count": 142,
   "metadata": {},
   "outputs": [],
   "source": [
    "#solution, when dealing with class inheritance\n",
    "# 1 - use keyword arguments\n",
    "# 2 - add **kwargs so method would simpy ignore unused arguments\n",
    "\n",
    "class VehicleFixed:\n",
    "    def __init__(self, distance_traveled = 0, unit = \"km\", **kwargs ) -> None:\n",
    "        self.distance_traveled = distance_traveled\n",
    "        self.unit = unit\n",
    "\n",
    "    def description(self):\n",
    "        return f\"A {self.__class__.__name__} has traveled {self.distance_traveled} {self.unit}\"\n",
    "\n",
    "\n",
    "class CarFixed(VehicleFixed):\n",
    "    def __init__(self, distance_traveled = 0, unit = \"km\", tires = 4, **kwargs ) -> None:\n",
    "        super().__init__(distance_traveled = distance_traveled, unit = unit)\n",
    "        self.tires = tires\n",
    "\n",
    "    def drive(self, distance):\n",
    "        self.distance_traveled += distance\n",
    "\n",
    "    def description(self):\n",
    "        parent_description = super().description()\n",
    "        return f\"{parent_description}, using {self.tires} tires\"\n",
    "\n",
    "\n",
    "class BoatFixed(VehicleFixed):\n",
    "    def __init__(self, boat_type = \"sail\", distance_traveled =0, unit = \"km\", **kwargs ) -> None:\n",
    "        super().__init__(distance_traveled = distance_traveled, unit = unit)\n",
    "        self.boat_type = boat_type\n",
    "\n",
    "\n",
    "    def voyage(self, distance):\n",
    "        self.distance_traveled += distance\n",
    "\n",
    "    def description(self):\n",
    "        parent_description = super().description()\n",
    "        return f\"{parent_description}, using a {self.boat_type}\"\n",
    "\n",
    "class AmphibiousFixed(CarFixed, BoatFixed):\n",
    "    def __init__(self, distance_traveled=0, unit=\"km\", tires=3, boat_type = \"boat motor\", **kwargs ) -> None:\n",
    "        super().__init__(distance_traveled = distance_traveled, unit = unit, tires = tires, boat_type = boat_type)\n",
    "    \n",
    "    def travel(self, drive_distance = 0, voyage_distance = 0):\n",
    "        self.drive(drive_distance)\n",
    "        self.voyage(voyage_distance)"
   ]
  },
  {
   "cell_type": "code",
   "execution_count": 144,
   "metadata": {},
   "outputs": [
    {
     "name": "stdout",
     "output_type": "stream",
     "text": [
      "-->  A AmphibiousFixed has traveled 0 km, using a sail, using 3 tires\n"
     ]
    }
   ],
   "source": [
    "amphibiousFixed = AmphibiousFixed()\n",
    "print(\"--> \", amphibiousFixed.description())"
   ]
  },
  {
   "cell_type": "code",
   "execution_count": 145,
   "metadata": {},
   "outputs": [
    {
     "data": {
      "text/plain": [
       "<bound method BoatFixed.voyage of <__main__.AmphibiousFixed object at 0x7fb6097a7bb0>>"
      ]
     },
     "execution_count": 145,
     "metadata": {},
     "output_type": "execute_result"
    }
   ],
   "source": [
    "amphibiousFixed.voyage"
   ]
  },
  {
   "cell_type": "code",
   "execution_count": 146,
   "metadata": {},
   "outputs": [
    {
     "data": {
      "text/plain": [
       "<bound method CarFixed.drive of <__main__.AmphibiousFixed object at 0x7fb6097a7bb0>>"
      ]
     },
     "execution_count": 146,
     "metadata": {},
     "output_type": "execute_result"
    }
   ],
   "source": [
    "amphibiousFixed.drive"
   ]
  },
  {
   "cell_type": "code",
   "execution_count": 148,
   "metadata": {},
   "outputs": [
    {
     "data": {
      "text/plain": [
       "<bound method AmphibiousFixed.travel of <__main__.AmphibiousFixed object at 0x7fb6097a7bb0>>"
      ]
     },
     "execution_count": 148,
     "metadata": {},
     "output_type": "execute_result"
    }
   ],
   "source": [
    "amphibiousFixed.travel"
   ]
  }
 ],
 "metadata": {
  "kernelspec": {
   "display_name": "Python 3.10.6 ('development-b1-6O1J9')",
   "language": "python",
   "name": "python3"
  },
  "language_info": {
   "codemirror_mode": {
    "name": "ipython",
    "version": 3
   },
   "file_extension": ".py",
   "mimetype": "text/x-python",
   "name": "python",
   "nbconvert_exporter": "python",
   "pygments_lexer": "ipython3",
   "version": "3.10.6"
  },
  "orig_nbformat": 4,
  "vscode": {
   "interpreter": {
    "hash": "0bcb8022dc2f9d3bc1f45bc3964b5bd89ae2a2e065d59fb88aa40f3b7e0fc1e6"
   }
  }
 },
 "nbformat": 4,
 "nbformat_minor": 2
}
