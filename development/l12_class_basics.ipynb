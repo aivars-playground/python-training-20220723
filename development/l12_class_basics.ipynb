{
 "cells": [
  {
   "cell_type": "code",
   "execution_count": 10,
   "metadata": {},
   "outputs": [],
   "source": [
    "class User:\n",
    "    base_url = 'example.com/api'\n",
    "\n",
    "    def __init__(self, first_name, last_name) -> None:\n",
    "        self.first_name = first_name\n",
    "        self.last_name = last_name\n",
    "    \n",
    "    @staticmethod\n",
    "    def compute(a,b):\n",
    "        return f'{a}+{b} = {a+b}'\n",
    "    \n",
    "    @classmethod\n",
    "    def query(cls, query_string):\n",
    "        return cls.base_url + '?' + query_string\n",
    "\n",
    "    @property\n",
    "    def full_name(self):\n",
    "        return f'{self.first_name} {self.last_name}'\n",
    "\n",
    "    def just_a_method(self, prefix):\n",
    "        return f'{prefix} {self.first_name} {self.last_name}'\n"
   ]
  },
  {
   "cell_type": "code",
   "execution_count": 11,
   "metadata": {},
   "outputs": [
    {
     "name": "stdout",
     "output_type": "stream",
     "text": [
      "<function User.compute at 0x7f3d780e3b80>\n"
     ]
    },
    {
     "data": {
      "text/plain": [
       "'1+2 = 3'"
      ]
     },
     "execution_count": 11,
     "metadata": {},
     "output_type": "execute_result"
    }
   ],
   "source": [
    "#calling static method\n",
    "print(User.compute)\n",
    "User.compute(1,2)"
   ]
  },
  {
   "cell_type": "code",
   "execution_count": 12,
   "metadata": {},
   "outputs": [
    {
     "name": "stdout",
     "output_type": "stream",
     "text": [
      "<bound method User.query of <class '__main__.User'>>\n"
     ]
    },
    {
     "data": {
      "text/plain": [
       "'example.com/api?id=1'"
      ]
     },
     "execution_count": 12,
     "metadata": {},
     "output_type": "execute_result"
    }
   ],
   "source": [
    "#calling class method   (has access to base_url, not to first/last name)\n",
    "print(User.query)\n",
    "User.query('id=1')"
   ]
  },
  {
   "cell_type": "code",
   "execution_count": 13,
   "metadata": {},
   "outputs": [],
   "source": [
    "user_1 = User('first', 'last')\n"
   ]
  },
  {
   "cell_type": "code",
   "execution_count": 14,
   "metadata": {},
   "outputs": [
    {
     "name": "stdout",
     "output_type": "stream",
     "text": [
      "<property object at 0x7f3d780f72c0>\n",
      "first last\n"
     ]
    }
   ],
   "source": [
    "print(User.full_name)\n",
    "print(user_1.full_name)"
   ]
  },
  {
   "cell_type": "code",
   "execution_count": 16,
   "metadata": {},
   "outputs": [
    {
     "name": "stdout",
     "output_type": "stream",
     "text": [
      "<function User.just_a_method at 0x7f3d780e35e0>\n",
      "<bound method User.just_a_method of <__main__.User object at 0x7f3d78130ee0>>\n",
      "CEO first last\n"
     ]
    }
   ],
   "source": [
    "print(User.just_a_method)\n",
    "print(user_1.just_a_method)\n",
    "print(user_1.just_a_method('CEO'))\n"
   ]
  }
 ],
 "metadata": {
  "kernelspec": {
   "display_name": "Python 3.9.12 ('base')",
   "language": "python",
   "name": "python3"
  },
  "language_info": {
   "codemirror_mode": {
    "name": "ipython",
    "version": 3
   },
   "file_extension": ".py",
   "mimetype": "text/x-python",
   "name": "python",
   "nbconvert_exporter": "python",
   "pygments_lexer": "ipython3",
   "version": "3.9.12"
  },
  "orig_nbformat": 4,
  "vscode": {
   "interpreter": {
    "hash": "63aeac27475015421e7df4e5c314eed8df35753dad26edf7debfb8ba47789dce"
   }
  }
 },
 "nbformat": 4,
 "nbformat_minor": 2
}
