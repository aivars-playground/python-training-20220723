{
 "cells": [
  {
   "cell_type": "code",
   "execution_count": 142,
   "metadata": {},
   "outputs": [],
   "source": [
    "class Car:\n",
    "    \"\"\"\n",
    "    Docstring for Car\n",
    "    \"\"\"\n",
    "\n",
    "    def __init__(self) -> None:\n",
    "        \"\"\"\n",
    "        Docstring for __init__\n",
    "        \"\"\"\n",
    "        print(\"initializing\", self)\n",
    "        pass"
   ]
  },
  {
   "cell_type": "code",
   "execution_count": 143,
   "metadata": {},
   "outputs": [
    {
     "name": "stdout",
     "output_type": "stream",
     "text": [
      "initializing <__main__.Car object at 0x7feb2c3f9520>\n"
     ]
    },
    {
     "data": {
      "text/plain": [
       "<__main__.Car at 0x7feb2c3f9520>"
      ]
     },
     "execution_count": 143,
     "metadata": {},
     "output_type": "execute_result"
    }
   ],
   "source": [
    "mycar = Car()\n",
    "\n",
    "mycar"
   ]
  },
  {
   "cell_type": "code",
   "execution_count": 144,
   "metadata": {},
   "outputs": [],
   "source": [
    "class Car:\n",
    "    def __init__(self,engine,tires) -> None:\n",
    "        self.engine = engine\n",
    "        self.tires = tires"
   ]
  },
  {
   "cell_type": "code",
   "execution_count": 145,
   "metadata": {},
   "outputs": [
    {
     "name": "stdout",
     "output_type": "stream",
     "text": [
      "<__main__.Car object at 0x7feb2c3f9640>\n",
      "V8 ['front_left', 'front_right', 'rear_right', 'rear_left']\n"
     ]
    }
   ],
   "source": [
    "mycar = Car('V8',['front_left','front_right','rear_right', 'rear_left'])\n",
    "\n",
    "print(mycar)\n",
    "print(mycar.engine, mycar.tires)"
   ]
  },
  {
   "cell_type": "code",
   "execution_count": 146,
   "metadata": {},
   "outputs": [
    {
     "name": "stdout",
     "output_type": "stream",
     "text": [
      "<__main__.Car object at 0x7feb2c3f9640> 1234567890\n"
     ]
    }
   ],
   "source": [
    "#define a variable, attached to an instance\n",
    "\n",
    "mycar.vin = \"1234567890\"\n",
    "\n",
    "print(mycar, mycar.vin)"
   ]
  },
  {
   "cell_type": "code",
   "execution_count": 147,
   "metadata": {},
   "outputs": [],
   "source": [
    "class Car:\n",
    "    def __init__(self,engine,tires) -> None:\n",
    "        self.engine = engine\n",
    "        self.tires = tires\n",
    "    def description(self) -> None:\n",
    "        print(f'A car with {self.engine} engine and {self.tires}')"
   ]
  },
  {
   "cell_type": "code",
   "execution_count": 148,
   "metadata": {},
   "outputs": [
    {
     "name": "stdout",
     "output_type": "stream",
     "text": [
      "A car with V8 engine and ['front_left', 'front_right', 'rear_right', 'rear_left']\n"
     ]
    }
   ],
   "source": [
    "mycar = Car('V8',['front_left','front_right','rear_right', 'rear_left'])\n",
    "mycar.description()"
   ]
  },
  {
   "cell_type": "code",
   "execution_count": 149,
   "metadata": {},
   "outputs": [],
   "source": [
    "class Tire:\n",
    "    def __init__(self, type, width, ratio, diameter, brand='', construction='R') -> None:\n",
    "        self.type = type\n",
    "        self.width = width\n",
    "        self.ratio = ratio\n",
    "        self.diameter = diameter\n",
    "        self.brand = brand\n",
    "        self.construction = construction"
   ]
  },
  {
   "cell_type": "code",
   "execution_count": 150,
   "metadata": {},
   "outputs": [
    {
     "name": "stdout",
     "output_type": "stream",
     "text": [
      "A car with electric engine and [<__main__.Tire object at 0x7feb2c3d0e50>, <__main__.Tire object at 0x7feb2c3d0e50>, <__main__.Tire object at 0x7feb2c3d0e50>, <__main__.Tire object at 0x7feb2c3d0e50>]\n"
     ]
    }
   ],
   "source": [
    "mytire = Tire('P', 250, 55, 16)\n",
    "\n",
    "tires = [mytire, mytire, mytire, mytire]\n",
    "\n",
    "mycar = Car('electric', tires)\n",
    "mycar.description()\n"
   ]
  },
  {
   "cell_type": "code",
   "execution_count": 151,
   "metadata": {},
   "outputs": [],
   "source": [
    "class Tire:\n",
    "    def __init__(self, type, width, ratio, diameter, brand='', construction='R') -> None:\n",
    "        self.type = type\n",
    "        self.width = width\n",
    "        self.ratio = ratio\n",
    "        self.diameter = diameter\n",
    "        self.brand = brand\n",
    "        self.construction = construction\n",
    "    def __repr__(self) -> str:\n",
    "        \"\"\"\n",
    "        Tire label, i.e. 'P215/65R15'\n",
    "        \"\"\"\n",
    "        return(f\"{self.type}{self.width}/{self.ratio}\"\\\n",
    "                f\"{self.construction}{self.diameter}\")\n"
   ]
  },
  {
   "cell_type": "code",
   "execution_count": 152,
   "metadata": {},
   "outputs": [
    {
     "name": "stdout",
     "output_type": "stream",
     "text": [
      "A car with electric engine and [P250/55R16, P250/55R16, P250/55R16, P250/55R16]\n"
     ]
    }
   ],
   "source": [
    "mytire = Tire('P', 250, 55, 16)\n",
    "tires = [mytire, mytire, mytire, mytire]\n",
    "mycar = Car('electric', tires)\n",
    "mycar.description()"
   ]
  },
  {
   "cell_type": "code",
   "execution_count": 153,
   "metadata": {},
   "outputs": [],
   "source": [
    "import math\n",
    "\n",
    "\n",
    "class Tire:\n",
    "    def __init__(self, type, width, ratio, diameter, brand='', construction='R') -> None:\n",
    "        self.type = type\n",
    "        self.width = width\n",
    "        self.ratio = ratio\n",
    "        self.diameter = diameter\n",
    "        self.brand = brand\n",
    "        self.construction = construction\n",
    "    def __repr__(self) -> str:\n",
    "        \"\"\"\n",
    "        Tire label, i.e. 'P215/65R15'\n",
    "        \"\"\"\n",
    "        return(f\"{self.type}{self.width}/{self.ratio}\"\\\n",
    "                f\"{self.construction}{self.diameter}\")\n",
    "    def circumference(self):\n",
    "        \"\"\"\n",
    "        circumference of tire\n",
    "\n",
    "        >>> tire = Tire('P', 205, 65, 15)\n",
    "        >>> tire.circumference()\n",
    "        80.1\n",
    "        \"\"\"\n",
    "        side_wall_inches = (self.width * (self.ratio / 100)) / 25.4\n",
    "        total_diemeter = side_wall_inches * 2 + self.diameter\n",
    "        return round(total_diemeter * math.pi, 1)\n",
    "\n"
   ]
  },
  {
   "cell_type": "code",
   "execution_count": 154,
   "metadata": {},
   "outputs": [
    {
     "name": "stdout",
     "output_type": "stream",
     "text": [
      "Trying:\n",
      "    tire1 = SnowTire('P', 205, 65, 15, 2)\n",
      "Expecting nothing\n",
      "ok\n",
      "Trying:\n",
      "    tire1.circumference()\n",
      "Expecting:\n",
      "    92.7\n",
      "ok\n",
      "Trying:\n",
      "    tire = Tire('P', 205, 65, 15)\n",
      "Expecting nothing\n",
      "ok\n",
      "Trying:\n",
      "    tire.circumference()\n",
      "Expecting:\n",
      "    80.1\n",
      "ok\n",
      "18 items had no tests:\n",
      "    __main__\n",
      "    __main__.Car\n",
      "    __main__.Car.__init__\n",
      "    __main__.Car.description\n",
      "    __main__.SnowTire\n",
      "    __main__.SnowTire.__init__\n",
      "    __main__.SnowTire.__repr__\n",
      "    __main__.Tire\n",
      "    __main__.Tire.__init__\n",
      "    __main__.Tire.__repr__\n",
      "    __main__.Tire1\n",
      "    __main__.Tire1._Tire1__side_wall_inches\n",
      "    __main__.Tire1.__init__\n",
      "    __main__.Tire1.__repr__\n",
      "    __main__.Tire1.circumference\n",
      "    __main__._30\n",
      "    __main__.___\n",
      "    __main__.___.__init__\n",
      "2 items passed all tests:\n",
      "   2 tests in __main__.SnowTire.circumference\n",
      "   2 tests in __main__.Tire.circumference\n",
      "4 tests in 20 items.\n",
      "4 passed and 0 failed.\n",
      "Test passed.\n"
     ]
    },
    {
     "data": {
      "text/plain": [
       "TestResults(failed=0, attempted=4)"
      ]
     },
     "execution_count": 154,
     "metadata": {},
     "output_type": "execute_result"
    }
   ],
   "source": [
    "import doctest\n",
    "doctest.testmod(verbose=True)\n"
   ]
  },
  {
   "cell_type": "code",
   "execution_count": 155,
   "metadata": {},
   "outputs": [],
   "source": [
    "class SnowTire(Tire):\n",
    "    def __init__(self, type, width, ratio, diameter, chain_thickness, brand='', construction='R') -> None:\n",
    "        Tire.__init__(self, type, width, ratio, diameter, brand, construction)\n",
    "        self.chain_thickness = chain_thickness\n",
    "    def circumference(self) -> Float:\n",
    "        \"\"\"\n",
    "        circumference of tire with chain\n",
    "        \n",
    "        >>> tire = SnowTire('P', 205, 65, 15, 2)\n",
    "        >>> tire.circumference()\n",
    "        92.7\n",
    "        \"\"\"\n",
    "#... we want to reuse parent class"
   ]
  },
  {
   "cell_type": "code",
   "execution_count": 164,
   "metadata": {},
   "outputs": [
    {
     "name": "stdout",
     "output_type": "stream",
     "text": [
      "Trying:\n",
      "    SnowTire('P', 205, 65, 15, 2).circumference()\n",
      "Expecting:\n",
      "    92.7\n",
      "ok\n",
      "20 items had no tests:\n",
      "    __main__\n",
      "    __main__.Car\n",
      "    __main__.Car.__init__\n",
      "    __main__.Car.description\n",
      "    __main__.SnowTire\n",
      "    __main__.SnowTire.__init__\n",
      "    __main__.SnowTire.__repr__\n",
      "    __main__.Tire\n",
      "    __main__.Tire.__init__\n",
      "    __main__.Tire.__repr__\n",
      "    __main__.Tire._side_wall_inches\n",
      "    __main__.Tire.circumference\n",
      "    __main__.Tire1\n",
      "    __main__.Tire1._Tire1__side_wall_inches\n",
      "    __main__.Tire1.__init__\n",
      "    __main__.Tire1.__repr__\n",
      "    __main__.Tire1.circumference\n",
      "    __main__._30\n",
      "    __main__.___\n",
      "    __main__.___.__init__\n",
      "1 items passed all tests:\n",
      "   1 tests in __main__.SnowTire.circumference\n",
      "1 tests in 21 items.\n",
      "1 passed and 0 failed.\n",
      "Test passed.\n"
     ]
    },
    {
     "data": {
      "text/plain": [
       "TestResults(failed=0, attempted=1)"
      ]
     },
     "execution_count": 164,
     "metadata": {},
     "output_type": "execute_result"
    }
   ],
   "source": [
    "class Tire:\n",
    "    def __init__(self, type, width, ratio, diameter, brand='', construction='R') -> None:\n",
    "        self.type = type\n",
    "        self.width = width\n",
    "        self.ratio = ratio\n",
    "        self.diameter = diameter\n",
    "        self.brand = brand\n",
    "        self.construction = construction\n",
    "    def __repr__(self) -> str:\n",
    "        \"\"\"\n",
    "        Tire label, i.e. 'P215/65R15'\n",
    "        \"\"\"\n",
    "        return(f\"{self.type}{self.width}/{self.ratio}\"\\\n",
    "                f\"{self.construction}{self.diameter}\")\n",
    "    def circumference(self):\n",
    "        total_diemeter = self._side_wall_inches() * 2 + self.diameter\n",
    "        return round(total_diemeter * math.pi, 1)\n",
    "    def _side_wall_inches(self):\n",
    "        return (self.width * (self.ratio / 100)) / 25.4\n",
    "\n",
    "\n",
    "class SnowTire(Tire):\n",
    "    def __init__(self, type, width, ratio, diameter, chain_thickness, brand='', construction='R') -> None:\n",
    "        super().__init__(type, width, ratio, diameter, brand, construction)\n",
    "        self.chain_thickness = chain_thickness\n",
    "    def circumference(self):\n",
    "        \"\"\"\n",
    "        circumference of tire with chain\n",
    "        \n",
    "        >>> SnowTire('P', 205, 65, 15, 2).circumference()\n",
    "        92.7\n",
    "        \"\"\"\n",
    "        total_diameter = (super()._side_wall_inches() + self.chain_thickness) * 2 + self.diameter\n",
    "        return round(total_diameter * math.pi, 1)\n",
    "    def __repr__(self) -> str:\n",
    "        return super().__repr__() + \" (Snow)\"\n",
    "\n",
    "import doctest\n",
    "doctest.testmod(verbose=True)"
   ]
  },
  {
   "cell_type": "code",
   "execution_count": 163,
   "metadata": {},
   "outputs": [
    {
     "name": "stdout",
     "output_type": "stream",
     "text": [
      "P205/65R15 (Snow)\n"
     ]
    }
   ],
   "source": [
    "snowtire = SnowTire('P', 205, 65, 15, 2)\n",
    "print(snowtire)"
   ]
  },
  {
   "cell_type": "code",
   "execution_count": 170,
   "metadata": {},
   "outputs": [
    {
     "name": "stdout",
     "output_type": "stream",
     "text": [
      "35\n"
     ]
    }
   ],
   "source": [
    "class Car:\n",
    "    def __init__(self,engine,tires) -> None:\n",
    "        self.engine = engine\n",
    "        self.tires = tires\n",
    "    def description(self) -> None:\n",
    "        print(f'A car with {self.engine} engine and {self.tires}')\n",
    "    def weel_circumference(self):\n",
    "        return self.tires and self.tires[0].circumference() or 0\n",
    "\n",
    "\n",
    "class HulaLoop:\n",
    "    def circumference(self):\n",
    "        return 35\n",
    "\n",
    "toy_car = Car(\"no\", [HulaLoop()])\n",
    "\n",
    "print(toy_car.weel_circumference())"
   ]
  },
  {
   "cell_type": "code",
   "execution_count": 2,
   "metadata": {},
   "outputs": [
    {
     "name": "stdout",
     "output_type": "stream",
     "text": [
      "['__doc__', '__slots__', '_fields', '_field_defaults', '__new__', '_make', '_replace', '__repr__', '_asdict', '__getnewargs__', '__match_args__', 'name', 'age', 'faculty', '__module__', '__hash__', '__getattribute__', '__lt__', '__le__', '__eq__', '__ne__', '__gt__', '__ge__', '__iter__', '__len__', '__getitem__', '__add__', '__mul__', '__rmul__', '__contains__', 'index', 'count', '__class_getitem__', '__str__', '__setattr__', '__delattr__', '__init__', '__reduce_ex__', '__reduce__', '__subclasshook__', '__init_subclass__', '__format__', '__sizeof__', '__dir__', '__class__']\n"
     ]
    }
   ],
   "source": [
    "from collections import namedtuple\n",
    "\n",
    "Student = namedtuple('Student', ['name', 'age', 'faculty'])\n",
    "\n",
    "student = Student('Name', '45', 'Philosophy')\n",
    "\n",
    "print(student.__dir__())\n",
    "\n",
    "#named tuple has no dict"
   ]
  },
  {
   "cell_type": "code",
   "execution_count": 3,
   "metadata": {},
   "outputs": [
    {
     "name": "stdout",
     "output_type": "stream",
     "text": [
      "{'name': 'Name', 'age': '45', 'faculty': 'Philosophy'}\n"
     ]
    }
   ],
   "source": [
    "from dataclasses import dataclass\n",
    "\n",
    "@dataclass\n",
    "class StudentData:\n",
    "    name: str\n",
    "    age: str\n",
    "    faculty: str\n",
    "\n",
    "student1 = StudentData('Name', '45', 'Philosophy')\n",
    "print(student1.__dict__)"
   ]
  }
 ],
 "metadata": {
  "kernelspec": {
   "display_name": "Python 3.10.6 64-bit",
   "language": "python",
   "name": "python3"
  },
  "language_info": {
   "codemirror_mode": {
    "name": "ipython",
    "version": 3
   },
   "file_extension": ".py",
   "mimetype": "text/x-python",
   "name": "python",
   "nbconvert_exporter": "python",
   "pygments_lexer": "ipython3",
   "version": "3.10.6"
  },
  "orig_nbformat": 4,
  "vscode": {
   "interpreter": {
    "hash": "7e1998ff7f8aa20ada591c520b972326324e5ea05489af9e422744c7c09f6dad"
   }
  }
 },
 "nbformat": 4,
 "nbformat_minor": 2
}
