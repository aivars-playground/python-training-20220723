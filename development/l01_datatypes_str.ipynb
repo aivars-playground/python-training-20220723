{
 "cells": [
  {
   "cell_type": "markdown",
   "metadata": {},
   "source": [
    "Strings\n",
    "https://docs.python.org/3/library/string.html"
   ]
  },
  {
   "cell_type": "code",
   "execution_count": 40,
   "metadata": {},
   "outputs": [
    {
     "data": {
      "text/plain": [
       "'bbbb'"
      ]
     },
     "execution_count": 40,
     "metadata": {},
     "output_type": "execute_result"
    }
   ],
   "source": [
    "\"aaaa\"\n",
    "'bbbb'"
   ]
  },
  {
   "cell_type": "code",
   "execution_count": 41,
   "metadata": {},
   "outputs": [
    {
     "name": "stdout",
     "output_type": "stream",
     "text": [
      "singlelinestring\n"
     ]
    }
   ],
   "source": [
    "singleline = \"single\"\\\n",
    "    \"line\"\\\n",
    "    \"string\"\n",
    "print(singleline)"
   ]
  },
  {
   "cell_type": "code",
   "execution_count": 42,
   "metadata": {},
   "outputs": [
    {
     "name": "stdout",
     "output_type": "stream",
     "text": [
      "AAA\n",
      "BB\"B\n",
      "CC'C\n",
      "DD\"\"\"D\n"
     ]
    }
   ],
   "source": [
    "\n",
    "multiline = \"\"\"AAA\n",
    "BB\"B\n",
    "CC'C\n",
    "DD\\\"\"\"D\"\"\"\n",
    "print(multiline)"
   ]
  },
  {
   "cell_type": "code",
   "execution_count": 43,
   "metadata": {},
   "outputs": [
    {
     "name": "stdout",
     "output_type": "stream",
     "text": [
      "aaaabbbbcccc\n"
     ]
    }
   ],
   "source": [
    "\n",
    "concatenated = \"aaaa\" \"bbbb\" \"cccc\"\n",
    "print(concatenated)"
   ]
  },
  {
   "cell_type": "code",
   "execution_count": 44,
   "metadata": {},
   "outputs": [
    {
     "name": "stdout",
     "output_type": "stream",
     "text": [
      "aaaabbbbcccc\n"
     ]
    }
   ],
   "source": [
    "concatenated_ml = (\"aaaa\"\n",
    "    \"bbbb\"\n",
    "    \"cccc\")\n",
    "print(concatenated_ml)"
   ]
  },
  {
   "cell_type": "code",
   "execution_count": 45,
   "metadata": {},
   "outputs": [
    {
     "name": "stdout",
     "output_type": "stream",
     "text": [
      "**********\n",
      "@@@@@@@@@@\n"
     ]
    }
   ],
   "source": [
    "print(\"*\" * 10)\n",
    "print(10 * \"@\")"
   ]
  },
  {
   "cell_type": "code",
   "execution_count": 49,
   "metadata": {},
   "outputs": [
    {
     "name": "stdout",
     "output_type": "stream",
     "text": [
      "1\n",
      "-1\n",
      "-1\n",
      "0\n"
     ]
    }
   ],
   "source": [
    "# finds first\n",
    "print(\"abc\".find(\"b\"))\n",
    "print(\"abc\".find(\"e\"))\n",
    "print(\"abc\".find(\"e\"))"
   ]
  },
  {
   "cell_type": "code",
   "execution_count": 61,
   "metadata": {},
   "outputs": [
    {
     "name": "stdout",
     "output_type": "stream",
     "text": [
      "True\n",
      "True\n",
      "False\n"
     ]
    },
    {
     "data": {
      "text/plain": [
       "'a:ABC b:ABC c:ABC d:abc'"
      ]
     },
     "execution_count": 61,
     "metadata": {},
     "output_type": "execute_result"
    }
   ],
   "source": [
    "a = \"ABC\"\n",
    "\n",
    "b = a\n",
    "print(a is b)\n",
    "\n",
    "c = a[:] \n",
    "print(a is c)\n",
    "\n",
    "d = a.lower()\n",
    "print(a is d)\n",
    "\n",
    "'a:'+a+' b:'+b+' c:'+c+' d:'+d"
   ]
  },
  {
   "cell_type": "code",
   "execution_count": 1,
   "metadata": {},
   "outputs": [
    {
     "name": "stdout",
     "output_type": "stream",
     "text": [
      "<built-in method lower of str object at 0x7f97951005b0>\n"
     ]
    }
   ],
   "source": [
    "print(\"ABC\".lower)"
   ]
  },
  {
   "cell_type": "code",
   "execution_count": 18,
   "metadata": {},
   "outputs": [
    {
     "name": "stdout",
     "output_type": "stream",
     "text": [
      "<class 'str'>\n"
     ]
    }
   ],
   "source": [
    "print(\"abc\".__class__)"
   ]
  },
  {
   "cell_type": "code",
   "execution_count": 15,
   "metadata": {},
   "outputs": [
    {
     "name": "stdout",
     "output_type": "stream",
     "text": [
      "zzz\n",
      "zzz\n",
      "Zzz\n",
      "<class 'str'>\n"
     ]
    },
    {
     "ename": "TypeError",
     "evalue": "unbound method str.capitalize() needs an argument",
     "output_type": "error",
     "traceback": [
      "\u001b[0;31m---------------------------------------------------------------------------\u001b[0m",
      "\u001b[0;31mTypeError\u001b[0m                                 Traceback (most recent call last)",
      "\u001b[1;32m/com.docker.devenvironments.code/python-training-20220723/development/l01_datatypes_str.ipynb Cell 11\u001b[0m in \u001b[0;36m<cell line: 10>\u001b[0;34m()\u001b[0m\n\u001b[1;32m      <a href='vscode-notebook-cell://attached-container%2B7b22636f6e7461696e65724e616d65223a222f39666336646132333066653139383938333631646464303065363837323164666139326161646535666462313231633863643365613839363632383265383261227d/com.docker.devenvironments.code/python-training-20220723/development/l01_datatypes_str.ipynb#ch0000011vscode-remote?line=6'>7</a>\u001b[0m \u001b[39mdel\u001b[39;00m \u001b[39mstr\u001b[39m\n\u001b[1;32m      <a href='vscode-notebook-cell://attached-container%2B7b22636f6e7461696e65724e616d65223a222f39666336646132333066653139383938333631646464303065363837323164666139326161646535666462313231633863643365613839363632383265383261227d/com.docker.devenvironments.code/python-training-20220723/development/l01_datatypes_str.ipynb#ch0000011vscode-remote?line=7'>8</a>\u001b[0m \u001b[39mprint\u001b[39m(\u001b[39mstr\u001b[39m)\n\u001b[0;32m---> <a href='vscode-notebook-cell://attached-container%2B7b22636f6e7461696e65724e616d65223a222f39666336646132333066653139383938333631646464303065363837323164666139326161646535666462313231633863643365613839363632383265383261227d/com.docker.devenvironments.code/python-training-20220723/development/l01_datatypes_str.ipynb#ch0000011vscode-remote?line=9'>10</a>\u001b[0m \u001b[39mprint\u001b[39m(\u001b[39mstr\u001b[39;49m\u001b[39m.\u001b[39;49mcapitalize())\n",
      "\u001b[0;31mTypeError\u001b[0m: unbound method str.capitalize() needs an argument"
     ]
    }
   ],
   "source": [
    "print(str)\n",
    "\n",
    "str = \"zzz\"\n",
    "print(str)\n",
    "print(str.capitalize())\n",
    "\n",
    "del str\n",
    "print(str)\n",
    "\n",
    "print(str.capitalize())"
   ]
  }
 ],
 "metadata": {
  "kernelspec": {
   "display_name": "Python 3.10.4 ('latest')",
   "language": "python",
   "name": "python3"
  },
  "language_info": {
   "codemirror_mode": {
    "name": "ipython",
    "version": 3
   },
   "file_extension": ".py",
   "mimetype": "text/x-python",
   "name": "python",
   "nbconvert_exporter": "python",
   "pygments_lexer": "ipython3",
   "version": "3.10.4"
  },
  "orig_nbformat": 4,
  "vscode": {
   "interpreter": {
    "hash": "3f430c6c32c2810e89fab52ecb1e262fd40de6fca17a025cc1d93cb19e407557"
   }
  }
 },
 "nbformat": 4,
 "nbformat_minor": 2
}
