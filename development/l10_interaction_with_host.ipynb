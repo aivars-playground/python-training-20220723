{
 "cells": [
  {
   "cell_type": "code",
   "execution_count": 34,
   "metadata": {},
   "outputs": [],
   "source": [
    "my_file = open('./.ignoreme/example_1.txt', 'w+')\n",
    "my_file.write('ABC\\n')\n",
    "my_file.write('BCD\\n')\n",
    "my_file.writelines([\n",
    "    \"CDE\\n\",\n",
    "    \"DEF\\n\",\n",
    "    \"EFG\\n\"\n",
    "])\n",
    "my_file.close()"
   ]
  },
  {
   "cell_type": "code",
   "execution_count": 37,
   "metadata": {},
   "outputs": [
    {
     "name": "stdout",
     "output_type": "stream",
     "text": [
      "-----------start\n",
      "ABC\n",
      "BCD\n",
      "CDE\n",
      "DEF\n",
      "EFG\n",
      "\n",
      "-----------end\n"
     ]
    }
   ],
   "source": [
    "my_file = open('./.ignoreme/example_1.txt', 'r')\n",
    "print(\"-----------start\")\n",
    "print(my_file.read())\n",
    "print(\"-----------end\")\n",
    "my_file.close()"
   ]
  },
  {
   "cell_type": "code",
   "execution_count": 14,
   "metadata": {},
   "outputs": [
    {
     "data": {
      "text/plain": [
       "<_io.TextIOWrapper name='./.ignoreme/example_2.txt' mode='w+' encoding='UTF-8'>"
      ]
     },
     "execution_count": 14,
     "metadata": {},
     "output_type": "execute_result"
    }
   ],
   "source": [
    "#auto-closeable\n",
    "with open('./.ignoreme/example_2.txt', 'w+') as my_file2:\n",
    "    my_file2.write('123\\n')\n",
    "    my_file2.write('456\\n')"
   ]
  },
  {
   "cell_type": "code",
   "execution_count": 1,
   "metadata": {},
   "outputs": [
    {
     "name": "stdout",
     "output_type": "stream",
     "text": [
      "123\n",
      "456\n",
      "\n"
     ]
    },
    {
     "ename": "ValueError",
     "evalue": "I/O operation on closed file.",
     "output_type": "error",
     "traceback": [
      "\u001b[0;31m---------------------------------------------------------------------------\u001b[0m",
      "\u001b[0;31mValueError\u001b[0m                                Traceback (most recent call last)",
      "\u001b[1;32m/com.docker.devenvironments.code/development/l10_interaction_with_host.ipynb Cell 4\u001b[0m in \u001b[0;36m<cell line: 6>\u001b[0;34m()\u001b[0m\n\u001b[1;32m      <a href='vscode-notebook-cell://attached-container%2B7b22636f6e7461696e65724e616d65223a222f36363639323031323635663939633737666465643934336164323135393432313263383266623062633832303533316136346562346661376330363039613366227d/com.docker.devenvironments.code/development/l10_interaction_with_host.ipynb#ch0000003vscode-remote?line=2'>3</a>\u001b[0m \u001b[39mwith\u001b[39;00m(my_file2):\n\u001b[1;32m      <a href='vscode-notebook-cell://attached-container%2B7b22636f6e7461696e65724e616d65223a222f36363639323031323635663939633737666465643934336164323135393432313263383266623062633832303533316136346562346661376330363039613366227d/com.docker.devenvironments.code/development/l10_interaction_with_host.ipynb#ch0000003vscode-remote?line=3'>4</a>\u001b[0m     \u001b[39mprint\u001b[39m(my_file2\u001b[39m.\u001b[39mread())\n\u001b[0;32m----> <a href='vscode-notebook-cell://attached-container%2B7b22636f6e7461696e65724e616d65223a222f36363639323031323635663939633737666465643934336164323135393432313263383266623062633832303533316136346562346661376330363039613366227d/com.docker.devenvironments.code/development/l10_interaction_with_host.ipynb#ch0000003vscode-remote?line=5'>6</a>\u001b[0m my_file2\u001b[39m.\u001b[39;49mread()\n",
      "\u001b[0;31mValueError\u001b[0m: I/O operation on closed file."
     ]
    }
   ],
   "source": [
    "#auto-closeable alternative syntax\n",
    "my_file2 = open('./.ignoreme/example_2.txt', 'r+')\n",
    "with(my_file2):\n",
    "    print(my_file2.read())\n",
    "\n",
    "my_file2.read()    #already closed"
   ]
  },
  {
   "cell_type": "code",
   "execution_count": 10,
   "metadata": {},
   "outputs": [
    {
     "name": "stdout",
     "output_type": "stream",
     "text": [
      "curren user:VSCODE\n"
     ]
    }
   ],
   "source": [
    "import os\n",
    "\n",
    "os_user = os.environ['USER'].upper()\n",
    "print(f\"curren user:{os_user}\")"
   ]
  },
  {
   "cell_type": "code",
   "execution_count": 27,
   "metadata": {},
   "outputs": [
    {
     "name": "stdout",
     "output_type": "stream",
     "text": [
      "writeStep: 0\n",
      " |-- it worked!!!\n",
      " \\-- exiting writeStep0\n",
      "writeStep: 1\n",
      " |-- error: file \"./.ignoreme/example_3.txt\" exists, skipping step:1\n",
      " \\-- exiting writeStep1\n"
     ]
    }
   ],
   "source": [
    "def writeStep(i):\n",
    "    try:\n",
    "        with open('./.ignoreme/example_3.txt', 'x') as my_file3: my_file3.write(f'i:{i}\\n')\n",
    "    except FileExistsError as err:\n",
    "        print(f' |-- error: file \"{err.filename}\" exists, skipping step:{i}')\n",
    "    except IOError:\n",
    "        print(' |-- ouch!!!')\n",
    "    else:\n",
    "        print(' |-- it worked!!!')\n",
    "    finally:\n",
    "        print(f' \\-- exiting writeStep{i}')\n",
    "\n",
    "\n",
    "for i in range(2):\n",
    "    print('writeStep:', i)\n",
    "    writeStep(i)"
   ]
  },
  {
   "cell_type": "code",
   "execution_count": null,
   "metadata": {},
   "outputs": [],
   "source": []
  }
 ],
 "metadata": {
  "kernelspec": {
   "display_name": "Python 3.9.12 ('base')",
   "language": "python",
   "name": "python3"
  },
  "language_info": {
   "codemirror_mode": {
    "name": "ipython",
    "version": 3
   },
   "file_extension": ".py",
   "mimetype": "text/x-python",
   "name": "python",
   "nbconvert_exporter": "python",
   "pygments_lexer": "ipython3",
   "version": "3.9.12"
  },
  "orig_nbformat": 4,
  "vscode": {
   "interpreter": {
    "hash": "63aeac27475015421e7df4e5c314eed8df35753dad26edf7debfb8ba47789dce"
   }
  }
 },
 "nbformat": 4,
 "nbformat_minor": 2
}
