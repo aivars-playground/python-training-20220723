{
 "cells": [
  {
   "cell_type": "markdown",
   "metadata": {},
   "source": [
    "Numeric\n",
    "https://docs.python.org/3/library/stdtypes.html#numeric-types-int-float-complex"
   ]
  },
  {
   "cell_type": "code",
   "execution_count": 2,
   "metadata": {},
   "outputs": [
    {
     "name": "stdout",
     "output_type": "stream",
     "text": [
      "4\n"
     ]
    }
   ],
   "source": [
    "print(2+2)"
   ]
  },
  {
   "cell_type": "code",
   "execution_count": 8,
   "metadata": {},
   "outputs": [
    {
     "name": "stdout",
     "output_type": "stream",
     "text": [
      "8\n",
      "2\n",
      "1.6666666666666667\n",
      "1\n",
      "2\n",
      "15\n",
      "125\n",
      "125\n"
     ]
    }
   ],
   "source": [
    "print(5 + 3)\n",
    "print(5 - 3)\n",
    "\n",
    "print(5/3)       #older version used integer division (//) returning whole portion\n",
    "print(5//3)\n",
    "print(5%3)\n",
    "\n",
    "print(5*3)\n",
    "print(5**3)      #exponent\n",
    "print(pow(5,3))"
   ]
  },
  {
   "cell_type": "code",
   "execution_count": 15,
   "metadata": {},
   "outputs": [
    {
     "name": "stdout",
     "output_type": "stream",
     "text": [
      "7.0\n",
      "<class 'float'>\n",
      "7.0\n",
      "7.0\n",
      "<class 'int'>\n",
      "<class 'float'>\n",
      "1\n",
      "1.1\n"
     ]
    }
   ],
   "source": [
    "fl = 7.0\n",
    "print(fl)\n",
    "print(fl.__class__)\n",
    "\n",
    "print(float(7.0))\n",
    "print(float(7))\n",
    "i = 5\n",
    "print(i.__class__)\n",
    "print(float(i).__class__)\n",
    "\n",
    "print(int(\"1\"))\n",
    "print(float(\"1.1\"))"
   ]
  },
  {
   "cell_type": "code",
   "execution_count": 19,
   "metadata": {},
   "outputs": [
    {
     "data": {
      "text/plain": [
       "1"
      ]
     },
     "execution_count": 19,
     "metadata": {},
     "output_type": "execute_result"
    }
   ],
   "source": [
    "int(1.9999999999999)"
   ]
  },
  {
   "cell_type": "code",
   "execution_count": 20,
   "metadata": {},
   "outputs": [
    {
     "data": {
      "text/plain": [
       "-1"
      ]
     },
     "execution_count": 20,
     "metadata": {},
     "output_type": "execute_result"
    }
   ],
   "source": [
    "int(-1.9999999999999)"
   ]
  },
  {
   "cell_type": "code",
   "execution_count": 18,
   "metadata": {},
   "outputs": [
    {
     "ename": "ValueError",
     "evalue": "invalid literal for int() with base 10: '1.9999999999999'",
     "output_type": "error",
     "traceback": [
      "\u001b[0;31m---------------------------------------------------------------------------\u001b[0m",
      "\u001b[0;31mValueError\u001b[0m                                Traceback (most recent call last)",
      "\u001b[1;32m/com.docker.devenvironments.code/python-training-20220723/development/l02_datatypes_numeric.ipynb Cell 6\u001b[0m in \u001b[0;36m<cell line: 1>\u001b[0;34m()\u001b[0m\n\u001b[0;32m----> <a href='vscode-notebook-cell://attached-container%2B7b22636f6e7461696e65724e616d65223a222f39666336646132333066653139383938333631646464303065363837323164666139326161646535666462313231633863643365613839363632383265383261227d/com.docker.devenvironments.code/python-training-20220723/development/l02_datatypes_numeric.ipynb#ch0000008vscode-remote?line=0'>1</a>\u001b[0m \u001b[39mint\u001b[39;49m(\u001b[39m\"\u001b[39;49m\u001b[39m1.9999999999999\u001b[39;49m\u001b[39m\"\u001b[39;49m)\n",
      "\u001b[0;31mValueError\u001b[0m: invalid literal for int() with base 10: '1.9999999999999'"
     ]
    }
   ],
   "source": [
    "int(\"1.9999999999999\")"
   ]
  },
  {
   "cell_type": "code",
   "execution_count": 1,
   "metadata": {},
   "outputs": [
    {
     "name": "stdout",
     "output_type": "stream",
     "text": [
      "<class 'int'>\n",
      "999999999999999999999999999999999999999999999999999999999999999999999999999999999999999999999999999999999999999999999999999999999999999999999999999999999999999999999\n"
     ]
    }
   ],
   "source": [
    "i = 999999999999999999999999999999999999999999999999999999999999999999999999999999999999999999999999999999999999999999999999999999999999999999999999999999999999999999999\n",
    "\n",
    "print(i.__class__)\n",
    "print(i)"
   ]
  },
  {
   "cell_type": "code",
   "execution_count": 3,
   "metadata": {},
   "outputs": [
    {
     "name": "stdout",
     "output_type": "stream",
     "text": [
      "<class 'complex'>\n",
      "<class 'complex'>\n",
      "(-1+0j)\n"
     ]
    }
   ],
   "source": [
    "a = 8 + 5j\n",
    "print(type(a))\n",
    "\n",
    "b = complex(3,4)\n",
    "print(type(b))\n",
    "\n",
    "c = 1j\n",
    "print(c*c)\n"
   ]
  },
  {
   "cell_type": "code",
   "execution_count": null,
   "metadata": {},
   "outputs": [],
   "source": []
  }
 ],
 "metadata": {
  "kernelspec": {
   "display_name": "Python 3.10.4 ('latest')",
   "language": "python",
   "name": "python3"
  },
  "language_info": {
   "codemirror_mode": {
    "name": "ipython",
    "version": 3
   },
   "file_extension": ".py",
   "mimetype": "text/x-python",
   "name": "python",
   "nbconvert_exporter": "python",
   "pygments_lexer": "ipython3",
   "version": "3.10.4"
  },
  "orig_nbformat": 4,
  "vscode": {
   "interpreter": {
    "hash": "3f430c6c32c2810e89fab52ecb1e262fd40de6fca17a025cc1d93cb19e407557"
   }
  }
 },
 "nbformat": 4,
 "nbformat_minor": 2
}
