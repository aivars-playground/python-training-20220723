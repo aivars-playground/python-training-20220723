{
 "cells": [
  {
   "cell_type": "code",
   "execution_count": 100,
   "metadata": {},
   "outputs": [],
   "source": [
    "from datetime import date\n",
    "\n",
    "class Person:\n",
    "    def __init__(self, name, birthdate) -> None:\n",
    "        self.name = name\n",
    "        self.birthdate = birthdate\n",
    "\n",
    "person1 = Person(\"ABC\", date(2000,1,1))\n",
    "person2 = Person(\"CDE\", date(2022,2,2))"
   ]
  },
  {
   "cell_type": "code",
   "execution_count": 101,
   "metadata": {},
   "outputs": [
    {
     "name": "stdout",
     "output_type": "stream",
     "text": [
      "<class '__main__.Person'>\n",
      "{'name': 'ABC', 'birthdate': datetime.date(2000, 1, 1)}\n",
      "<class '__main__.Person'>\n",
      "{'name': 'CDE', 'birthdate': datetime.date(2022, 2, 2)}\n"
     ]
    }
   ],
   "source": [
    "import pickle\n",
    "\n",
    "#write\n",
    "with open(\"./.ignoreme/people.pickle\", \"wb\") as f:\n",
    "    pickle.dump([person1,person2], f)\n",
    "\n",
    "#read\n",
    "with open(\"./.ignoreme/people.pickle\", \"rb\") as f:\n",
    "    read_people = pickle.load(f)\n",
    "    for person in read_people:\n",
    "        print(type(person))\n",
    "        print(person.__dict__)"
   ]
  },
  {
   "cell_type": "code",
   "execution_count": null,
   "metadata": {},
   "outputs": [],
   "source": []
  },
  {
   "cell_type": "code",
   "execution_count": 102,
   "metadata": {},
   "outputs": [
    {
     "name": "stdout",
     "output_type": "stream",
     "text": [
      "keys: ['cdeperson', 'count', 'abcperson']\n",
      "values: [<__main__.Person object at 0x7f8189be8370>, 2, <__main__.Person object at 0x7f8189be88b0>]\n",
      "<class '__main__.Person'>\n",
      "<class '__main__.Person'>\n",
      "count 2\n"
     ]
    }
   ],
   "source": [
    "import shelve\n",
    "\n",
    "DB_NAME = \".ignoreme/people.shelf\"\n",
    "\n",
    "with shelve.open(DB_NAME, \"c\") as shelf:\n",
    "    shelf[\"abcperson\"] = person1\n",
    "    shelf[\"cdeperson\"] = person2\n",
    "    shelf[\"count\"] = 2\n",
    "\n",
    "with shelve.open(DB_NAME, \"r\") as shelf:\n",
    "    print(f\"keys: {list(shelf.keys())}\")\n",
    "    print(f\"values: {list(shelf.values())}\")\n",
    "\n",
    "    print(type(shelf[\"abcperson\"]))\n",
    "    print(type(shelf[\"cdeperson\"]))\n",
    "    print(\"count\", shelf[\"count\"])\n",
    "    "
   ]
  },
  {
   "cell_type": "code",
   "execution_count": 121,
   "metadata": {},
   "outputs": [
    {
     "name": "stdout",
     "output_type": "stream",
     "text": [
      "{'name': 'ABC', 'birthdate': datetime.date(2000, 1, 1)}  ->  <__main__.Person object at 0x7f8189be83d0>\n",
      "{'name': 'CDE', 'birthdate': datetime.date(2022, 2, 2)}  ->  <__main__.Person object at 0x7f8189be83d0>\n"
     ]
    }
   ],
   "source": [
    "import json\n",
    "from datetime import datetime\n",
    "\n",
    "class SetEncoder(json.JSONEncoder):\n",
    "    def default(self, obj):\n",
    "        if isinstance(obj, date):\n",
    "            return obj.isoformat()\n",
    "        else:\n",
    "            return obj.__dict__\n",
    "\n",
    "def DecodeBirthdate(empDict):\n",
    "   if 'birthdate' in empDict:\n",
    "      empDict[\"birthdate\"] = datetime.strptime(empDict[\"birthdate\"], '%Y-%m-%d').date()\n",
    "      return empDict\n",
    "\n",
    "with open('.ignoreme/person.json', 'w') as json_file:\n",
    "    json.dump([person1,person2], json_file, cls=SetEncoder)\n",
    "\n",
    "with open('.ignoreme/person.json', 'r') as json_file:\n",
    "    read_people = json.load(json_file, object_hook=DecodeBirthdate)\n",
    "    for person in read_people:\n",
    "        print(person, \" -> \", Person(**person))\n"
   ]
  }
 ],
 "metadata": {
  "kernelspec": {
   "display_name": "Python 3.10.6 ('development-b1-6O1J9')",
   "language": "python",
   "name": "python3"
  },
  "language_info": {
   "codemirror_mode": {
    "name": "ipython",
    "version": 3
   },
   "file_extension": ".py",
   "mimetype": "text/x-python",
   "name": "python",
   "nbconvert_exporter": "python",
   "pygments_lexer": "ipython3",
   "version": "3.10.6"
  },
  "orig_nbformat": 4,
  "vscode": {
   "interpreter": {
    "hash": "0bcb8022dc2f9d3bc1f45bc3964b5bd89ae2a2e065d59fb88aa40f3b7e0fc1e6"
   }
  }
 },
 "nbformat": 4,
 "nbformat_minor": 2
}
