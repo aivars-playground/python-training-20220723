{
 "cells": [
  {
   "cell_type": "markdown",
   "metadata": {},
   "source": [
    "List comprehension"
   ]
  },
  {
   "cell_type": "code",
   "execution_count": 23,
   "metadata": {},
   "outputs": [
    {
     "data": {
      "text/plain": [
       "[0, 1, 2, 0, 1, 2, 0, 1, 2, 0]"
      ]
     },
     "execution_count": 23,
     "metadata": {},
     "output_type": "execute_result"
    }
   ],
   "source": [
    "modulus3_list1 = []\n",
    "\n",
    "for i in range(10):\n",
    "    modulus3_list1.append(i % 3)\n",
    "\n",
    "modulus3_list1"
   ]
  },
  {
   "cell_type": "code",
   "execution_count": 24,
   "metadata": {},
   "outputs": [
    {
     "data": {
      "text/plain": [
       "[0, 1, 2, 0, 1, 2, 0, 1, 2, 0]"
      ]
     },
     "execution_count": 24,
     "metadata": {},
     "output_type": "execute_result"
    }
   ],
   "source": [
    "modulus3_list2 = [i % 3 for i in range(10)]\n",
    "modulus3_list2"
   ]
  },
  {
   "cell_type": "code",
   "execution_count": 27,
   "metadata": {},
   "outputs": [
    {
     "data": {
      "text/plain": [
       "{0, 1, 2}"
      ]
     },
     "execution_count": 27,
     "metadata": {},
     "output_type": "execute_result"
    }
   ],
   "source": [
    "myset = {1, 2, 3, 4, 5, 6, 6}\n",
    "\n",
    "modulus3_set = {i % 3 for i in myset}\n",
    "modulus3_set"
   ]
  },
  {
   "cell_type": "code",
   "execution_count": 32,
   "metadata": {},
   "outputs": [
    {
     "data": {
      "text/plain": [
       "{0: '0 mod 3 = 0',\n",
       " 1: '1 mod 3 = 1',\n",
       " 2: '2 mod 3 = 2',\n",
       " 3: '3 mod 3 = 0',\n",
       " 4: '4 mod 3 = 1'}"
      ]
     },
     "execution_count": 32,
     "metadata": {},
     "output_type": "execute_result"
    }
   ],
   "source": [
    "# dictinary key:value comprehension\n",
    "\n",
    "my_deictionary = {i:f'{i} mod 3 = {i % 3}' for i in range(5)}\n",
    "my_deictionary"
   ]
  },
  {
   "cell_type": "code",
   "execution_count": 35,
   "metadata": {},
   "outputs": [
    {
     "data": {
      "text/plain": [
       "{0: '1 - > 2', 2: '3 - > 4', 4: '5 - > 6'}"
      ]
     },
     "execution_count": 35,
     "metadata": {},
     "output_type": "execute_result"
    }
   ],
   "source": [
    "dict1 = {1:2,3:4,5:6}\n",
    "\n",
    "my_deictionary = {(k-1):f'{k} - > {v}' for k,v in dict1.items()}\n",
    "\n",
    "my_deictionary"
   ]
  },
  {
   "cell_type": "code",
   "execution_count": 37,
   "metadata": {},
   "outputs": [
    {
     "ename": "SyntaxError",
     "evalue": "invalid syntax (4200219913.py, line 4)",
     "output_type": "error",
     "traceback": [
      "\u001b[0;36m  File \u001b[0;32m\"/tmp/ipykernel_5311/4200219913.py\"\u001b[0;36m, line \u001b[0;32m4\u001b[0m\n\u001b[0;31m    evens = [i if 1 % 2 ==0 for i in range(5)]\u001b[0m\n\u001b[0m                              ^\u001b[0m\n\u001b[0;31mSyntaxError\u001b[0m\u001b[0;31m:\u001b[0m invalid syntax\n"
     ]
    }
   ],
   "source": [
    "#conditional\n",
    "\n",
    "#everything before \"for\" is a value, the following fails:\n",
    "evens = [i if 1 % 2 ==0 for i in range(5)]"
   ]
  },
  {
   "cell_type": "code",
   "execution_count": 45,
   "metadata": {},
   "outputs": [
    {
     "data": {
      "text/plain": [
       "[0, 2, 4]"
      ]
     },
     "execution_count": 45,
     "metadata": {},
     "output_type": "execute_result"
    }
   ],
   "source": [
    "evens = [i for i in range(5) if i%2 == 0]\n",
    "\n",
    "evens"
   ]
  },
  {
   "cell_type": "code",
   "execution_count": 62,
   "metadata": {},
   "outputs": [
    {
     "name": "stdout",
     "output_type": "stream",
     "text": [
      "[0j, 1j, 2j, (1+0j), (1+1j), (1+2j)]\n"
     ]
    }
   ],
   "source": [
    "#nested\n",
    "\n",
    "cplx = [complex(a,b) for a in range(2) for b in range(3)]\n",
    "print(cplx)"
   ]
  },
  {
   "cell_type": "code",
   "execution_count": 68,
   "metadata": {},
   "outputs": [
    {
     "name": "stdout",
     "output_type": "stream",
     "text": [
      "[0, 1, 8]\n",
      "[0, 1, 8]\n"
     ]
    }
   ],
   "source": [
    "def do_something(i):\n",
    "    return i ** 3\n",
    "\n",
    "comprehension = [do_something(i) for i in range(3)]\n",
    "print(comprehension)\n",
    "\n",
    "\n",
    "# map returns map object!!!\n",
    "map_approach = map(do_something, range(3))\n",
    "print(list(map_approach))\n",
    "\n"
   ]
  },
  {
   "cell_type": "code",
   "execution_count": 71,
   "metadata": {},
   "outputs": [
    {
     "data": {
      "text/plain": [
       "[0, 0, 1, -1, 2, -2]"
      ]
     },
     "execution_count": 71,
     "metadata": {},
     "output_type": "execute_result"
    }
   ],
   "source": [
    "#flattening\n",
    "\n",
    "[y for x in range(3) for y in [x, -x]]"
   ]
  }
 ],
 "metadata": {
  "kernelspec": {
   "display_name": "Python 3.7.3 ('development-b1-6O1J9')",
   "language": "python",
   "name": "python3"
  },
  "language_info": {
   "codemirror_mode": {
    "name": "ipython",
    "version": 3
   },
   "file_extension": ".py",
   "mimetype": "text/x-python",
   "name": "python",
   "nbconvert_exporter": "python",
   "pygments_lexer": "ipython3",
   "version": "3.7.3"
  },
  "orig_nbformat": 4,
  "vscode": {
   "interpreter": {
    "hash": "55c63a307cecc8cb5083561638c6a4d53491e621c5fe83983b21ffb702283f46"
   }
  }
 },
 "nbformat": 4,
 "nbformat_minor": 2
}
