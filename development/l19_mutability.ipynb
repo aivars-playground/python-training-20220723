{
 "cells": [
  {
   "cell_type": "code",
   "execution_count": 4,
   "metadata": {},
   "outputs": [
    {
     "name": "stdout",
     "output_type": "stream",
     "text": [
      "139910738198768 139910738198800\n",
      "139910738198768 139910738198800\n",
      "139910738198800\n"
     ]
    }
   ],
   "source": [
    "a = 1\n",
    "b = 2\n",
    "\n",
    "print(id(a), id(b))\n",
    "\n",
    "c = 1 \n",
    "d = 2\n",
    "print(id(c), id(d))\n",
    "\n",
    "c += 1\n",
    "print(id(c))"
   ]
  },
  {
   "cell_type": "code",
   "execution_count": 19,
   "metadata": {},
   "outputs": [
    {
     "name": "stdout",
     "output_type": "stream",
     "text": [
      "139910737395312 139910737395312 139910737395312 139910395905200\n",
      "True True\n",
      "True False\n"
     ]
    }
   ],
   "source": [
    "t1 = \"abc\"\n",
    "t2 = \"abc\"\n",
    "\n",
    "t3 = \"ab\" + \"c\"\n",
    "\n",
    "t4 = \"ab\"\n",
    "t4 += \"c\" \n",
    "\n",
    "print(id(t1), id(t2), id(t3), id(t4))\n",
    "\n",
    "print(t1 == t2, t1 is t2)\n",
    "print(t1 == t4, t1 is t4)"
   ]
  },
  {
   "cell_type": "code",
   "execution_count": 29,
   "metadata": {},
   "outputs": [
    {
     "data": {
      "text/plain": [
       "[5, 4, 3, 2, 1]"
      ]
     },
     "execution_count": 29,
     "metadata": {},
     "output_type": "execute_result"
    }
   ],
   "source": [
    "[1,2,3,4,5][::-1]"
   ]
  },
  {
   "cell_type": "code",
   "execution_count": 34,
   "metadata": {},
   "outputs": [
    {
     "name": "stdout",
     "output_type": "stream",
     "text": [
      "139910380036032 [1, 2, 3, 4, 5]\n",
      "139910380036032 [1, 2, 3, 4, 5]\n",
      "139910380036032 [1, 2, '*', 4, 5]\n",
      "139910380036032 [1, 2, '*', 4, 5]\n"
     ]
    }
   ],
   "source": [
    "a = [1,2,3,4,5]\n",
    "b = a\n",
    "\n",
    "print(id(a), a)\n",
    "print(id(b), b)\n",
    "\n",
    "a[2] = \"*\"\n",
    "\n",
    "print(id(a), a)\n",
    "print(id(b), b)"
   ]
  },
  {
   "cell_type": "code",
   "execution_count": 40,
   "metadata": {},
   "outputs": [
    {
     "name": "stdout",
     "output_type": "stream",
     "text": [
      "139910380037312 [1, 2, 3, 4, 5, ['a', 'b', 'c']]\n",
      "139910379994880 [1, 2, 3, 4, 5, ['a', 'b', 'c']]\n",
      "139910380037312 [1, 2, '*', 4, 5, ['a', 'b', 'c']]\n",
      "139910379994880 [1, 2, 3, 4, 5, ['a', 'b', 'c']]\n",
      "139910380037312 [1, 2, '*', 4, 5, ['a', 'b', '@@@@@@@']]\n",
      "139910379994880 [1, 2, 3, 4, 5, ['a', 'b', '@@@@@@@']]\n"
     ]
    }
   ],
   "source": [
    "i = [\"a\",\"b\",\"c\"]\n",
    "a = [1,2,3,4,5, i]\n",
    "b = a.copy()\n",
    "\n",
    "print(id(a), a)\n",
    "print(id(b), b)\n",
    "\n",
    "a[2] = \"*****\"\n",
    "print(id(a), a)\n",
    "print(id(b), b)\n",
    "\n",
    "i[2] = \"@@@@@@@\"\n",
    "print(id(a), a)\n",
    "print(id(b), b)\n"
   ]
  },
  {
   "cell_type": "code",
   "execution_count": 44,
   "metadata": {},
   "outputs": [
    {
     "name": "stdout",
     "output_type": "stream",
     "text": [
      "139910379994880 [1, 2, 3, 4, 5, ['a', 'b', 'c']]\n",
      "139910379980608 [1, 2, 3, 4, 5, ['a', 'b', 'c']]\n",
      "139910379994880 [1, 2, '*****', 4, 5, ['a', 'b', 'c']]\n",
      "139910379980608 [1, 2, 3, 4, 5, ['a', 'b', 'c']]\n",
      "139910379994880 [1, 2, '*****', 4, 5, ['a', 'b', '@@@@@@@']]\n",
      "139910379980608 [1, 2, 3, 4, 5, ['a', 'b', 'c']]\n"
     ]
    }
   ],
   "source": [
    "from copy import deepcopy\n",
    "\n",
    "\n",
    "i = [\"a\",\"b\",\"c\"]\n",
    "a = [1,2,3,4,5, i]\n",
    "b = deepcopy(a)\n",
    "\n",
    "print(id(a), a)\n",
    "print(id(b), b)\n",
    "\n",
    "a[2] = \"*****\"\n",
    "print(id(a), a)\n",
    "print(id(b), b)\n",
    "\n",
    "i[2] = \"@@@@@@@\"\n",
    "print(id(a), a)\n",
    "print(id(b), b)"
   ]
  }
 ],
 "metadata": {
  "kernelspec": {
   "display_name": "Python 3.10.6 ('development-b1-6O1J9')",
   "language": "python",
   "name": "python3"
  },
  "language_info": {
   "codemirror_mode": {
    "name": "ipython",
    "version": 3
   },
   "file_extension": ".py",
   "mimetype": "text/x-python",
   "name": "python",
   "nbconvert_exporter": "python",
   "pygments_lexer": "ipython3",
   "version": "3.10.6"
  },
  "orig_nbformat": 4,
  "vscode": {
   "interpreter": {
    "hash": "0bcb8022dc2f9d3bc1f45bc3964b5bd89ae2a2e065d59fb88aa40f3b7e0fc1e6"
   }
  }
 },
 "nbformat": 4,
 "nbformat_minor": 2
}
