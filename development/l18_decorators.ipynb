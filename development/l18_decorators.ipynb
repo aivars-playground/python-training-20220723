{
 "cells": [
  {
   "cell_type": "code",
   "execution_count": 47,
   "metadata": {},
   "outputs": [
    {
     "name": "stdout",
     "output_type": "stream",
     "text": [
      "startwrapper:args (1, 2) kwargs {} @squarer\n",
      "startwrapper:args (1, 2) kwargs {} @print_call_decorator\n",
      "adder: 1 + 2 = 3\n",
      "endwrapper: 3 @print_call_decorator\n",
      "endwrapper: 9 @squarer\n",
      "9\n"
     ]
    }
   ],
   "source": [
    "def print_call_decorator(func):\n",
    "    def wrapper_func(*args,**kwargs):\n",
    "        print(\"startwrapper:args\", args, \"kwargs\", kwargs, \"@print_call_decorator\")\n",
    "        result = func(*args,**kwargs)\n",
    "        print(\"endwrapper:\", result, \"@print_call_decorator\")\n",
    "        return result\n",
    "    \n",
    "    return wrapper_func\n",
    "\n",
    "def squarer(func):\n",
    "    def wrapper_func(*args,**kwargs):\n",
    "        print(\"startwrapper:args\", args, \"kwargs\", kwargs, \"@squarer\")\n",
    "        result = func(*args,**kwargs) ** 2\n",
    "        print(\"endwrapper:\", result, \"@squarer\")\n",
    "        return result\n",
    "    \n",
    "    return wrapper_func\n",
    "\n",
    "@squarer\n",
    "@print_call_decorator\n",
    "def adder(a,b):\n",
    "    print(\"adder:\", a, \"+\", b, \"=\", a+b)\n",
    "    return a + b\n",
    "\n",
    "res = adder(1,2)\n",
    "print(res)"
   ]
  },
  {
   "cell_type": "code",
   "execution_count": 48,
   "metadata": {},
   "outputs": [
    {
     "name": "stdout",
     "output_type": "stream",
     "text": [
      "startwrapper:args (3, 4) kwargs {} @squarer\n",
      "startwrapper:args (3, 4) kwargs {} @print_call_decorator\n",
      "endwrapper: 7 @print_call_decorator\n",
      "endwrapper: 49 @squarer\n",
      "49\n"
     ]
    }
   ],
   "source": [
    "res = squarer(print_call_decorator(lambda a, b : a + b))(3,4)\n",
    "print(res)"
   ]
  },
  {
   "cell_type": "code",
   "execution_count": 49,
   "metadata": {},
   "outputs": [
    {
     "name": "stdout",
     "output_type": "stream",
     "text": [
      "2\n",
      "6\n",
      "times called 2 args [((1, 2), {}), ((2,), {'b': 3})]\n"
     ]
    }
   ],
   "source": [
    "#class as a decorator for function... has a state!!!!\n",
    "\n",
    "class CallTracker:\n",
    "    def __init__(self, func) -> None:\n",
    "        self.func = func\n",
    "        self.times_called = 0\n",
    "        self.call_args = []\n",
    "\n",
    "    def track_call(self, *args, **kwargs):\n",
    "        self.times_called+=1\n",
    "        self.call_args.append((args, kwargs))\n",
    "    \n",
    "    # this makes class callable\n",
    "    def __call__(self, *args, **kwargs):\n",
    "        self.track_call(*args, **kwargs)\n",
    "        return self.func(*args, **kwargs)\n",
    "\n",
    "@CallTracker\n",
    "def multi(a,b):\n",
    "    return a * b\n",
    "\n",
    "print(multi(1,2))\n",
    "print(multi(2,b = 3))\n",
    "\n",
    "print(\"times called\", multi.times_called, \"args\", multi.call_args)"
   ]
  },
  {
   "cell_type": "code",
   "execution_count": 50,
   "metadata": {},
   "outputs": [
    {
     "name": "stdout",
     "output_type": "stream",
     "text": [
      "wrap: ('Hello',) kwargs: {}\n"
     ]
    }
   ],
   "source": [
    "#wrapping a class\n",
    "\n",
    "def print_wrap(cls):\n",
    "    def wrapper_func(*args,**kwargs):\n",
    "        print(\"wrap:\", args, \"kwargs:\", kwargs)\n",
    "        return cls(*args,**kwargs)   \n",
    "    return wrapper_func\n",
    "\n",
    "@print_wrap\n",
    "class Example:\n",
    "    def __init__(self, name) -> None:\n",
    "        self.name = name\n",
    "    def get_name(self):\n",
    "        return self.name\n",
    "\n",
    "example = Example(\"Hello\")"
   ]
  },
  {
   "cell_type": "code",
   "execution_count": 51,
   "metadata": {},
   "outputs": [
    {
     "name": "stdout",
     "output_type": "stream",
     "text": [
      "Person(name='person name', date=datetime.date(2020, 1, 1))\n",
      "person name\n",
      "2020-01-01\n",
      "True\n",
      "False\n"
     ]
    }
   ],
   "source": [
    "from dataclasses import dataclass\n",
    "from datetime import date\n",
    "\n",
    "\n",
    "@dataclass\n",
    "class Person:\n",
    "    name: str\n",
    "    date: date\n",
    "\n",
    "p1 = Person(\"person name\", date(2020,1,1))\n",
    "p2 = Person(\"person name\", date(2020,1,1))\n",
    "p3 = Person(\"other person\", date(2021,1,1))\n",
    "\n",
    "print(p1)\n",
    "print(p1.name)\n",
    "print(p1.date)\n",
    "\n",
    "print(p1 == p2)\n",
    "print(p1 == p3)"
   ]
  }
 ],
 "metadata": {
  "kernelspec": {
   "display_name": "Python 3.10.6 ('development-b1-6O1J9')",
   "language": "python",
   "name": "python3"
  },
  "language_info": {
   "codemirror_mode": {
    "name": "ipython",
    "version": 3
   },
   "file_extension": ".py",
   "mimetype": "text/x-python",
   "name": "python",
   "nbconvert_exporter": "python",
   "pygments_lexer": "ipython3",
   "version": "3.10.6"
  },
  "orig_nbformat": 4,
  "vscode": {
   "interpreter": {
    "hash": "0bcb8022dc2f9d3bc1f45bc3964b5bd89ae2a2e065d59fb88aa40f3b7e0fc1e6"
   }
  }
 },
 "nbformat": 4,
 "nbformat_minor": 2
}
