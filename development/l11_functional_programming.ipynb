{
 "cells": [
  {
   "cell_type": "code",
   "execution_count": 26,
   "metadata": {},
   "outputs": [
    {
     "name": "stdout",
     "output_type": "stream",
     "text": [
      "1 2\n",
      "2 3\n",
      "3 4\n",
      "{'a': 1, 'b': 2}\n",
      "1 2\n",
      "left right\n"
     ]
    }
   ],
   "source": [
    "def do_something(left,right):\n",
    "    print(left,right)\n",
    "\n",
    "a = 1\n",
    "b = 2\n",
    "do_something(a,b)\n",
    "\n",
    "# unpacking to positional args\n",
    "\n",
    "ab_list = [2,3]\n",
    "do_something(*ab_list)\n",
    "\n",
    "ab_typle = (3,4)\n",
    "do_something(*ab_typle)\n",
    "\n",
    "\n",
    "\n",
    "\n",
    "def do_something_else(**kwarg):\n",
    "    print(kwarg)\n",
    "    \n",
    "ab_dict = {'a':1,'b':2}\n",
    "do_something_else(**ab_dict)\n",
    "\n",
    "\n",
    "leftright_dict = {'left':1,'right':2}\n",
    "do_something(**leftright_dict)\n",
    "do_something(*leftright_dict)"
   ]
  },
  {
   "cell_type": "code",
   "execution_count": 35,
   "metadata": {},
   "outputs": [
    {
     "name": "stdout",
     "output_type": "stream",
     "text": [
      "running function:adder, args:(1, 2)\n",
      " \\- returning:3\n",
      "got 3\n"
     ]
    }
   ],
   "source": [
    "def run_function_logger(fun,*args):\n",
    "    print(f'running function:{fun.__name__}, args:{args}')\n",
    "    res = fun(*args)\n",
    "    print(f' \\- returning:{res}')\n",
    "    return res\n",
    "\n",
    "def adder(a,b): \n",
    "    return a + b\n",
    "\n",
    "result = run_function_logger(adder, 1,2)\n",
    "print('got', result)"
   ]
  },
  {
   "cell_type": "code",
   "execution_count": 37,
   "metadata": {},
   "outputs": [
    {
     "name": "stdout",
     "output_type": "stream",
     "text": [
      "running function:adder, args:(1, 2), kwargs:{}\n",
      " \\- returning:3\n",
      "got 3\n"
     ]
    }
   ],
   "source": [
    "def decorator_logger(fun):\n",
    "    def wrapper(*args, **kwargs):\n",
    "        print(f'running function:{fun.__name__}, args:{args}, kwargs:{kwargs}')\n",
    "        result = fun(*args, **kwargs)\n",
    "        print(f' \\- returning:{result}')\n",
    "        return result\n",
    "    return wrapper\n",
    "\n",
    "@decorator_logger\n",
    "def adder(a,b): \n",
    "    return a + b\n",
    "\n",
    "result = adder(1,2)\n",
    "print('got', result)"
   ]
  }
 ],
 "metadata": {
  "kernelspec": {
   "display_name": "Python 3.9.12 ('base')",
   "language": "python",
   "name": "python3"
  },
  "language_info": {
   "codemirror_mode": {
    "name": "ipython",
    "version": 3
   },
   "file_extension": ".py",
   "mimetype": "text/x-python",
   "name": "python",
   "nbconvert_exporter": "python",
   "pygments_lexer": "ipython3",
   "version": "3.9.12"
  },
  "orig_nbformat": 4,
  "vscode": {
   "interpreter": {
    "hash": "63aeac27475015421e7df4e5c314eed8df35753dad26edf7debfb8ba47789dce"
   }
  }
 },
 "nbformat": 4,
 "nbformat_minor": 2
}
