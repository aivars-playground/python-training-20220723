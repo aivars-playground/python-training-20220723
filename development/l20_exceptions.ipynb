{
 "cells": [
  {
   "cell_type": "code",
   "execution_count": 3,
   "metadata": {},
   "outputs": [],
   "source": [
    "class MyError(Exception):\n",
    "    def __init__(self, my_message, code) -> None:\n",
    "        self.my_message = my_message\n",
    "        self.code = code"
   ]
  },
  {
   "cell_type": "code",
   "execution_count": 5,
   "metadata": {},
   "outputs": [],
   "source": [
    "def throw_my_err():\n",
    "    raise MyError(\"NOPE\", 123)"
   ]
  },
  {
   "cell_type": "code",
   "execution_count": 15,
   "metadata": {},
   "outputs": [
    {
     "name": "stdout",
     "output_type": "stream",
     "text": [
      "got an error msg:NOPE, code:123\n",
      "('NOPE', 123)\n",
      "['  File \"/tmp/ipykernel_17985/2697564155.py\", line 4, in <cell line: 3>\\n    throw_my_err()\\n', '  File \"/tmp/ipykernel_17985/4223773850.py\", line 2, in throw_my_err\\n    raise MyError(\"NOPE\", 123)\\n']\n"
     ]
    }
   ],
   "source": [
    "import traceback\n",
    "\n",
    "try:\n",
    "    throw_my_err()\n",
    "except MyError as err:\n",
    "    print(f\"got an error msg:{err.my_message}, code:{err.code}\")\n",
    "    print(err)\n",
    "    print(traceback.format_tb(err.__traceback__))\n"
   ]
  },
  {
   "cell_type": "code",
   "execution_count": 17,
   "metadata": {},
   "outputs": [],
   "source": [
    "class MyOtherError(Exception):\n",
    "    def __init__(self, code) -> None:\n",
    "        self.code = code\n",
    "\n",
    "def throw_err(id = 0):\n",
    "    if id == 1:\n",
    "        raise MyError(\"myerr\", id)\n",
    "    elif id == 2:\n",
    "        raise MyOtherError(id)\n",
    "    else:\n",
    "        pass\n",
    "\n",
    "def do_something(id = 0):\n",
    "    try:\n",
    "        throw_err(id)\n",
    "    except MyError:\n",
    "        print(\"got my error\")\n",
    "    except MyOtherError:\n",
    "        print(\"got my other error\")\n",
    "    else:\n",
    "        print(\"got no err\")\n",
    "    finally:\n",
    "        print(\"finally\")  \n"
   ]
  },
  {
   "cell_type": "code",
   "execution_count": 20,
   "metadata": {},
   "outputs": [
    {
     "name": "stdout",
     "output_type": "stream",
     "text": [
      "got no err\n",
      "finally\n"
     ]
    }
   ],
   "source": [
    "do_something(0)"
   ]
  },
  {
   "cell_type": "code",
   "execution_count": 22,
   "metadata": {},
   "outputs": [
    {
     "name": "stdout",
     "output_type": "stream",
     "text": [
      "got my error\n",
      "finally\n"
     ]
    }
   ],
   "source": [
    "do_something(1)"
   ]
  },
  {
   "cell_type": "code",
   "execution_count": 24,
   "metadata": {},
   "outputs": [
    {
     "name": "stdout",
     "output_type": "stream",
     "text": [
      "got my other error\n",
      "finally\n"
     ]
    }
   ],
   "source": [
    "do_something(2)"
   ]
  },
  {
   "cell_type": "code",
   "execution_count": 26,
   "metadata": {},
   "outputs": [
    {
     "name": "stdout",
     "output_type": "stream",
     "text": [
      "should not see this\n"
     ]
    },
    {
     "ename": "MyOtherError",
     "evalue": "2",
     "output_type": "error",
     "traceback": [
      "\u001b[0;31m---------------------------------------------------------------------------\u001b[0m",
      "\u001b[0;31mMyError\u001b[0m                                   Traceback (most recent call last)",
      "\u001b[1;32m/com.docker.devenvironments.code/development/l20_exceptions.ipynb Cell 8\u001b[0m in \u001b[0;36m<cell line: 7>\u001b[0;34m()\u001b[0m\n\u001b[1;32m      <a href='vscode-notebook-cell://attached-container%2B7b22636f6e7461696e65724e616d65223a222f62333766653932356435623138323637323963616139353037653166333733663263376535323433353334383866666364323861626663616135666335303630227d/com.docker.devenvironments.code/development/l20_exceptions.ipynb#X16sdnNjb2RlLXJlbW90ZQ%3D%3D?line=6'>7</a>\u001b[0m \u001b[39mtry\u001b[39;00m:\n\u001b[0;32m----> <a href='vscode-notebook-cell://attached-container%2B7b22636f6e7461696e65724e616d65223a222f62333766653932356435623138323637323963616139353037653166333733663263376535323433353334383866666364323861626663616135666335303630227d/com.docker.devenvironments.code/development/l20_exceptions.ipynb#X16sdnNjb2RlLXJlbW90ZQ%3D%3D?line=7'>8</a>\u001b[0m     throw_err()\n\u001b[1;32m      <a href='vscode-notebook-cell://attached-container%2B7b22636f6e7461696e65724e616d65223a222f62333766653932356435623138323637323963616139353037653166333733663263376535323433353334383866666364323861626663616135666335303630227d/com.docker.devenvironments.code/development/l20_exceptions.ipynb#X16sdnNjb2RlLXJlbW90ZQ%3D%3D?line=8'>9</a>\u001b[0m \u001b[39mexcept\u001b[39;00m:\n",
      "\u001b[1;32m/com.docker.devenvironments.code/development/l20_exceptions.ipynb Cell 8\u001b[0m in \u001b[0;36mthrow_err\u001b[0;34m()\u001b[0m\n\u001b[1;32m      <a href='vscode-notebook-cell://attached-container%2B7b22636f6e7461696e65724e616d65223a222f62333766653932356435623138323637323963616139353037653166333733663263376535323433353334383866666364323861626663616135666335303630227d/com.docker.devenvironments.code/development/l20_exceptions.ipynb#X16sdnNjb2RlLXJlbW90ZQ%3D%3D?line=0'>1</a>\u001b[0m \u001b[39mdef\u001b[39;00m \u001b[39mthrow_err\u001b[39m():\n\u001b[0;32m----> <a href='vscode-notebook-cell://attached-container%2B7b22636f6e7461696e65724e616d65223a222f62333766653932356435623138323637323963616139353037653166333733663263376535323433353334383866666364323861626663616135666335303630227d/com.docker.devenvironments.code/development/l20_exceptions.ipynb#X16sdnNjb2RlLXJlbW90ZQ%3D%3D?line=1'>2</a>\u001b[0m     \u001b[39mraise\u001b[39;00m MyError(\u001b[39m\"\u001b[39m\u001b[39mmyerr\u001b[39m\u001b[39m\"\u001b[39m, \u001b[39m1\u001b[39m)\n",
      "\u001b[0;31mMyError\u001b[0m: ('myerr', 1)",
      "\nDuring handling of the above exception, another exception occurred:\n",
      "\u001b[0;31mMyOtherError\u001b[0m                              Traceback (most recent call last)",
      "\u001b[1;32m/com.docker.devenvironments.code/development/l20_exceptions.ipynb Cell 8\u001b[0m in \u001b[0;36m<cell line: 7>\u001b[0;34m()\u001b[0m\n\u001b[1;32m      <a href='vscode-notebook-cell://attached-container%2B7b22636f6e7461696e65724e616d65223a222f62333766653932356435623138323637323963616139353037653166333733663263376535323433353334383866666364323861626663616135666335303630227d/com.docker.devenvironments.code/development/l20_exceptions.ipynb#X16sdnNjb2RlLXJlbW90ZQ%3D%3D?line=7'>8</a>\u001b[0m     throw_err()\n\u001b[1;32m      <a href='vscode-notebook-cell://attached-container%2B7b22636f6e7461696e65724e616d65223a222f62333766653932356435623138323637323963616139353037653166333733663263376535323433353334383866666364323861626663616135666335303630227d/com.docker.devenvironments.code/development/l20_exceptions.ipynb#X16sdnNjb2RlLXJlbW90ZQ%3D%3D?line=8'>9</a>\u001b[0m \u001b[39mexcept\u001b[39;00m:\n\u001b[0;32m---> <a href='vscode-notebook-cell://attached-container%2B7b22636f6e7461696e65724e616d65223a222f62333766653932356435623138323637323963616139353037653166333733663263376535323433353334383866666364323861626663616135666335303630227d/com.docker.devenvironments.code/development/l20_exceptions.ipynb#X16sdnNjb2RlLXJlbW90ZQ%3D%3D?line=9'>10</a>\u001b[0m     alternative_throw_err()\n\u001b[1;32m     <a href='vscode-notebook-cell://attached-container%2B7b22636f6e7461696e65724e616d65223a222f62333766653932356435623138323637323963616139353037653166333733663263376535323433353334383866666364323861626663616135666335303630227d/com.docker.devenvironments.code/development/l20_exceptions.ipynb#X16sdnNjb2RlLXJlbW90ZQ%3D%3D?line=10'>11</a>\u001b[0m \u001b[39mfinally\u001b[39;00m:\n\u001b[1;32m     <a href='vscode-notebook-cell://attached-container%2B7b22636f6e7461696e65724e616d65223a222f62333766653932356435623138323637323963616139353037653166333733663263376535323433353334383866666364323861626663616135666335303630227d/com.docker.devenvironments.code/development/l20_exceptions.ipynb#X16sdnNjb2RlLXJlbW90ZQ%3D%3D?line=11'>12</a>\u001b[0m     \u001b[39mprint\u001b[39m(\u001b[39m\"\u001b[39m\u001b[39mshould not see this\u001b[39m\u001b[39m\"\u001b[39m)\n",
      "\u001b[1;32m/com.docker.devenvironments.code/development/l20_exceptions.ipynb Cell 8\u001b[0m in \u001b[0;36malternative_throw_err\u001b[0;34m()\u001b[0m\n\u001b[1;32m      <a href='vscode-notebook-cell://attached-container%2B7b22636f6e7461696e65724e616d65223a222f62333766653932356435623138323637323963616139353037653166333733663263376535323433353334383866666364323861626663616135666335303630227d/com.docker.devenvironments.code/development/l20_exceptions.ipynb#X16sdnNjb2RlLXJlbW90ZQ%3D%3D?line=3'>4</a>\u001b[0m \u001b[39mdef\u001b[39;00m \u001b[39malternative_throw_err\u001b[39m():\n\u001b[0;32m----> <a href='vscode-notebook-cell://attached-container%2B7b22636f6e7461696e65724e616d65223a222f62333766653932356435623138323637323963616139353037653166333733663263376535323433353334383866666364323861626663616135666335303630227d/com.docker.devenvironments.code/development/l20_exceptions.ipynb#X16sdnNjb2RlLXJlbW90ZQ%3D%3D?line=4'>5</a>\u001b[0m     \u001b[39mraise\u001b[39;00m MyOtherError(\u001b[39m2\u001b[39m)\n",
      "\u001b[0;31mMyOtherError\u001b[0m: 2"
     ]
    }
   ],
   "source": [
    "def throw_err():\n",
    "    raise MyError(\"myerr\", 1)\n",
    "\n",
    "def alternative_throw_err():\n",
    "    raise MyOtherError(2)\n",
    "\n",
    "try:\n",
    "    throw_err()\n",
    "except:\n",
    "    alternative_throw_err()\n",
    "finally:\n",
    "    print(\"should not see this\")\n",
    "\n",
    "## implicit error chaining happened\n",
    "### During handling of the above exception, another exception occurred:!!!!"
   ]
  },
  {
   "cell_type": "code",
   "execution_count": 34,
   "metadata": {},
   "outputs": [
    {
     "ename": "MyOtherError",
     "evalue": "2",
     "output_type": "error",
     "traceback": [
      "\u001b[0;31m---------------------------------------------------------------------------\u001b[0m",
      "\u001b[0;31mMyError\u001b[0m                                   Traceback (most recent call last)",
      "\u001b[1;32m/com.docker.devenvironments.code/development/l20_exceptions.ipynb Cell 9\u001b[0m in \u001b[0;36mexplicit_error_chaining\u001b[0;34m()\u001b[0m\n\u001b[1;32m      <a href='vscode-notebook-cell://attached-container%2B7b22636f6e7461696e65724e616d65223a222f62333766653932356435623138323637323963616139353037653166333733663263376535323433353334383866666364323861626663616135666335303630227d/com.docker.devenvironments.code/development/l20_exceptions.ipynb#X20sdnNjb2RlLXJlbW90ZQ%3D%3D?line=4'>5</a>\u001b[0m \u001b[39mtry\u001b[39;00m:\n\u001b[0;32m----> <a href='vscode-notebook-cell://attached-container%2B7b22636f6e7461696e65724e616d65223a222f62333766653932356435623138323637323963616139353037653166333733663263376535323433353334383866666364323861626663616135666335303630227d/com.docker.devenvironments.code/development/l20_exceptions.ipynb#X20sdnNjb2RlLXJlbW90ZQ%3D%3D?line=5'>6</a>\u001b[0m     throw_err()\n\u001b[1;32m      <a href='vscode-notebook-cell://attached-container%2B7b22636f6e7461696e65724e616d65223a222f62333766653932356435623138323637323963616139353037653166333733663263376535323433353334383866666364323861626663616135666335303630227d/com.docker.devenvironments.code/development/l20_exceptions.ipynb#X20sdnNjb2RlLXJlbW90ZQ%3D%3D?line=6'>7</a>\u001b[0m \u001b[39mexcept\u001b[39;00m MyError \u001b[39mas\u001b[39;00m err:\n",
      "\u001b[1;32m/com.docker.devenvironments.code/development/l20_exceptions.ipynb Cell 9\u001b[0m in \u001b[0;36mthrow_err\u001b[0;34m()\u001b[0m\n\u001b[1;32m      <a href='vscode-notebook-cell://attached-container%2B7b22636f6e7461696e65724e616d65223a222f62333766653932356435623138323637323963616139353037653166333733663263376535323433353334383866666364323861626663616135666335303630227d/com.docker.devenvironments.code/development/l20_exceptions.ipynb#X20sdnNjb2RlLXJlbW90ZQ%3D%3D?line=0'>1</a>\u001b[0m \u001b[39mdef\u001b[39;00m \u001b[39mthrow_err\u001b[39m():\n\u001b[0;32m----> <a href='vscode-notebook-cell://attached-container%2B7b22636f6e7461696e65724e616d65223a222f62333766653932356435623138323637323963616139353037653166333733663263376535323433353334383866666364323861626663616135666335303630227d/com.docker.devenvironments.code/development/l20_exceptions.ipynb#X20sdnNjb2RlLXJlbW90ZQ%3D%3D?line=1'>2</a>\u001b[0m     \u001b[39mraise\u001b[39;00m MyError(\u001b[39m\"\u001b[39m\u001b[39mmyerr\u001b[39m\u001b[39m\"\u001b[39m, \u001b[39m1\u001b[39m)\n",
      "\u001b[0;31mMyError\u001b[0m: ('myerr', 1)",
      "\nThe above exception was the direct cause of the following exception:\n",
      "\u001b[0;31mMyOtherError\u001b[0m                              Traceback (most recent call last)",
      "\u001b[1;32m/com.docker.devenvironments.code/development/l20_exceptions.ipynb Cell 9\u001b[0m in \u001b[0;36m<cell line: 10>\u001b[0;34m()\u001b[0m\n\u001b[1;32m      <a href='vscode-notebook-cell://attached-container%2B7b22636f6e7461696e65724e616d65223a222f62333766653932356435623138323637323963616139353037653166333733663263376535323433353334383866666364323861626663616135666335303630227d/com.docker.devenvironments.code/development/l20_exceptions.ipynb#X20sdnNjb2RlLXJlbW90ZQ%3D%3D?line=6'>7</a>\u001b[0m     \u001b[39mexcept\u001b[39;00m MyError \u001b[39mas\u001b[39;00m err:\n\u001b[1;32m      <a href='vscode-notebook-cell://attached-container%2B7b22636f6e7461696e65724e616d65223a222f62333766653932356435623138323637323963616139353037653166333733663263376535323433353334383866666364323861626663616135666335303630227d/com.docker.devenvironments.code/development/l20_exceptions.ipynb#X20sdnNjb2RlLXJlbW90ZQ%3D%3D?line=7'>8</a>\u001b[0m         \u001b[39mraise\u001b[39;00m MyOtherError(\u001b[39m2\u001b[39m) \u001b[39mfrom\u001b[39;00m \u001b[39merr\u001b[39;00m\n\u001b[0;32m---> <a href='vscode-notebook-cell://attached-container%2B7b22636f6e7461696e65724e616d65223a222f62333766653932356435623138323637323963616139353037653166333733663263376535323433353334383866666364323861626663616135666335303630227d/com.docker.devenvironments.code/development/l20_exceptions.ipynb#X20sdnNjb2RlLXJlbW90ZQ%3D%3D?line=9'>10</a>\u001b[0m explicit_error_chaining()\n",
      "\u001b[1;32m/com.docker.devenvironments.code/development/l20_exceptions.ipynb Cell 9\u001b[0m in \u001b[0;36mexplicit_error_chaining\u001b[0;34m()\u001b[0m\n\u001b[1;32m      <a href='vscode-notebook-cell://attached-container%2B7b22636f6e7461696e65724e616d65223a222f62333766653932356435623138323637323963616139353037653166333733663263376535323433353334383866666364323861626663616135666335303630227d/com.docker.devenvironments.code/development/l20_exceptions.ipynb#X20sdnNjb2RlLXJlbW90ZQ%3D%3D?line=5'>6</a>\u001b[0m     throw_err()\n\u001b[1;32m      <a href='vscode-notebook-cell://attached-container%2B7b22636f6e7461696e65724e616d65223a222f62333766653932356435623138323637323963616139353037653166333733663263376535323433353334383866666364323861626663616135666335303630227d/com.docker.devenvironments.code/development/l20_exceptions.ipynb#X20sdnNjb2RlLXJlbW90ZQ%3D%3D?line=6'>7</a>\u001b[0m \u001b[39mexcept\u001b[39;00m MyError \u001b[39mas\u001b[39;00m err:\n\u001b[0;32m----> <a href='vscode-notebook-cell://attached-container%2B7b22636f6e7461696e65724e616d65223a222f62333766653932356435623138323637323963616139353037653166333733663263376535323433353334383866666364323861626663616135666335303630227d/com.docker.devenvironments.code/development/l20_exceptions.ipynb#X20sdnNjb2RlLXJlbW90ZQ%3D%3D?line=7'>8</a>\u001b[0m     \u001b[39mraise\u001b[39;00m MyOtherError(\u001b[39m2\u001b[39m) \u001b[39mfrom\u001b[39;00m \u001b[39merr\u001b[39;00m\n",
      "\u001b[0;31mMyOtherError\u001b[0m: 2"
     ]
    }
   ],
   "source": [
    "def throw_err():\n",
    "    raise MyError(\"myerr\", 1)\n",
    "\n",
    "def explicit_error_chaining():\n",
    "    try:\n",
    "        throw_err()\n",
    "    except MyError as err:\n",
    "        raise MyOtherError(2) from err\n",
    "\n",
    "explicit_error_chaining()"
   ]
  },
  {
   "cell_type": "code",
   "execution_count": 44,
   "metadata": {},
   "outputs": [
    {
     "name": "stdout",
     "output_type": "stream",
     "text": [
      "====traceback\n",
      "  File \"/tmp/ipykernel_17985/573992459.py\", line 2, in <cell line: 1>\n",
      "    explicit_error_chaining()\n",
      "  File \"/tmp/ipykernel_17985/941163195.py\", line 8, in explicit_error_chaining\n",
      "    raise MyOtherError(2) from err\n",
      "\n",
      "====stacktrace\n",
      "  File \"/usr/local/lib/python3.10/runpy.py\", line 196, in _run_module_as_main\n",
      "    return _run_code(code, main_globals, None,\n",
      "  File \"/usr/local/lib/python3.10/runpy.py\", line 86, in _run_code\n",
      "    exec(code, run_globals)\n",
      "  File \"/home/vscode/.local/share/virtualenvs/development-b1-6O1J9/lib/python3.10/site-packages/ipykernel_launcher.py\", line 17, in <module>\n",
      "    app.launch_new_instance()\n",
      "  File \"/home/vscode/.local/share/virtualenvs/development-b1-6O1J9/lib/python3.10/site-packages/traitlets/config/application.py\", line 976, in launch_instance\n",
      "    app.start()\n",
      "  File \"/home/vscode/.local/share/virtualenvs/development-b1-6O1J9/lib/python3.10/site-packages/ipykernel/kernelapp.py\", line 712, in start\n",
      "    self.io_loop.start()\n",
      "  File \"/home/vscode/.local/share/virtualenvs/development-b1-6O1J9/lib/python3.10/site-packages/tornado/platform/asyncio.py\", line 215, in start\n",
      "    self.asyncio_loop.run_forever()\n",
      "  File \"/usr/local/lib/python3.10/asyncio/base_events.py\", line 600, in run_forever\n",
      "    self._run_once()\n",
      "  File \"/usr/local/lib/python3.10/asyncio/base_events.py\", line 1896, in _run_once\n",
      "    handle._run()\n",
      "  File \"/usr/local/lib/python3.10/asyncio/events.py\", line 80, in _run\n",
      "    self._context.run(self._callback, *self._args)\n",
      "  File \"/home/vscode/.local/share/virtualenvs/development-b1-6O1J9/lib/python3.10/site-packages/ipykernel/kernelbase.py\", line 510, in dispatch_queue\n",
      "    await self.process_one()\n",
      "  File \"/home/vscode/.local/share/virtualenvs/development-b1-6O1J9/lib/python3.10/site-packages/ipykernel/kernelbase.py\", line 499, in process_one\n",
      "    await dispatch(*args)\n",
      "  File \"/home/vscode/.local/share/virtualenvs/development-b1-6O1J9/lib/python3.10/site-packages/ipykernel/kernelbase.py\", line 406, in dispatch_shell\n",
      "    await result\n",
      "  File \"/home/vscode/.local/share/virtualenvs/development-b1-6O1J9/lib/python3.10/site-packages/ipykernel/kernelbase.py\", line 730, in execute_request\n",
      "    reply_content = await reply_content\n",
      "  File \"/home/vscode/.local/share/virtualenvs/development-b1-6O1J9/lib/python3.10/site-packages/ipykernel/ipkernel.py\", line 383, in do_execute\n",
      "    res = shell.run_cell(\n",
      "  File \"/home/vscode/.local/share/virtualenvs/development-b1-6O1J9/lib/python3.10/site-packages/ipykernel/zmqshell.py\", line 528, in run_cell\n",
      "    return super().run_cell(*args, **kwargs)\n",
      "  File \"/home/vscode/.local/share/virtualenvs/development-b1-6O1J9/lib/python3.10/site-packages/IPython/core/interactiveshell.py\", line 2881, in run_cell\n",
      "    result = self._run_cell(\n",
      "  File \"/home/vscode/.local/share/virtualenvs/development-b1-6O1J9/lib/python3.10/site-packages/IPython/core/interactiveshell.py\", line 2936, in _run_cell\n",
      "    return runner(coro)\n",
      "  File \"/home/vscode/.local/share/virtualenvs/development-b1-6O1J9/lib/python3.10/site-packages/IPython/core/async_helpers.py\", line 129, in _pseudo_sync_runner\n",
      "    coro.send(None)\n",
      "  File \"/home/vscode/.local/share/virtualenvs/development-b1-6O1J9/lib/python3.10/site-packages/IPython/core/interactiveshell.py\", line 3135, in run_cell_async\n",
      "    has_raised = await self.run_ast_nodes(code_ast.body, cell_name,\n",
      "  File \"/home/vscode/.local/share/virtualenvs/development-b1-6O1J9/lib/python3.10/site-packages/IPython/core/interactiveshell.py\", line 3338, in run_ast_nodes\n",
      "    if await self.run_code(code, result, async_=asy):\n",
      "  File \"/home/vscode/.local/share/virtualenvs/development-b1-6O1J9/lib/python3.10/site-packages/IPython/core/interactiveshell.py\", line 3398, in run_code\n",
      "    exec(code_obj, self.user_global_ns, self.user_ns)\n",
      "  File \"/tmp/ipykernel_17985/573992459.py\", line 5, in <cell line: 1>\n",
      "    stacktrace = traceback.format_stack()\n",
      "\n"
     ]
    }
   ],
   "source": [
    "try:\n",
    "    explicit_error_chaining()\n",
    "except Exception as ex:\n",
    "    tb = traceback.format_tb(ex.__traceback__)\n",
    "    stacktrace = traceback.format_stack()\n",
    "    print(\"====traceback\")\n",
    "    print(\"\".join(tb))\n",
    "    print(\"====stacktrace\")\n",
    "    print(\"\".join(stacktrace))\n"
   ]
  }
 ],
 "metadata": {
  "kernelspec": {
   "display_name": "Python 3.10.6 ('development-b1-6O1J9')",
   "language": "python",
   "name": "python3"
  },
  "language_info": {
   "codemirror_mode": {
    "name": "ipython",
    "version": 3
   },
   "file_extension": ".py",
   "mimetype": "text/x-python",
   "name": "python",
   "nbconvert_exporter": "python",
   "pygments_lexer": "ipython3",
   "version": "3.10.6"
  },
  "orig_nbformat": 4,
  "vscode": {
   "interpreter": {
    "hash": "0bcb8022dc2f9d3bc1f45bc3964b5bd89ae2a2e065d59fb88aa40f3b7e0fc1e6"
   }
  }
 },
 "nbformat": 4,
 "nbformat_minor": 2
}
