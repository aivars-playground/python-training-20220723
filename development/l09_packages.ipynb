{
 "cells": [
  {
   "cell_type": "code",
   "execution_count": 6,
   "metadata": {},
   "outputs": [
    {
     "name": "stdout",
     "output_type": "stream",
     "text": [
      "3.141592653589793\n",
      "-1.0\n"
     ]
    }
   ],
   "source": [
    "#using math module\n",
    "import math\n",
    "\n",
    "#access variable from math module\n",
    "print(math.pi)\n",
    "\n",
    "#access function\n",
    "print(math.cos(math.pi))\n",
    "\n",
    "\n",
    "del math"
   ]
  },
  {
   "cell_type": "code",
   "execution_count": 13,
   "metadata": {},
   "outputs": [
    {
     "name": "stdout",
     "output_type": "stream",
     "text": [
      "-1.0\n"
     ]
    }
   ],
   "source": [
    "#import speciffic members from a module\n",
    "from math import sin, cos\n",
    "\n",
    "#import as alias\n",
    "from math import pi as π\n",
    "print(cos(π))\n",
    "\n",
    "\n",
    "del sin, cos, π"
   ]
  },
  {
   "cell_type": "code",
   "execution_count": null,
   "metadata": {},
   "outputs": [],
   "source": [
    "#install external module / package\n",
    "\n",
    "!pipenv install boto3"
   ]
  },
  {
   "cell_type": "code",
   "execution_count": 2,
   "metadata": {},
   "outputs": [],
   "source": [
    "import boto3"
   ]
  }
 ],
 "metadata": {
  "kernelspec": {
   "display_name": "Python 3.7.3 ('com.docker.devenvironments.code-o74UYjc6')",
   "language": "python",
   "name": "python3"
  },
  "language_info": {
   "codemirror_mode": {
    "name": "ipython",
    "version": 3
   },
   "file_extension": ".py",
   "mimetype": "text/x-python",
   "name": "python",
   "nbconvert_exporter": "python",
   "pygments_lexer": "ipython3",
   "version": "3.7.3"
  },
  "orig_nbformat": 4,
  "vscode": {
   "interpreter": {
    "hash": "c69564f9c686519fc108ad6aba4f006452dc5cb4eb02878ece08db76b394cf56"
   }
  }
 },
 "nbformat": 4,
 "nbformat_minor": 2
}
