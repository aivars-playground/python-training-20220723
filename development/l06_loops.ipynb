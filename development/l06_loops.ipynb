{
 "cells": [
  {
   "cell_type": "code",
   "execution_count": 5,
   "metadata": {},
   "outputs": [
    {
     "name": "stdout",
     "output_type": "stream",
     "text": [
      "exiting\n"
     ]
    }
   ],
   "source": [
    "while True:\n",
    "    key = input('q to quit')\n",
    "    if key == 'q':\n",
    "        print(\"exiting\")\n",
    "        break\n",
    "    else:\n",
    "        print(\"got:\",key)"
   ]
  },
  {
   "cell_type": "code",
   "execution_count": null,
   "metadata": {},
   "outputs": [
    {
     "name": "stdout",
     "output_type": "stream",
     "text": [
      "iteration 1\n",
      "iteration 2\n",
      "iteration 3\n",
      "iteration 4\n"
     ]
    }
   ],
   "source": [
    "count = 1\n",
    "while count <= 4:\n",
    "    print('iteration',count)\n",
    "    count += 1"
   ]
  },
  {
   "cell_type": "code",
   "execution_count": 7,
   "metadata": {},
   "outputs": [
    {
     "name": "stdout",
     "output_type": "stream",
     "text": [
      "iteration:1 of 100\n",
      "skip:2\n",
      "TODO: do somwthing with 3\n",
      "iteration:3 of 100\n",
      "iteration:4 of 100\n",
      "stop at ctr:5, 5 is enough\n"
     ]
    }
   ],
   "source": [
    "count = 1\n",
    "maxcount = 100\n",
    "while count <= maxcount:\n",
    "    if count == 2:\n",
    "        print(f'skip:{count}')\n",
    "        count += 1\n",
    "        continue\n",
    "    if count == 3:\n",
    "        print('TODO: do somwthing with {}'.format(count))\n",
    "        pass\n",
    "    if count == 5:\n",
    "        print('stop at ctr:{ctr}, {ctr} is enough'.format(ctr=count))\n",
    "        break\n",
    "    print('iteration:%s of %s'% (count,maxcount))\n",
    "    count += 1"
   ]
  },
  {
   "cell_type": "code",
   "execution_count": 32,
   "metadata": {},
   "outputs": [
    {
     "name": "stdout",
     "output_type": "stream",
     "text": [
      "a/b/c/\n",
      "H/E/L/L/O/\n",
      "1/3/5/7/9/\n"
     ]
    }
   ],
   "source": [
    "letters = ['a','b','c']\n",
    "\n",
    "for letter in letters:\n",
    "    print(letter, end=\"/\")\n",
    "print()\n",
    "\n",
    "for letter in \"HELLO\":\n",
    "    print(letter, end=\"/\")\n",
    "print()\n",
    "\n",
    "for even in range(1,10,2):\n",
    "    print(even, end=\"/\")\n",
    "print()\n"
   ]
  },
  {
   "cell_type": "code",
   "execution_count": 36,
   "metadata": {},
   "outputs": [
    {
     "name": "stdout",
     "output_type": "stream",
     "text": [
      "letter:a ord:1\n",
      "letter:b ord:2\n"
     ]
    }
   ],
   "source": [
    "dict1 = {'a':1, 'b':2}\n",
    "for letter, ordinal in dict1.items():\n",
    "    print(f'letter:{letter} ord:{ordinal}')"
   ]
  }
 ],
 "metadata": {
  "kernelspec": {
   "display_name": "Python 3.9.12 ('base')",
   "language": "python",
   "name": "python3"
  },
  "language_info": {
   "codemirror_mode": {
    "name": "ipython",
    "version": 3
   },
   "file_extension": ".py",
   "mimetype": "text/x-python",
   "name": "python",
   "nbconvert_exporter": "python",
   "pygments_lexer": "ipython3",
   "version": "3.9.12"
  },
  "orig_nbformat": 4,
  "vscode": {
   "interpreter": {
    "hash": "63aeac27475015421e7df4e5c314eed8df35753dad26edf7debfb8ba47789dce"
   }
  }
 },
 "nbformat": 4,
 "nbformat_minor": 2
}
