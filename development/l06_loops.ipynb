{
 "cells": [
  {
   "cell_type": "code",
   "execution_count": 2,
   "metadata": {},
   "outputs": [],
   "source": [
    "while True:\n",
    "    key = input('q to quit')\n",
    "    if key == 'q':\n",
    "        print(\"exiting\")\n",
    "        break\n",
    "    else:\n",
    "        print(\"got:\",key)"
   ]
  },
  {
   "cell_type": "code",
   "execution_count": null,
   "metadata": {},
   "outputs": [
    {
     "name": "stdout",
     "output_type": "stream",
     "text": [
      "iteration 1\n",
      "iteration 2\n",
      "iteration 3\n",
      "iteration 4\n"
     ]
    }
   ],
   "source": [
    "count = 1\n",
    "while count <= 4:\n",
    "    print('iteration',count)\n",
    "    count += 1"
   ]
  },
  {
   "cell_type": "code",
   "execution_count": null,
   "metadata": {},
   "outputs": [
    {
     "name": "stdout",
     "output_type": "stream",
     "text": [
      "iteration:1 of 100\n",
      "skip:2\n",
      "TODO: do somwthing with 3\n",
      "iteration:3 of 100\n",
      "iteration:4 of 100\n",
      "stop at ctr:5, 5 is enough\n"
     ]
    }
   ],
   "source": [
    "count = 1\n",
    "maxcount = 100\n",
    "while count <= maxcount:\n",
    "    if count == 2:\n",
    "        print(f'skip:{count}')\n",
    "        count += 1\n",
    "        continue\n",
    "    if count == 3:\n",
    "        print('TODO: do somwthing with {}'.format(count))\n",
    "        pass\n",
    "    if count == 5:\n",
    "        print('stop at ctr:{ctr}, {ctr} is enough'.format(ctr=count))\n",
    "        break\n",
    "    print('iteration:%s of %s'% (count,maxcount))\n",
    "    count += 1"
   ]
  },
  {
   "cell_type": "code",
   "execution_count": null,
   "metadata": {},
   "outputs": [
    {
     "name": "stdout",
     "output_type": "stream",
     "text": [
      "a/b/c/\n",
      "H/E/L/L/O/\n",
      "1/3/5/7/9/\n"
     ]
    }
   ],
   "source": [
    "letters = ['a','b','c']\n",
    "\n",
    "for letter in letters:\n",
    "    print(letter, end=\"/\")\n",
    "print()\n",
    "\n",
    "for letter in \"HELLO\":\n",
    "    print(letter, end=\"/\")\n",
    "print()\n",
    "\n",
    "for even in range(1,10,2):\n",
    "    print(even, end=\"/\")\n",
    "print()\n"
   ]
  },
  {
   "cell_type": "code",
   "execution_count": 10,
   "metadata": {},
   "outputs": [
    {
     "name": "stdout",
     "output_type": "stream",
     "text": [
      "letter:a ord:1\n",
      "letter:b ord:2\n"
     ]
    }
   ],
   "source": [
    "dict1 = {'a':1, 'b':2}\n",
    "for letter, ordinal in dict1.items():\n",
    "    print(f'letter:{letter} ord:{ordinal}')"
   ]
  },
  {
   "cell_type": "code",
   "execution_count": 28,
   "metadata": {},
   "outputs": [
    {
     "name": "stdout",
     "output_type": "stream",
     "text": [
      "take while < 10 [1, 1, 2, 3, 5, 8]\n",
      "take while < 10, different [1, 1, 2, 3, 5, 8]\n",
      "take first 5 [1, 1, 2, 3, 5]\n",
      "take first 5 no lambda [1, 1, 2, 3, 5]\n"
     ]
    }
   ],
   "source": [
    "\n",
    "def fibo_series():\n",
    "    fprev,fnext = 0,1\n",
    "    while True:\n",
    "        yield fnext\n",
    "        fprev,fnext = fnext,fprev+fnext\n",
    "\n",
    "import itertools\n",
    "\n",
    "fibos_under = lambda N: itertools.takewhile(lambda f: f < N, fibo_series())\n",
    "print(\"take while < 10\", list(fibos_under(10)))\n",
    "print(\"take while < 10, different\", list(itertools.takewhile( lambda x : x < 10 , fibo_series())))\n",
    "\n",
    "takefirst = lambda N: itertools.islice(fibo_series(), N)\n",
    "print(\"take first 5\", list(takefirst(5)))\n",
    "print(\"take first 5 no lambda\", list(itertools.islice(fibo_series(), 5)))\n",
    "\n"
   ]
  }
 ],
 "metadata": {
  "kernelspec": {
   "display_name": "Python 3.10.6 64-bit",
   "language": "python",
   "name": "python3"
  },
  "language_info": {
   "codemirror_mode": {
    "name": "ipython",
    "version": 3
   },
   "file_extension": ".py",
   "mimetype": "text/x-python",
   "name": "python",
   "nbconvert_exporter": "python",
   "pygments_lexer": "ipython3",
   "version": "3.10.6"
  },
  "orig_nbformat": 4,
  "vscode": {
   "interpreter": {
    "hash": "7e1998ff7f8aa20ada591c520b972326324e5ea05489af9e422744c7c09f6dad"
   }
  }
 },
 "nbformat": 4,
 "nbformat_minor": 2
}
