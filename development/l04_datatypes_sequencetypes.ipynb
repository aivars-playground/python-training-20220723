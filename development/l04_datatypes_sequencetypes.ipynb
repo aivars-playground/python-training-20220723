{
 "cells": [
  {
   "cell_type": "markdown",
   "metadata": {},
   "source": [
    "Sequence types\n",
    "https://docs.python.org/3/library/stdtypes.html#sequence-types-list-tuple-range"
   ]
  },
  {
   "cell_type": "markdown",
   "metadata": {},
   "source": [
    "LISTS"
   ]
  },
  {
   "cell_type": "code",
   "execution_count": 1,
   "metadata": {},
   "outputs": [],
   "source": [
    "list1 = [1,2,3,4]"
   ]
  },
  {
   "cell_type": "code",
   "execution_count": 7,
   "metadata": {},
   "outputs": [
    {
     "name": "stdout",
     "output_type": "stream",
     "text": [
      "[1, 2, 3, 4]\n",
      "4\n",
      "3\n"
     ]
    }
   ],
   "source": [
    "print(list1)\n",
    "print(list1[3])\n",
    "print(list1.index(4))"
   ]
  },
  {
   "cell_type": "code",
   "execution_count": 12,
   "metadata": {},
   "outputs": [
    {
     "name": "stdout",
     "output_type": "stream",
     "text": [
      "[1, 2, 3, 4]\n",
      "False\n",
      "True\n"
     ]
    }
   ],
   "source": [
    "list2 = list1.copy()\n",
    "print(list2)\n",
    "\n",
    "print(list1 is list2) \n",
    "print(list1 == list2)"
   ]
  },
  {
   "cell_type": "code",
   "execution_count": 58,
   "metadata": {},
   "outputs": [
    {
     "name": "stdout",
     "output_type": "stream",
     "text": [
      "[3]\n",
      "[3, 4]\n",
      "[2, 3, 4]\n",
      "[1, 2, 3, 4]\n",
      "True\n",
      "[2, 4]\n",
      "[4, 3, 2, 1]\n",
      "[4, 3, 2, 1]\n"
     ]
    }
   ],
   "source": [
    "# slicing \n",
    "\n",
    "list3 = list1[2:3]\n",
    "print(list3)\n",
    "\n",
    "list3.append(4)\n",
    "print(list3)\n",
    "\n",
    "list3.insert(0, 2)\n",
    "print(list3)\n",
    "\n",
    "list3[:0] = [1]\n",
    "print(list3)\n",
    "\n",
    "print(list3 == list1)\n",
    "\n",
    "#every 2nd item, starting from index 1\n",
    "print(list3[1::2])\n",
    "\n",
    "#reverse (imutable copy)\n",
    "print(list3[::-1])\n",
    "\n",
    "#reverse (inplace, mutable)\n",
    "list3.reverse()\n",
    "print(list3)\n"
   ]
  },
  {
   "cell_type": "code",
   "execution_count": 73,
   "metadata": {},
   "outputs": [
    {
     "name": "stdout",
     "output_type": "stream",
     "text": [
      "[1, 2, 3, 4] [1, 2, 3, 4]\n",
      "[1, 'a', 'b', 'c', 3, 4] [1, 'a', 'b', 'c', 3, 4]\n",
      "[1, 3, 4] [1, 3, 4]\n",
      "[1, 3, 4, 'a']\n",
      "[1, 3, 4]\n",
      "4\n",
      "[1, 3]\n"
     ]
    }
   ],
   "source": [
    "list4 = [1,2,3,4]\n",
    "\n",
    "list5 = list4\n",
    "\n",
    "print(list4,list5)\n",
    "\n",
    "#replace two items\n",
    "list4[1:2] = ['a','b','c']\n",
    "\n",
    "#both changed, list is mutable\n",
    "print(list4,list5)\n",
    "\n",
    "#remove items\n",
    "list4[1:4] = []\n",
    "print(list4,list5)\n",
    "\n",
    "list4.append('a')\n",
    "print(list4)\n",
    "list4.remove('a')\n",
    "print(list4)\n",
    "\n",
    "\n",
    "print(list4.pop(2))\n",
    "print(list4)"
   ]
  },
  {
   "cell_type": "code",
   "execution_count": 120,
   "metadata": {},
   "outputs": [
    {
     "name": "stdout",
     "output_type": "stream",
     "text": [
      "[['a1', 'a2'], ['b1', 'b2']]\n",
      "[['a1', 'a2'], ['b1', 'b2']] [['a1', 'a2'], ['b1', 'b2']] [['a1', 'a2'], ['b1', 'b2']]\n",
      "[['a1', 'a2', 'a3'], ['b1', 'b2']] [['a1', 'a2', 'a3'], ['b1', 'b2']] [['a1', 'a2'], ['b1', 'b2']]\n",
      "[['a1', 'a2', 'a3']] [['a1', 'a2', 'a3'], ['b1', 'b2']] [['a1', 'a2'], ['b1', 'b2']]\n"
     ]
    },
    {
     "ename": "NameError",
     "evalue": "name 'copy' is not defined",
     "output_type": "error",
     "traceback": [
      "\u001b[0;31m---------------------------------------------------------------------------\u001b[0m",
      "\u001b[0;31mNameError\u001b[0m                                 Traceback (most recent call last)",
      "\u001b[1;32m/com.docker.devenvironments.code/development/l04_datatypes_sequencetypes.ipynb Cell 8\u001b[0m in \u001b[0;36m<cell line: 23>\u001b[0;34m()\u001b[0m\n\u001b[1;32m     <a href='vscode-notebook-cell://attached-container%2B7b22636f6e7461696e65724e616d65223a222f61383733366264343630326530303464663963346363353164346432316135626533393135393361376331316436343030626136353239306436313730363536227d/com.docker.devenvironments.code/development/l04_datatypes_sequencetypes.ipynb#ch0000006vscode-remote?line=19'>20</a>\u001b[0m \u001b[39m#unimports\u001b[39;00m\n\u001b[1;32m     <a href='vscode-notebook-cell://attached-container%2B7b22636f6e7461696e65724e616d65223a222f61383733366264343630326530303464663963346363353164346432316135626533393135393361376331316436343030626136353239306436313730363536227d/com.docker.devenvironments.code/development/l04_datatypes_sequencetypes.ipynb#ch0000006vscode-remote?line=20'>21</a>\u001b[0m \u001b[39mdel\u001b[39;00m copy\n\u001b[0;32m---> <a href='vscode-notebook-cell://attached-container%2B7b22636f6e7461696e65724e616d65223a222f61383733366264343630326530303464663963346363353164346432316135626533393135393361376331316436343030626136353239306436313730363536227d/com.docker.devenvironments.code/development/l04_datatypes_sequencetypes.ipynb#ch0000006vscode-remote?line=22'>23</a>\u001b[0m copy\u001b[39m.\u001b[39mdeepcopy(listab)\n",
      "\u001b[0;31mNameError\u001b[0m: name 'copy' is not defined"
     ]
    }
   ],
   "source": [
    "import copy\n",
    "\n",
    "lista = ['a1','a2']\n",
    "listb = ['b1','b2']\n",
    "listab = [lista, listb]\n",
    "\n",
    "print(listab)\n",
    "\n",
    "listab_shallow = copy.copy(listab)\n",
    "listab_deeo = copy.deepcopy(listab)\n",
    "\n",
    "print(listab, listab_shallow, listab_deeo)\n",
    "\n",
    "lista.append('a3')\n",
    "print(listab, listab_shallow, listab_deeo)\n",
    "\n",
    "listab.pop(1)\n",
    "print(listab, listab_shallow, listab_deeo)\n",
    "\n",
    "#unimports\n",
    "del copy\n",
    "\n",
    "copy.deepcopy(listab)\n"
   ]
  },
  {
   "cell_type": "markdown",
   "metadata": {},
   "source": [
    "TUPLES"
   ]
  },
  {
   "cell_type": "code",
   "execution_count": 91,
   "metadata": {},
   "outputs": [
    {
     "name": "stdout",
     "output_type": "stream",
     "text": [
      "(1, 2, 3) (4, 5, 6)\n",
      "(1, 2, 3, 4, 5, 6)\n",
      "(1, 2, 3, 1)\n"
     ]
    },
    {
     "ename": "TypeError",
     "evalue": "can only concatenate tuple (not \"int\") to tuple",
     "output_type": "error",
     "traceback": [
      "\u001b[0;31m---------------------------------------------------------------------------\u001b[0m",
      "\u001b[0;31mTypeError\u001b[0m                                 Traceback (most recent call last)",
      "\u001b[1;32m/com.docker.devenvironments.code/development/l04_datatypes_sequencetypes.ipynb Cell 8\u001b[0m in \u001b[0;36m<cell line: 16>\u001b[0;34m()\u001b[0m\n\u001b[1;32m     <a href='vscode-notebook-cell://attached-container%2B7b22636f6e7461696e65724e616d65223a222f61383733366264343630326530303464663963346363353164346432316135626533393135393361376331316436343030626136353239306436313730363536227d/com.docker.devenvironments.code/development/l04_datatypes_sequencetypes.ipynb#ch0000007vscode-remote?line=12'>13</a>\u001b[0m \u001b[39mprint\u001b[39m(tupleplus)\n\u001b[1;32m     <a href='vscode-notebook-cell://attached-container%2B7b22636f6e7461696e65724e616d65223a222f61383733366264343630326530303464663963346363353164346432316135626533393135393361376331316436343030626136353239306436313730363536227d/com.docker.devenvironments.code/development/l04_datatypes_sequencetypes.ipynb#ch0000007vscode-remote?line=14'>15</a>\u001b[0m \u001b[39m#this fails:\u001b[39;00m\n\u001b[0;32m---> <a href='vscode-notebook-cell://attached-container%2B7b22636f6e7461696e65724e616d65223a222f61383733366264343630326530303464663963346363353164346432316135626533393135393361376331316436343030626136353239306436313730363536227d/com.docker.devenvironments.code/development/l04_datatypes_sequencetypes.ipynb#ch0000007vscode-remote?line=15'>16</a>\u001b[0m tuple1 \u001b[39m+\u001b[39;49m \u001b[39m1\u001b[39;49m\n",
      "\u001b[0;31mTypeError\u001b[0m: can only concatenate tuple (not \"int\") to tuple"
     ]
    }
   ],
   "source": [
    "tuple1 = (1,2,3)\n",
    "\n",
    "tuple2 = 4,5,6\n",
    "\n",
    "print(tuple1, tuple2)\n",
    "\n",
    "#concat\n",
    "typle3 = tuple1 + tuple2\n",
    "print(typle3)\n",
    "\n",
    "#single element typle\n",
    "tupleplus = tuple1 + (1,)\n",
    "print(tupleplus)\n",
    "\n",
    "#this fails:\n",
    "tuple1 + 1"
   ]
  },
  {
   "cell_type": "code",
   "execution_count": 108,
   "metadata": {},
   "outputs": [
    {
     "name": "stdout",
     "output_type": "stream",
     "text": [
      "first item\n",
      "first:'first item' second:'2' third:'3j'\n"
     ]
    }
   ],
   "source": [
    "tuple4 = 'first item', 2, 3j\n",
    "\n",
    "#unpackaging\n",
    "i1, i2, i3 = tuple4\n",
    "\n",
    "print(i1)\n",
    "\n",
    "print(\"first:'%s' second:'%s' third:'%s'\" % tuple4)"
   ]
  },
  {
   "cell_type": "markdown",
   "metadata": {},
   "source": [
    "RANGE"
   ]
  },
  {
   "cell_type": "code",
   "execution_count": 121,
   "metadata": {},
   "outputs": [
    {
     "name": "stdout",
     "output_type": "stream",
     "text": [
      "[0, 1, 2, 3, 4, 5, 6, 7, 8, 9]\n",
      "[1, 2, 3, 4, 5, 6, 7, 8, 9]\n",
      "[10, 7, 4]\n"
     ]
    }
   ],
   "source": [
    "r1 = range(10)\n",
    "\n",
    "print(list(r1))\n",
    "\n",
    "print(list(range(1,10,1)))\n",
    "print(list(range(10,1,-3)))"
   ]
  },
  {
   "cell_type": "markdown",
   "metadata": {},
   "source": [
    "DICTIONARY"
   ]
  },
  {
   "cell_type": "code",
   "execution_count": 158,
   "metadata": {},
   "outputs": [
    {
     "name": "stdout",
     "output_type": "stream",
     "text": [
      "{1: 'A', 2: 'B', 3: 'C'}\n"
     ]
    }
   ],
   "source": [
    "letters = {1:'A',2:'B',3:'C'}\n",
    "\n",
    "print(letters)"
   ]
  },
  {
   "cell_type": "code",
   "execution_count": 154,
   "metadata": {},
   "outputs": [
    {
     "name": "stdout",
     "output_type": "stream",
     "text": [
      "A\n",
      "A\n",
      "None\n"
     ]
    },
    {
     "ename": "KeyError",
     "evalue": "22",
     "output_type": "error",
     "traceback": [
      "\u001b[0;31m---------------------------------------------------------------------------\u001b[0m",
      "\u001b[0;31mKeyError\u001b[0m                                  Traceback (most recent call last)",
      "\u001b[1;32m/com.docker.devenvironments.code/development/l04_datatypes_sequencetypes.ipynb Cell 16\u001b[0m in \u001b[0;36m<cell line: 5>\u001b[0;34m()\u001b[0m\n\u001b[1;32m      <a href='vscode-notebook-cell://attached-container%2B7b22636f6e7461696e65724e616d65223a222f61383733366264343630326530303464663963346363353164346432316135626533393135393361376331316436343030626136353239306436313730363536227d/com.docker.devenvironments.code/development/l04_datatypes_sequencetypes.ipynb#ch0000025vscode-remote?line=1'>2</a>\u001b[0m \u001b[39mprint\u001b[39m(letters\u001b[39m.\u001b[39mget(\u001b[39m1\u001b[39m))\n\u001b[1;32m      <a href='vscode-notebook-cell://attached-container%2B7b22636f6e7461696e65724e616d65223a222f61383733366264343630326530303464663963346363353164346432316135626533393135393361376331316436343030626136353239306436313730363536227d/com.docker.devenvironments.code/development/l04_datatypes_sequencetypes.ipynb#ch0000025vscode-remote?line=3'>4</a>\u001b[0m \u001b[39mprint\u001b[39m(letters\u001b[39m.\u001b[39mget(\u001b[39m22\u001b[39m))   \u001b[39m#None\u001b[39;00m\n\u001b[0;32m----> <a href='vscode-notebook-cell://attached-container%2B7b22636f6e7461696e65724e616d65223a222f61383733366264343630326530303464663963346363353164346432316135626533393135393361376331316436343030626136353239306436313730363536227d/com.docker.devenvironments.code/development/l04_datatypes_sequencetypes.ipynb#ch0000025vscode-remote?line=4'>5</a>\u001b[0m \u001b[39mprint\u001b[39m(letters[\u001b[39m22\u001b[39;49m])\n",
      "\u001b[0;31mKeyError\u001b[0m: 22"
     ]
    }
   ],
   "source": [
    "print(letters[1])\n",
    "print(letters.get(1))\n",
    "\n",
    "print(letters.get(22))   #None\n",
    "print(letters[22])       #Error\n",
    "\n"
   ]
  },
  {
   "cell_type": "code",
   "execution_count": 178,
   "metadata": {},
   "outputs": [
    {
     "name": "stdout",
     "output_type": "stream",
     "text": [
      "A\n",
      "{2: 'B', 3: 'C'}\n"
     ]
    },
    {
     "ename": "KeyError",
     "evalue": "1",
     "output_type": "error",
     "traceback": [
      "\u001b[0;31m---------------------------------------------------------------------------\u001b[0m",
      "\u001b[0;31mKeyError\u001b[0m                                  Traceback (most recent call last)",
      "\u001b[1;32m/com.docker.devenvironments.code/development/l04_datatypes_sequencetypes.ipynb Cell 17\u001b[0m in \u001b[0;36m<cell line: 5>\u001b[0;34m()\u001b[0m\n\u001b[1;32m      <a href='vscode-notebook-cell://attached-container%2B7b22636f6e7461696e65724e616d65223a222f61383733366264343630326530303464663963346363353164346432316135626533393135393361376331316436343030626136353239306436313730363536227d/com.docker.devenvironments.code/development/l04_datatypes_sequencetypes.ipynb#ch0000026vscode-remote?line=1'>2</a>\u001b[0m \u001b[39mprint\u001b[39m(letters2\u001b[39m.\u001b[39mpop(\u001b[39m1\u001b[39m))\n\u001b[1;32m      <a href='vscode-notebook-cell://attached-container%2B7b22636f6e7461696e65724e616d65223a222f61383733366264343630326530303464663963346363353164346432316135626533393135393361376331316436343030626136353239306436313730363536227d/com.docker.devenvironments.code/development/l04_datatypes_sequencetypes.ipynb#ch0000026vscode-remote?line=2'>3</a>\u001b[0m \u001b[39mprint\u001b[39m(letters2)\n\u001b[0;32m----> <a href='vscode-notebook-cell://attached-container%2B7b22636f6e7461696e65724e616d65223a222f61383733366264343630326530303464663963346363353164346432316135626533393135393361376331316436343030626136353239306436313730363536227d/com.docker.devenvironments.code/development/l04_datatypes_sequencetypes.ipynb#ch0000026vscode-remote?line=4'>5</a>\u001b[0m \u001b[39mprint\u001b[39m(letters2\u001b[39m.\u001b[39;49mpop(\u001b[39m1\u001b[39;49m))\n",
      "\u001b[0;31mKeyError\u001b[0m: 1"
     ]
    }
   ],
   "source": [
    "letters2 = {1:'A',2:'B',3:'C'}\n",
    "print(letters2.pop(1))\n",
    "print(letters2)\n",
    "\n",
    "print(letters2.pop(1))  #error... does not exist (removed above)"
   ]
  },
  {
   "cell_type": "code",
   "execution_count": 179,
   "metadata": {},
   "outputs": [
    {
     "name": "stdout",
     "output_type": "stream",
     "text": [
      "{1: 'A', 2: 'B'}\n",
      "{'first': 'A', 'second': 'B'}\n",
      "B\n",
      "{'k1': 'first', 'k2': 'second'}\n",
      "first\n",
      "None\n",
      "{(1, 'A'): 'first', 'two words': 'second'}\n",
      "first\n",
      "first\n",
      "None\n"
     ]
    }
   ],
   "source": [
    "items_v1 = dict( [(1,'A'), (2,'B')] )\n",
    "print(items_v1)\n",
    "\n",
    "items_v2 = dict(first='A', second='B')\n",
    "print(items_v2)\n",
    "print(items_v2.get('second'))\n",
    "\n",
    "k1 = (1,'A')\n",
    "k2 = \"two words\"\n",
    "items_v3 = dict(k1 = 'first', k2 = 'second')\n",
    "print(items_v3)\n",
    "print(items_v3.get('k1'))\n",
    "print(items_v3.get(k1))\n",
    "\n",
    "\n",
    "items_v4 = {k1:'first', k2:'second'}\n",
    "print(items_v4)\n",
    "print(items_v4.get((1,'A')))\n",
    "print(items_v4.get(k1))\n",
    "print(items_v4.get('k1'))\n"
   ]
  },
  {
   "cell_type": "code",
   "execution_count": 1,
   "metadata": {},
   "outputs": [
    {
     "name": "stdout",
     "output_type": "stream",
     "text": [
      "dict_keys([1, 2, 3])\n",
      "dict_values(['A', 'B', 'C'])\n",
      "dict_items([(1, 'A'), (2, 'B'), (3, 'C')])\n"
     ]
    }
   ],
   "source": [
    "letters5 = {1:'A',2:'B',3:'C'}\n",
    "print(letters5.keys())\n",
    "print(letters5.values())\n",
    "print(letters5.items())"
   ]
  },
  {
   "cell_type": "markdown",
   "metadata": {},
   "source": [
    "sets"
   ]
  },
  {
   "cell_type": "code",
   "execution_count": 3,
   "metadata": {},
   "outputs": [
    {
     "data": {
      "text/plain": [
       "{1, 2, 3}"
      ]
     },
     "execution_count": 3,
     "metadata": {},
     "output_type": "execute_result"
    }
   ],
   "source": [
    "myset = {1,2,3,1,2,3,1,2,3}\n",
    "myset"
   ]
  }
 ],
 "metadata": {
  "kernelspec": {
   "display_name": "Python 3.7.3 ('development-b1-6O1J9')",
   "language": "python",
   "name": "python3"
  },
  "language_info": {
   "codemirror_mode": {
    "name": "ipython",
    "version": 3
   },
   "file_extension": ".py",
   "mimetype": "text/x-python",
   "name": "python",
   "nbconvert_exporter": "python",
   "pygments_lexer": "ipython3",
   "version": "3.7.3"
  },
  "orig_nbformat": 4,
  "vscode": {
   "interpreter": {
    "hash": "55c63a307cecc8cb5083561638c6a4d53491e621c5fe83983b21ffb702283f46"
   }
  }
 },
 "nbformat": 4,
 "nbformat_minor": 2
}
