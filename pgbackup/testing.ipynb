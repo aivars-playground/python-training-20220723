{
 "cells": [
  {
   "cell_type": "markdown",
   "metadata": {},
   "source": [
    "TESTING\n",
    "=======\n",
    "\n",
    "load all packages in ./src from command line\n",
    "\n",
    "```\n",
    "$ PYTHONPATH=./src python\n",
    ">>> from pgbackup import pgdump\n",
    "```\n"
   ]
  },
  {
   "cell_type": "code",
   "execution_count": 1,
   "metadata": {},
   "outputs": [],
   "source": [
    "#WORKAROUND: load all packages in ./src from jupyter notebook\n",
    "\n",
    "# import sys\n",
    "\n",
    "# sources_path = './src'\n",
    "# sys.path.append(sources_path)\n",
    "\n",
    "%load_ext autoreload\n",
    "%autoreload 2"
   ]
  },
  {
   "cell_type": "markdown",
   "metadata": {},
   "source": [
    "TEST: cli (command-line parser)"
   ]
  },
  {
   "cell_type": "code",
   "execution_count": 11,
   "metadata": {},
   "outputs": [
    {
     "name": "stdout",
     "output_type": "stream",
     "text": [
      "Namespace(url='example.com', driver='s3', destination='bucket')\n"
     ]
    }
   ],
   "source": [
    "from pgbackup import cli\n",
    "\n",
    "parser = cli.create_parser()\n",
    "args = parser.parse_args(['example.com','--d','s3','bucket'])\n",
    "print(args)"
   ]
  },
  {
   "cell_type": "markdown",
   "metadata": {},
   "source": [
    "TEST: pgdump (interaction with postgres pg_dump tool)"
   ]
  },
  {
   "cell_type": "code",
   "execution_count": 12,
   "metadata": {},
   "outputs": [
    {
     "data": {
      "text/plain": [
       "56743"
      ]
     },
     "execution_count": 12,
     "metadata": {},
     "output_type": "execute_result"
    }
   ],
   "source": [
    "from pgbackup import pgdump\n",
    "\n",
    "postgres_url = input(\"INPUT: postgres_url\")\n",
    "\n",
    "dump = pgdump.dump(postgres_url)\n",
    "\n",
    "f = open('./.ignoreme/dump.sql', 'w+b')\n",
    "f.write(dump.stdout.read())"
   ]
  },
  {
   "cell_type": "markdown",
   "metadata": {},
   "source": [
    "storage test"
   ]
  },
  {
   "cell_type": "code",
   "execution_count": 6,
   "metadata": {},
   "outputs": [],
   "source": [
    "#local backup\n",
    "from pgbackup import storage\n",
    "infile = open('./.ignoreme/dump.sql', 'r')\n",
    "local_out = open('./.ignoreme/local_dump.sql', 'w')\n",
    "storage.local(infile, local_out)"
   ]
  },
  {
   "cell_type": "code",
   "execution_count": 2,
   "metadata": {},
   "outputs": [],
   "source": [
    "aws_access_key = input(\"aws_access_key\")\n",
    "aws_secret_key = input(\"aws_secret_key\")\n",
    "aws_s3_bucket_name = input(\"aws_s3_bucket_name\")"
   ]
  },
  {
   "cell_type": "code",
   "execution_count": 4,
   "metadata": {},
   "outputs": [],
   "source": [
    "#s3 backup\n",
    "\n",
    "from pgbackup import storage\n",
    "\n",
    "import boto3\n",
    "\n",
    "session = boto3.Session(\n",
    "    aws_access_key_id=aws_access_key,\n",
    "    aws_secret_access_key=aws_secret_key\n",
    ")\n",
    "s3client = session.client('s3')\n",
    "\n",
    "infile = open('.ignoreme/dump.sql', 'rb')\n",
    "\n",
    "storage.s3(s3client,infile,aws_s3_bucket_name,infile.name)\n",
    "\n"
   ]
  },
  {
   "cell_type": "code",
   "execution_count": null,
   "metadata": {},
   "outputs": [],
   "source": []
  }
 ],
 "metadata": {
  "kernelspec": {
   "display_name": "Python 3.9.12 ('base')",
   "language": "python",
   "name": "python3"
  },
  "language_info": {
   "codemirror_mode": {
    "name": "ipython",
    "version": 3
   },
   "file_extension": ".py",
   "mimetype": "text/x-python",
   "name": "python",
   "nbconvert_exporter": "python",
   "pygments_lexer": "ipython3",
   "version": "3.9.12"
  },
  "orig_nbformat": 4,
  "vscode": {
   "interpreter": {
    "hash": "63aeac27475015421e7df4e5c314eed8df35753dad26edf7debfb8ba47789dce"
   }
  }
 },
 "nbformat": 4,
 "nbformat_minor": 2
}
