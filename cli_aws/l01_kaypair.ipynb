{
 "cells": [
  {
   "cell_type": "code",
   "execution_count": null,
   "metadata": {
    "vscode": {
     "languageId": "shellscript"
    }
   },
   "outputs": [],
   "source": [
    "%%bash\n",
    "aws ec2 create-key-pair --key-format pem --key-name mykey"
   ]
  },
  {
   "cell_type": "markdown",
   "metadata": {},
   "source": [
    "save key .ignoreme/mykey.pem\n",
    "chmod  400  .ignoreme/mykey.pem\n",
    "\n",
    "\n",
    "ssh -i .ignoreme/mykey.pem ec2-user@ec2-<server>.compute-1.amazonaws.com\n"
   ]
  }
 ],
 "metadata": {
  "kernelspec": {
   "display_name": "Python 3.10.6 ('.venv': pipenv)",
   "language": "python",
   "name": "python3"
  },
  "language_info": {
   "codemirror_mode": {
    "name": "ipython",
    "version": 3
   },
   "file_extension": ".py",
   "mimetype": "text/x-python",
   "name": "python",
   "nbconvert_exporter": "python",
   "pygments_lexer": "ipython3",
   "version": "3.10.6"
  },
  "orig_nbformat": 4,
  "vscode": {
   "interpreter": {
    "hash": "76e716434f087fc0f6e34d59567e0cdb3812ab545e363ca999a4ee7dbd81c5c2"
   }
  }
 },
 "nbformat": 4,
 "nbformat_minor": 2
}
