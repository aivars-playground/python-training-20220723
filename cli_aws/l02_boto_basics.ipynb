{
 "cells": [
  {
   "cell_type": "code",
   "execution_count": null,
   "metadata": {},
   "outputs": [],
   "source": [
    "import boto3\n",
    "\n",
    "ec2 = boto3.client('ec2')\n",
    "\n",
    "responsse = ec2.run_instances(\n",
    "    ImageId='ami-090fa75af13c156b4',\n",
    "    InstanceType='t2.micro',\n",
    "    KeyName='mykey',            #generated in aws\n",
    "    MaxCount=3,\n",
    "    MinCount=2,\n",
    "    NetworkInterfaces=[\n",
    "        {\n",
    "            'DeviceIndex': 0,\n",
    "            'Groups': ['sg-0c8ea921e1703dcf7'],\n",
    "            'SubnetId': 'subnet-0b122108cce47ba71'\n",
    "        }\n",
    "    ]\n",
    ")\n",
    "\n",
    "print(responsse)"
   ]
  },
  {
   "cell_type": "markdown",
   "metadata": {},
   "source": [
    "```bash\n",
    "aws ec2 run-instances \\\n",
    "    --image-id=ami-090fa75af13c156b4 \\\n",
    "    --instance-type=t2.micro \\\n",
    "    --key-name=mykey \\\n",
    "    --count=2:3\n",
    "```"
   ]
  }
 ],
 "metadata": {
  "kernelspec": {
   "display_name": "Python 3.10.6 ('.venv': pipenv)",
   "language": "python",
   "name": "python3"
  },
  "language_info": {
   "codemirror_mode": {
    "name": "ipython",
    "version": 3
   },
   "file_extension": ".py",
   "mimetype": "text/x-python",
   "name": "python",
   "nbconvert_exporter": "python",
   "pygments_lexer": "ipython3",
   "version": "3.10.6"
  },
  "orig_nbformat": 4,
  "vscode": {
   "interpreter": {
    "hash": "76e716434f087fc0f6e34d59567e0cdb3812ab545e363ca999a4ee7dbd81c5c2"
   }
  }
 },
 "nbformat": 4,
 "nbformat_minor": 2
}
