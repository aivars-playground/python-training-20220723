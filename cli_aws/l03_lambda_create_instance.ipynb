{
 "cells": [
  {
   "cell_type": "markdown",
   "metadata": {},
   "source": [
    "Lambda to create instance\n",
    "-------------------------\n",
    "\n",
    "Lambda > Create\n",
    "\n",
    "code\n",
    "\n",
    "```py\n",
    "import os\n",
    "import boto3\n",
    "\n",
    "AMI = os.environ[\"AMI\"]\n",
    "INSTANCE_TYPE = os.environ[\"INSTANCE_TYPE\"]\n",
    "KEY_NAME = os.environ[\"KEY_NAME\"]\n",
    "SUBNET_ID = os.environ[\"SUBNET_ID\"]\n",
    "\n",
    "ec2 = boto3.resource(\"ec2\")\n",
    "\n",
    "def lambda_handler(event, context):\n",
    "    \n",
    "    instance = ec2.create_instances(\n",
    "        ImageId=AMI,\n",
    "        InstanceType=INSTANCE_TYPE,\n",
    "        KeyName=KEY_NAME,\n",
    "        SubnetId=SUBNET_ID,\n",
    "        MaxCount=1,\n",
    "        MinCount=1,    \n",
    "    )\n",
    "    \n",
    "    print(\"Instance Created\", instance[0])\n",
    "\n",
    "```"
   ]
  },
  {
   "cell_type": "markdown",
   "metadata": {},
   "source": [
    "edit policy to allow creating ec2\n",
    "```json\n",
    "{\n",
    "    \"Version\": \"2012-10-17\",\n",
    "    \"Statement\": [\n",
    "        {\n",
    "            \"Effect\": \"Allow\",\n",
    "            \"Action\": [\n",
    "                \"logs:CreateLogGroup\",\n",
    "                \"logs:CreateLogStream\",\n",
    "                \"logs:PutLogEvents\"\n",
    "            ],\n",
    "            \"Resource\": \"arn:aws:logs:*:*:*\"\n",
    "        },\n",
    "        {\n",
    "            \"Effect\": \"Allow\",\n",
    "            \"Action\": [\n",
    "                \"ec2:RunInstances\"\n",
    "            ],\n",
    "            \"Resource\": [\n",
    "                \"*\"\n",
    "            ]\n",
    "        }\n",
    "    ]\n",
    "}\n",
    "```"
   ]
  },
  {
   "cell_type": "markdown",
   "metadata": {},
   "source": [
    "add env values to lambda\n",
    "```csv\n",
    "AMI,ami-090fa75af13c156b4  \n",
    "INSTANCE_TYPE,t2.micro  \n",
    "KEY_NAME,mykey\n",
    "SUBNET_ID,<actual value>\n",
    "```"
   ]
  }
 ],
 "metadata": {
  "kernelspec": {
   "display_name": "Python 3.10.6 ('.venv': pipenv)",
   "language": "python",
   "name": "python3"
  },
  "language_info": {
   "codemirror_mode": {
    "name": "ipython",
    "version": 3
   },
   "file_extension": ".py",
   "mimetype": "text/x-python",
   "name": "python",
   "nbconvert_exporter": "python",
   "pygments_lexer": "ipython3",
   "version": "3.10.6"
  },
  "orig_nbformat": 4,
  "vscode": {
   "interpreter": {
    "hash": "76e716434f087fc0f6e34d59567e0cdb3812ab545e363ca999a4ee7dbd81c5c2"
   }
  }
 },
 "nbformat": 4,
 "nbformat_minor": 2
}
